{
 "cells": [
  {
   "cell_type": "code",
   "execution_count": 1,
   "metadata": {},
   "outputs": [
    {
     "name": "stderr",
     "output_type": "stream",
     "text": [
      "c:\\Users\\denis\\miniconda3\\envs\\pypsa-earth\\lib\\site-packages\\pypsa\\components.py:374: FutureWarning:\n",
      "\n",
      "iteritems is deprecated and will be removed in a future version. Use .items instead.\n",
      "\n",
      "c:\\Users\\denis\\miniconda3\\envs\\pypsa-earth\\lib\\site-packages\\pypsa\\components.py:374: FutureWarning:\n",
      "\n",
      "iteritems is deprecated and will be removed in a future version. Use .items instead.\n",
      "\n",
      "c:\\Users\\denis\\miniconda3\\envs\\pypsa-earth\\lib\\site-packages\\pypsa\\components.py:374: FutureWarning:\n",
      "\n",
      "iteritems is deprecated and will be removed in a future version. Use .items instead.\n",
      "\n",
      "c:\\Users\\denis\\miniconda3\\envs\\pypsa-earth\\lib\\site-packages\\pypsa\\components.py:374: FutureWarning:\n",
      "\n",
      "iteritems is deprecated and will be removed in a future version. Use .items instead.\n",
      "\n",
      "c:\\Users\\denis\\miniconda3\\envs\\pypsa-earth\\lib\\site-packages\\pypsa\\components.py:374: FutureWarning:\n",
      "\n",
      "iteritems is deprecated and will be removed in a future version. Use .items instead.\n",
      "\n",
      "c:\\Users\\denis\\miniconda3\\envs\\pypsa-earth\\lib\\site-packages\\pypsa\\components.py:374: FutureWarning:\n",
      "\n",
      "iteritems is deprecated and will be removed in a future version. Use .items instead.\n",
      "\n",
      "c:\\Users\\denis\\miniconda3\\envs\\pypsa-earth\\lib\\site-packages\\pypsa\\components.py:374: FutureWarning:\n",
      "\n",
      "iteritems is deprecated and will be removed in a future version. Use .items instead.\n",
      "\n",
      "c:\\Users\\denis\\miniconda3\\envs\\pypsa-earth\\lib\\site-packages\\pypsa\\components.py:374: FutureWarning:\n",
      "\n",
      "iteritems is deprecated and will be removed in a future version. Use .items instead.\n",
      "\n",
      "c:\\Users\\denis\\miniconda3\\envs\\pypsa-earth\\lib\\site-packages\\pypsa\\components.py:374: FutureWarning:\n",
      "\n",
      "iteritems is deprecated and will be removed in a future version. Use .items instead.\n",
      "\n",
      "c:\\Users\\denis\\miniconda3\\envs\\pypsa-earth\\lib\\site-packages\\pypsa\\components.py:374: FutureWarning:\n",
      "\n",
      "iteritems is deprecated and will be removed in a future version. Use .items instead.\n",
      "\n",
      "c:\\Users\\denis\\miniconda3\\envs\\pypsa-earth\\lib\\site-packages\\pypsa\\components.py:374: FutureWarning:\n",
      "\n",
      "iteritems is deprecated and will be removed in a future version. Use .items instead.\n",
      "\n",
      "c:\\Users\\denis\\miniconda3\\envs\\pypsa-earth\\lib\\site-packages\\pypsa\\components.py:374: FutureWarning:\n",
      "\n",
      "iteritems is deprecated and will be removed in a future version. Use .items instead.\n",
      "\n",
      "c:\\Users\\denis\\miniconda3\\envs\\pypsa-earth\\lib\\site-packages\\pypsa\\components.py:374: FutureWarning:\n",
      "\n",
      "iteritems is deprecated and will be removed in a future version. Use .items instead.\n",
      "\n",
      "c:\\Users\\denis\\miniconda3\\envs\\pypsa-earth\\lib\\site-packages\\pypsa\\components.py:374: FutureWarning:\n",
      "\n",
      "iteritems is deprecated and will be removed in a future version. Use .items instead.\n",
      "\n",
      "c:\\Users\\denis\\miniconda3\\envs\\pypsa-earth\\lib\\site-packages\\pypsa\\components.py:485: FutureWarning:\n",
      "\n",
      "iteritems is deprecated and will be removed in a future version. Use .items instead.\n",
      "\n"
     ]
    }
   ],
   "source": [
    "import pypsa\n",
    "import pandas as pd\n",
    "import xarray as xr\n",
    "import matplotlib.pyplot as plt\n",
    "\n",
    "n=pypsa.Network()\n",
    "\n",
    "#Snapshots\n",
    "n.set_snapshots(value=pd.date_range(freq=\"h\", start=\"2013-01-01\", end=\"2014-01-01\", inclusive='left'))\n",
    "n.snapshot_weightings[:] *= 8760.0 / n.snapshot_weightings.sum()\n",
    "Nyears = n.snapshot_weightings.objective.sum() / 8760.0"
   ]
  },
  {
   "cell_type": "code",
   "execution_count": 2,
   "metadata": {},
   "outputs": [
    {
     "data": {
      "text/html": [
       "<div>\n",
       "<style scoped>\n",
       "    .dataframe tbody tr th:only-of-type {\n",
       "        vertical-align: middle;\n",
       "    }\n",
       "\n",
       "    .dataframe tbody tr th {\n",
       "        vertical-align: top;\n",
       "    }\n",
       "\n",
       "    .dataframe thead th {\n",
       "        text-align: right;\n",
       "    }\n",
       "</style>\n",
       "<table border=\"1\" class=\"dataframe\">\n",
       "  <thead>\n",
       "    <tr style=\"text-align: right;\">\n",
       "      <th></th>\n",
       "      <th>x</th>\n",
       "      <th>y</th>\n",
       "      <th>carrier</th>\n",
       "      <th>v_nom</th>\n",
       "      <th>type</th>\n",
       "      <th>unit</th>\n",
       "      <th>v_mag_pu_set</th>\n",
       "      <th>v_mag_pu_min</th>\n",
       "      <th>v_mag_pu_max</th>\n",
       "      <th>control</th>\n",
       "      <th>sub_network</th>\n",
       "    </tr>\n",
       "    <tr>\n",
       "      <th>Bus</th>\n",
       "      <th></th>\n",
       "      <th></th>\n",
       "      <th></th>\n",
       "      <th></th>\n",
       "      <th></th>\n",
       "      <th></th>\n",
       "      <th></th>\n",
       "      <th></th>\n",
       "      <th></th>\n",
       "      <th></th>\n",
       "      <th></th>\n",
       "    </tr>\n",
       "  </thead>\n",
       "  <tbody>\n",
       "    <tr>\n",
       "      <th>onebus</th>\n",
       "      <td>0.1</td>\n",
       "      <td>0.2</td>\n",
       "      <td>AC</td>\n",
       "      <td>20.0</td>\n",
       "      <td></td>\n",
       "      <td>None</td>\n",
       "      <td>1.0</td>\n",
       "      <td>0.0</td>\n",
       "      <td>inf</td>\n",
       "      <td>PQ</td>\n",
       "      <td></td>\n",
       "    </tr>\n",
       "  </tbody>\n",
       "</table>\n",
       "</div>"
      ],
      "text/plain": [
       "          x    y carrier  v_nom type  unit  v_mag_pu_set  v_mag_pu_min  \\\n",
       "Bus                                                                      \n",
       "onebus  0.1  0.2      AC   20.0       None           1.0           0.0   \n",
       "\n",
       "        v_mag_pu_max control sub_network  \n",
       "Bus                                       \n",
       "onebus           inf      PQ              "
      ]
     },
     "execution_count": 2,
     "metadata": {},
     "output_type": "execute_result"
    }
   ],
   "source": [
    "#I create the bus \n",
    "\n",
    "n.madd(\"Bus\", [\"onebus\"], x=0.1, y=0.2, carrier=\"AC\", v_nom=20)\n",
    "\n",
    "n.buses"
   ]
  },
  {
   "cell_type": "code",
   "execution_count": 3,
   "metadata": {},
   "outputs": [],
   "source": [
    "\n",
    "# # #I import a time series for generation \n",
    "\n",
    "# with xr.open_dataset(r'C:\\Users\\denis\\OneDrive\\Desktop\\Mini grids\\pypsa-distribution\\time_series\\Generation_timeseries\\profile_solar.nc') as ds:\n",
    "\n",
    "#     solar=ds[\"profile\"].transpose(\"time\", \"bus\").to_pandas()\n",
    "\n",
    "# #I take just the first column(one bus)\n",
    "\n",
    "# solar=solar.iloc[:,0:1]\n",
    "# solar=solar.reindex(n.snapshots)\n",
    "# #print(solar)\n",
    "\n",
    "#I connect a generator to the bus \"onebus\"\n",
    "# buses=range(1)\n",
    "\n",
    "#n.madd(\"Generator\", buses, suffix = ' solar', bus = \"onebus\", p_nom_extendable=True, p_nom_max=350, p_nom_min=280, p_max_pu=solar, p_nom=300, p_set=solar,  marginal_cost=0.001, capital_cost=400)\n",
    "\n",
    "\n",
    "# # p_nom=1000,  p_nom_extendable=True, carrier=\"solar\", capital_cost=400, efficiency=0.3, marginal_cost=0.001)"
   ]
  },
  {
   "cell_type": "code",
   "execution_count": 4,
   "metadata": {},
   "outputs": [
    {
     "name": "stdout",
     "output_type": "stream",
     "text": [
      "{'version': '0.0.2', 'tutorial': True, 'logging': {'level': 'INFO', 'format': '%(levelname)s:%(name)s:%(message)s'}, 'scenario': {'simpl': [''], 'll': ['copt'], 'clusters': [6], 'opts': ['Co2L-4H']}, 'countries': ['NG', 'BJ'], 'summary_dir': 'results', 'snapshots': {'start': '2013-03-1', 'end': '2013-03-7', 'inclusive': 'left'}, 'enable': {'retrieve_databundle': True, 'download_osm_data': False, 'build_cutout': True, 'build_natura_raster': True}, 'crs': {'geo_crs': 'EPSG:4326', 'distance_crs': 'EPSG:3857', 'area_crs': 'ESRI:54009'}, 'retrieve_databundle': {'show_progress': True}, 'augmented_line_connection': {'add_to_snakefile': False, 'connectivity_upgrade': 2, 'new_line_type': ['HVAC'], 'min_expansion': 1, 'min_DC_length': 600}, 'cluster_options': {'alternative_clustering': False, 'distribute_cluster': ['load'], 'out_logging': True, 'aggregation_strategies': {'generators': {'p_nom': 'sum', 'p_nom_max': 'sum', 'p_nom_min': 'sum', 'p_min_pu': 'mean', 'marginal_cost': 'mean', 'committable': 'any', 'ramp_limit_up': 'max', 'ramp_limit_down': 'max', 'efficiency': 'mean'}}}, 'build_shape_options': {'gadm_layer_id': 1, 'update_file': False, 'out_logging': True, 'year': 2020, 'nprocesses': 5, 'worldpop_method': 'standard', 'gdp_method': 'standard'}, 'clean_osm_data_options': {'names_by_shapes': True, 'threshold_voltage': 35000, 'tag_substation': 'transmission', 'add_line_endings': True, 'generator_name_method': 'OSM'}, 'build_osm_network': {'group_close_buses': True, 'group_tolerance_buses': 500, 'split_overpassing_lines': True, 'overpassing_lines_tolerance': 1}, 'base_network': {'min_voltage_substation_offshore': 35000, 'min_voltage_rebase_voltage': 35000}, 'load_options': {'ssp': 'ssp2-2.6', 'weather_year': 2013, 'prediction_year': 2030, 'scale': 1}, 'electricity': {'voltages': [220.0, 300.0, 380.0], 'co2limit': 1487000000.0, 'co2base': 1487000000.0, 'agg_p_nom_limits': 'data/agg_p_nom_minmax.csv', 'hvdc_as_lines': False, 'operational_reserve': {'activate': False, 'epsilon_load': 0.02, 'epsilon_vres': 0.02, 'contingency': 0}, 'max_hours': {'battery': 6, 'H2': 168}, 'extendable_carriers': {'Generator': ['solar', 'onwind', 'offwind-ac', 'offwind-dc', 'OCGT'], 'StorageUnit': [], 'Store': ['battery', 'H2'], 'Link': []}, 'powerplants_filter': '(DateOut >= 2022 or DateOut != DateOut)', 'custom_powerplants': False, 'conventional_carriers': ['nuclear', 'oil', 'OCGT', 'CCGT', 'coal', 'lignite', 'geothermal', 'biomass'], 'renewable_carriers': ['solar', 'onwind', 'offwind-ac', 'offwind-dc', 'hydro'], 'estimate_renewable_capacities': {'stats': 'irena', 'year': 2020, 'p_nom_min': 1, 'p_nom_max': False, 'technology_mapping': {'Offshore': ['offwind-ac', 'offwind-dc'], 'Onshore': ['onwind'], 'PV': ['solar']}}}, 'lines': {'types': {220.0: 'Al/St 240/40 2-bundle 220.0', 300.0: 'Al/St 240/40 3-bundle 300.0', 380.0: 'Al/St 240/40 4-bundle 380.0'}, 'dc_type': 'DC_custom_linetype', 's_max_pu': 0.7, 's_nom_max': inf, 'length_factor': 1.25, 'under_construction': 'zero'}, 'links': {'p_max_pu': 1.0, 'p_nom_max': inf, 'include_tyndp': True, 'under_construction': 'zero'}, 'transformers': {'x': 0.1, 's_nom': 2000.0, 'type': ''}, 'atlite': {'nprocesses': 4, 'cutouts': {'africa-2013-era5-tutorial': {'module': 'era5', 'dx': 0.3, 'dy': 0.3}}}, 'renewable': {'onwind': {'cutout': 'africa-2013-era5-tutorial', 'resource': {'method': 'wind', 'turbine': 'Vestas_V112_3MW'}, 'capacity_per_sqkm': 3, 'copernicus': {'grid_codes': [20, 30, 40, 60, 100, 111, 112, 113, 114, 115, 116, 121, 122, 123, 124, 125, 126], 'distance': 1000, 'distance_grid_codes': [50]}, 'natura': True, 'potential': 'simple', 'clip_p_max_pu': 0.01, 'extendable': True}, 'solar': {'cutout': 'africa-2013-era5-tutorial', 'resource': {'method': 'pv', 'panel': 'CSi', 'orientation': 'latitude_optimal'}, 'capacity_per_sqkm': 4.6, 'correction_factor': 0.854337, 'copernicus': {'grid_codes': [20, 30, 40, 50, 60, 90, 100]}, 'natura': True, 'potential': 'simple', 'clip_p_max_pu': 0.01, 'extendable': True}}, 'costs': {'year': 2030, 'discountrate': 0.07, 'USD2013_to_EUR2013': 0.7532, 'marginal_cost': {'solar': 0.01, 'onwind': 0.015, 'offwind': 0.015, 'hydro': 0.0, 'H2': 0.0, 'electrolysis': 0.0, 'fuel cell': 0.0, 'battery': 0.0, 'battery inverter': 0.0}, 'emission_prices': {'co2': 0.0}}, 'monte_carlo': {'options': {'add_to_snakefile': False, 'samples': 7, 'sampling_strategy': 'chaospy'}, 'pypsa_standard': {'loads_t.p_set': [0.9, 1.1], 'generators_t.p_max_pu.loc[:, n.generators.carrier == \"wind\"]': [0.9, 1.1], 'generators_t.p_max_pu.loc[:, n.generators.carrier == \"solar\"]': [0.9, 1.1]}}, 'solving': {'options': {'formulation': 'kirchhoff', 'load_shedding': True, 'noisy_costs': True, 'min_iterations': 4, 'max_iterations': 6, 'clip_p_max_pu': 0.01, 'skip_iterations': True, 'track_iterations': False}, 'solver': {'name': 'glpk'}}, 'plotting': {'map': {'figsize': [7, 7], 'boundaries': [-10.2, 29, 35, 72], 'p_nom': {'bus_size_factor': 50000.0, 'linewidth_factor': 3000.0}}, 'costs_max': 800, 'costs_threshold': 1, 'energy_max': 15000.0, 'energy_min': -10000.0, 'energy_threshold': 50.0, 'vre_techs': ['onwind', 'offwind-ac', 'offwind-dc', 'solar', 'ror'], 'conv_techs': ['OCGT', 'CCGT', 'nuclear', 'coal', 'oil'], 'storage_techs': ['hydro+PHS', 'battery', 'H2'], 'load_carriers': ['AC load'], 'AC_carriers': ['AC line', 'AC transformer'], 'link_carriers': ['DC line', 'Converter AC-DC'], 'tech_colors': {'onwind': '#235ebc', 'onshore wind': '#235ebc', 'offwind': '#6895dd', 'offwind-ac': '#6895dd', 'offshore wind': '#6895dd', 'offshore wind ac': '#6895dd', 'offwind-dc': '#74c6f2', 'offshore wind dc': '#74c6f2', 'hydro': '#08ad97', 'hydro+PHS': '#08ad97', 'PHS': '#08ad97', 'hydro reservoir': '#08ad97', 'hydroelectricity': '#08ad97', 'ror': '#4adbc8', 'run of river': '#4adbc8', 'solar': '#f9d002', 'solar PV': '#f9d002', 'solar thermal': '#ffef60', 'biomass': '#0c6013', 'solid biomass': '#06540d', 'biogas': '#23932d', 'waste': '#68896b', 'geothermal': '#ba91b1', 'OCGT': '#d35050', 'gas': '#d35050', 'natural gas': '#d35050', 'CCGT': '#b20101', 'nuclear': '#ff9000', 'coal': '#707070', 'lignite': '#9e5a01', 'oil': '#262626', 'H2': '#ea048a', 'hydrogen storage': '#ea048a', 'battery': '#b8ea04', 'Electric load': '#f9d002', 'electricity': '#f9d002', 'lines': '#70af1d', 'transmission lines': '#70af1d', 'AC-AC': '#70af1d', 'AC line': '#70af1d', 'links': '#8a1caf', 'HVDC links': '#8a1caf', 'DC-DC': '#8a1caf', 'DC link': '#8a1caf', 'load': '#FF0000'}, 'nice_names': {'OCGT': 'Open-Cycle Gas', 'CCGT': 'Combined-Cycle Gas', 'offwind-ac': 'Offshore Wind (AC)', 'offwind-dc': 'Offshore Wind (DC)', 'onwind': 'Onshore Wind', 'solar': 'Solar', 'PHS': 'Pumped Hydro Storage', 'hydro': 'Reservoir & Dam', 'battery': 'Battery Storage', 'H2': 'Hydrogen Storage', 'lines': 'Transmission Lines', 'ror': 'Run of River'}}}\n"
     ]
    }
   ],
   "source": [
    "# Load yaml files\n",
    "import yaml\n",
    "\n",
    "with open(r'config.yaml') as file:\n",
    "        config = yaml.load(file, Loader=yaml.FullLoader)\n",
    " \n",
    "        print(config)"
   ]
  },
  {
   "cell_type": "code",
   "execution_count": 5,
   "metadata": {},
   "outputs": [],
   "source": [
    "costs=pd.read_csv(r'C:\\Users\\denis\\OneDrive\\Desktop\\Mini grids\\pypsa-distribution\\costs.csv')"
   ]
  },
  {
   "cell_type": "code",
   "execution_count": 6,
   "metadata": {},
   "outputs": [],
   "source": [
    "# technologies_path={\n",
    "#     'onwind': \"renewable_profiles/profile_onwind.nc\",\n",
    "#     'solar': \"renewable_profiles/profile_solar.nc\"\n",
    "# }"
   ]
  },
  {
   "cell_type": "code",
   "execution_count": 7,
   "metadata": {},
   "outputs": [],
   "source": [
    "tech_costs=pd.read_csv(r'C:\\Users\\denis\\OneDrive\\Desktop\\Mini grids\\pypsa-distribution\\costs.csv')\n",
    "\n",
    "idx = pd.IndexSlice\n",
    "\n",
    "def calculate_annuity(n, r):\n",
    "    \"\"\"\n",
    "    Calculate the annuity factor for an asset with lifetime n years and\n",
    "    discount rate of r, e.g. annuity(20, 0.05) * 20 = 1.6\n",
    "    \"\"\"\n",
    "    if isinstance(r, pd.Series):\n",
    "        return pd.Series(1 / n, index=r.index).where(\n",
    "            r == 0, r / (1.0 - 1.0 / (1.0 + r) ** n)\n",
    "        )\n",
    "    elif r > 0:\n",
    "        return r / (1.0 - 1.0 / (1.0 + r) ** n)\n",
    "    else:\n",
    "        return 1 / n"
   ]
  },
  {
   "cell_type": "code",
   "execution_count": 8,
   "metadata": {},
   "outputs": [],
   "source": [
    "tech_costs='C://Users//denis//OneDrive//Desktop//Mini grids//pypsa-distribution//costs.csv'"
   ]
  },
  {
   "cell_type": "code",
   "execution_count": 9,
   "metadata": {},
   "outputs": [],
   "source": [
    "def load_costs(tech_costs, config, elec_config, Nyears=1):\n",
    "    \"\"\"\n",
    "    set all asset costs and other parameters\n",
    "    \"\"\"\n",
    "    costs = pd.read_csv(tech_costs, index_col=list(range(3))).sort_index()\n",
    "\n",
    "    # correct units to MW and EUR\n",
    "    costs.loc[costs.unit.str.contains(\"/kW\"), \"value\"] *= 1e3\n",
    "    costs.loc[costs.unit.str.contains(\"USD\"), \"value\"] *= config[\"USD2013_to_EUR2013\"]\n",
    "\n",
    "    costs = (\n",
    "        costs.loc[idx[:, config[\"year\"], :], \"value\"]\n",
    "        .unstack(level=2)\n",
    "        .groupby(\"technology\")\n",
    "        .sum(min_count=1)\n",
    "    )\n",
    "\n",
    "    costs = costs.fillna(\n",
    "        {\n",
    "            \"CO2 intensity\": 0,\n",
    "            \"FOM\": 0,\n",
    "            \"VOM\": 0,\n",
    "            \"discount rate\": config[\"discountrate\"],\n",
    "            \"efficiency\": 1,\n",
    "            \"fuel\": 0,\n",
    "            \"investment\": 0,\n",
    "            \"lifetime\": 25,\n",
    "        }\n",
    "    )\n",
    "\n",
    "    costs[\"capital_cost\"] = (\n",
    "        (\n",
    "            calculate_annuity(costs[\"lifetime\"], costs[\"discount rate\"])\n",
    "            + costs[\"FOM\"] / 100.0\n",
    "        )\n",
    "        * costs[\"investment\"]\n",
    "        * Nyears\n",
    "    )\n",
    "\n",
    "    costs.at[\"OCGT\", \"fuel\"] = costs.at[\"gas\", \"fuel\"]\n",
    "    costs.at[\"CCGT\", \"fuel\"] = costs.at[\"gas\", \"fuel\"]\n",
    "\n",
    "    costs[\"marginal_cost\"] = costs[\"VOM\"] + costs[\"fuel\"] / costs[\"efficiency\"]\n",
    "\n",
    "    costs = costs.rename(columns={\"CO2 intensity\": \"co2_emissions\"})\n",
    "\n",
    "    costs.at[\"OCGT\", \"co2_emissions\"] = costs.at[\"gas\", \"co2_emissions\"]\n",
    "    costs.at[\"CCGT\", \"co2_emissions\"] = costs.at[\"gas\", \"co2_emissions\"]\n",
    "\n",
    "    costs.at[\"solar\", \"capital_cost\"] = 0.5 * (\n",
    "        costs.at[\"solar-rooftop\", \"capital_cost\"]\n",
    "        + costs.at[\"solar-utility\", \"capital_cost\"]\n",
    "    )\n",
    "\n",
    "    def costs_for_storage(store, link1, link2=None, max_hours=1.0):\n",
    "        capital_cost = link1[\"capital_cost\"] + max_hours * store[\"capital_cost\"]\n",
    "        if link2 is not None:\n",
    "            capital_cost += link2[\"capital_cost\"]\n",
    "        return pd.Series(\n",
    "            dict(capital_cost=capital_cost, marginal_cost=0.0, co2_emissions=0.0)\n",
    "        )\n",
    "\n",
    "    max_hours = elec_config[\"max_hours\"]\n",
    "    costs.loc[\"battery\"] = costs_for_storage(\n",
    "        costs.loc[\"battery storage\"],\n",
    "        costs.loc[\"battery inverter\"],\n",
    "        max_hours=max_hours[\"battery\"],\n",
    "    )\n",
    "    costs.loc[\"H2\"] = costs_for_storage(\n",
    "        costs.loc[\"hydrogen storage\"],\n",
    "        costs.loc[\"fuel cell\"],\n",
    "        costs.loc[\"electrolysis\"],\n",
    "        max_hours=max_hours[\"H2\"],\n",
    "    )\n",
    "\n",
    "    for attr in (\"marginal_cost\", \"capital_cost\"):\n",
    "        overwrites = config.get(attr)\n",
    "        if overwrites is not None:\n",
    "            overwrites = pd.Series(overwrites)\n",
    "            costs.loc[overwrites.index, attr] = overwrites\n",
    "\n",
    "    return costs"
   ]
  },
  {
   "cell_type": "code",
   "execution_count": 10,
   "metadata": {},
   "outputs": [],
   "source": [
    "costs = load_costs(\n",
    "    tech_costs,\n",
    "    config[\"costs\"],\n",
    "    config[\"electricity\"],\n",
    "    Nyears,\n",
    "    )"
   ]
  },
  {
   "cell_type": "code",
   "execution_count": 11,
   "metadata": {},
   "outputs": [],
   "source": [
    "\n",
    "def attach_wind_and_solar(n, costs, technologies, extendable_carriers):\n",
    "    \n",
    "    for tech in technologies:\n",
    "        \n",
    "        # with xr.open_dataset(technologies_path[tech]) as ds:\n",
    "        with xr.open_dataset(f\"renewable_profiles/profile_{tech}.nc\")as ds:\n",
    "\n",
    "            if ds.indexes[\"bus\"].empty:\n",
    "                continue   \n",
    "\n",
    "            suptech = tech.split(\"-\", 2)[0]\n",
    "\n",
    "\n",
    "            n.madd(\n",
    "            \"Generator\",\n",
    "            ds.indexes[\"bus\"],\n",
    "            \" \" + tech,\n",
    "            bus=ds.indexes[\"bus\"],\n",
    "            carrier=tech,\n",
    "            p_nom_extendable=tech in extendable_carriers[\"Generator\"],\n",
    "            p_nom_max=ds[\"p_nom_max\"].to_pandas(),\n",
    "            weight=ds[\"weight\"].to_pandas(),\n",
    "            marginal_cost=costs.at[suptech, \"marginal_cost\"],\n",
    "            capital_cost=costs.at[tech, \"capital_cost\"],\n",
    "            efficiency=costs.at[suptech, \"efficiency\"],\n",
    "            p_max_pu=ds[\"profile\"].transpose(\"time\", \"bus\").to_pandas(),\n",
    "            )\n"
   ]
  },
  {
   "cell_type": "code",
   "execution_count": 12,
   "metadata": {},
   "outputs": [
    {
     "name": "stderr",
     "output_type": "stream",
     "text": [
      "WARNING:pypsa.io:The following Generator have buses which are not defined:\n",
      "Index(['0 onwind', '1 onwind', '3 onwind', '4 onwind', '6 onwind', '7 onwind',\n",
      "       '8 onwind', '9 onwind', '11 onwind', '12 onwind',\n",
      "       ...\n",
      "       '247 onwind', '248 onwind', '249 onwind', '250 onwind', '251 onwind',\n",
      "       '252 onwind', '253 onwind', '254 onwind', '255 onwind', '256 onwind'],\n",
      "      dtype='object', name='bus', length=222)\n",
      "WARNING:pypsa.io:Snapshots DatetimeIndex(['2013-01-01 00:00:00', '2013-01-01 01:00:00',\n",
      "               '2013-01-01 02:00:00', '2013-01-01 03:00:00',\n",
      "               '2013-01-01 04:00:00', '2013-01-01 05:00:00',\n",
      "               '2013-01-01 06:00:00', '2013-01-01 07:00:00',\n",
      "               '2013-01-01 08:00:00', '2013-01-01 09:00:00',\n",
      "               ...\n",
      "               '2013-12-31 14:00:00', '2013-12-31 15:00:00',\n",
      "               '2013-12-31 16:00:00', '2013-12-31 17:00:00',\n",
      "               '2013-12-31 18:00:00', '2013-12-31 19:00:00',\n",
      "               '2013-12-31 20:00:00', '2013-12-31 21:00:00',\n",
      "               '2013-12-31 22:00:00', '2013-12-31 23:00:00'],\n",
      "              dtype='datetime64[ns]', name='snapshot', length=8616, freq=None) are missing from p_max_pu of Generator. Filling with default value '1.0'\n",
      "WARNING:pypsa.io:The following Generator have buses which are not defined:\n",
      "Index(['0 solar', '1 solar', '3 solar', '4 solar', '6 solar', '7 solar',\n",
      "       '8 solar', '9 solar', '11 solar', '12 solar',\n",
      "       ...\n",
      "       '247 solar', '248 solar', '249 solar', '250 solar', '251 solar',\n",
      "       '252 solar', '253 solar', '254 solar', '255 solar', '256 solar'],\n",
      "      dtype='object', name='bus', length=227)\n",
      "WARNING:pypsa.io:Snapshots DatetimeIndex(['2013-01-01 00:00:00', '2013-01-01 01:00:00',\n",
      "               '2013-01-01 02:00:00', '2013-01-01 03:00:00',\n",
      "               '2013-01-01 04:00:00', '2013-01-01 05:00:00',\n",
      "               '2013-01-01 06:00:00', '2013-01-01 07:00:00',\n",
      "               '2013-01-01 08:00:00', '2013-01-01 09:00:00',\n",
      "               ...\n",
      "               '2013-12-31 14:00:00', '2013-12-31 15:00:00',\n",
      "               '2013-12-31 16:00:00', '2013-12-31 17:00:00',\n",
      "               '2013-12-31 18:00:00', '2013-12-31 19:00:00',\n",
      "               '2013-12-31 20:00:00', '2013-12-31 21:00:00',\n",
      "               '2013-12-31 22:00:00', '2013-12-31 23:00:00'],\n",
      "              dtype='datetime64[ns]', name='snapshot', length=8616, freq=None) are missing from p_max_pu of Generator. Filling with default value '1.0'\n"
     ]
    }
   ],
   "source": [
    "attach_wind_and_solar(\n",
    "    n,\n",
    "    costs,\n",
    "    config[\"renewable\"],\n",
    "    config[\"electricity\"][\"extendable_carriers\"],\n",
    "    )"
   ]
  },
  {
   "cell_type": "code",
   "execution_count": 13,
   "metadata": {},
   "outputs": [
    {
     "data": {
      "text/html": [
       "<div>\n",
       "<style scoped>\n",
       "    .dataframe tbody tr th:only-of-type {\n",
       "        vertical-align: middle;\n",
       "    }\n",
       "\n",
       "    .dataframe tbody tr th {\n",
       "        vertical-align: top;\n",
       "    }\n",
       "\n",
       "    .dataframe thead th {\n",
       "        text-align: right;\n",
       "    }\n",
       "</style>\n",
       "<table border=\"1\" class=\"dataframe\">\n",
       "  <thead>\n",
       "    <tr style=\"text-align: right;\">\n",
       "      <th></th>\n",
       "      <th>bus</th>\n",
       "      <th>carrier</th>\n",
       "      <th>p_nom_extendable</th>\n",
       "      <th>p_nom_max</th>\n",
       "      <th>weight</th>\n",
       "      <th>marginal_cost</th>\n",
       "      <th>capital_cost</th>\n",
       "      <th>efficiency</th>\n",
       "      <th>control</th>\n",
       "      <th>type</th>\n",
       "      <th>...</th>\n",
       "      <th>shut_down_cost</th>\n",
       "      <th>min_up_time</th>\n",
       "      <th>min_down_time</th>\n",
       "      <th>up_time_before</th>\n",
       "      <th>down_time_before</th>\n",
       "      <th>ramp_limit_up</th>\n",
       "      <th>ramp_limit_down</th>\n",
       "      <th>ramp_limit_start_up</th>\n",
       "      <th>ramp_limit_shut_down</th>\n",
       "      <th>p_nom_opt</th>\n",
       "    </tr>\n",
       "    <tr>\n",
       "      <th>Generator</th>\n",
       "      <th></th>\n",
       "      <th></th>\n",
       "      <th></th>\n",
       "      <th></th>\n",
       "      <th></th>\n",
       "      <th></th>\n",
       "      <th></th>\n",
       "      <th></th>\n",
       "      <th></th>\n",
       "      <th></th>\n",
       "      <th></th>\n",
       "      <th></th>\n",
       "      <th></th>\n",
       "      <th></th>\n",
       "      <th></th>\n",
       "      <th></th>\n",
       "      <th></th>\n",
       "      <th></th>\n",
       "      <th></th>\n",
       "      <th></th>\n",
       "      <th></th>\n",
       "    </tr>\n",
       "  </thead>\n",
       "  <tbody>\n",
       "    <tr>\n",
       "      <th>0 onwind</th>\n",
       "      <td>0</td>\n",
       "      <td>onwind</td>\n",
       "      <td>True</td>\n",
       "      <td>10.954048</td>\n",
       "      <td>0.569543</td>\n",
       "      <td>0.015</td>\n",
       "      <td>109295.569252</td>\n",
       "      <td>1.0</td>\n",
       "      <td>PQ</td>\n",
       "      <td></td>\n",
       "      <td>...</td>\n",
       "      <td>0.0</td>\n",
       "      <td>0</td>\n",
       "      <td>0</td>\n",
       "      <td>1</td>\n",
       "      <td>0</td>\n",
       "      <td>NaN</td>\n",
       "      <td>NaN</td>\n",
       "      <td>1.0</td>\n",
       "      <td>1.0</td>\n",
       "      <td>0.0</td>\n",
       "    </tr>\n",
       "    <tr>\n",
       "      <th>1 onwind</th>\n",
       "      <td>1</td>\n",
       "      <td>onwind</td>\n",
       "      <td>True</td>\n",
       "      <td>2767.568457</td>\n",
       "      <td>218.413058</td>\n",
       "      <td>0.015</td>\n",
       "      <td>109295.569252</td>\n",
       "      <td>1.0</td>\n",
       "      <td>PQ</td>\n",
       "      <td></td>\n",
       "      <td>...</td>\n",
       "      <td>0.0</td>\n",
       "      <td>0</td>\n",
       "      <td>0</td>\n",
       "      <td>1</td>\n",
       "      <td>0</td>\n",
       "      <td>NaN</td>\n",
       "      <td>NaN</td>\n",
       "      <td>1.0</td>\n",
       "      <td>1.0</td>\n",
       "      <td>0.0</td>\n",
       "    </tr>\n",
       "    <tr>\n",
       "      <th>3 onwind</th>\n",
       "      <td>3</td>\n",
       "      <td>onwind</td>\n",
       "      <td>True</td>\n",
       "      <td>653.592418</td>\n",
       "      <td>72.784847</td>\n",
       "      <td>0.015</td>\n",
       "      <td>109295.569252</td>\n",
       "      <td>1.0</td>\n",
       "      <td>PQ</td>\n",
       "      <td></td>\n",
       "      <td>...</td>\n",
       "      <td>0.0</td>\n",
       "      <td>0</td>\n",
       "      <td>0</td>\n",
       "      <td>1</td>\n",
       "      <td>0</td>\n",
       "      <td>NaN</td>\n",
       "      <td>NaN</td>\n",
       "      <td>1.0</td>\n",
       "      <td>1.0</td>\n",
       "      <td>0.0</td>\n",
       "    </tr>\n",
       "    <tr>\n",
       "      <th>4 onwind</th>\n",
       "      <td>4</td>\n",
       "      <td>onwind</td>\n",
       "      <td>True</td>\n",
       "      <td>20317.910033</td>\n",
       "      <td>1974.184973</td>\n",
       "      <td>0.015</td>\n",
       "      <td>109295.569252</td>\n",
       "      <td>1.0</td>\n",
       "      <td>PQ</td>\n",
       "      <td></td>\n",
       "      <td>...</td>\n",
       "      <td>0.0</td>\n",
       "      <td>0</td>\n",
       "      <td>0</td>\n",
       "      <td>1</td>\n",
       "      <td>0</td>\n",
       "      <td>NaN</td>\n",
       "      <td>NaN</td>\n",
       "      <td>1.0</td>\n",
       "      <td>1.0</td>\n",
       "      <td>0.0</td>\n",
       "    </tr>\n",
       "    <tr>\n",
       "      <th>6 onwind</th>\n",
       "      <td>6</td>\n",
       "      <td>onwind</td>\n",
       "      <td>True</td>\n",
       "      <td>1913.852377</td>\n",
       "      <td>101.438862</td>\n",
       "      <td>0.015</td>\n",
       "      <td>109295.569252</td>\n",
       "      <td>1.0</td>\n",
       "      <td>PQ</td>\n",
       "      <td></td>\n",
       "      <td>...</td>\n",
       "      <td>0.0</td>\n",
       "      <td>0</td>\n",
       "      <td>0</td>\n",
       "      <td>1</td>\n",
       "      <td>0</td>\n",
       "      <td>NaN</td>\n",
       "      <td>NaN</td>\n",
       "      <td>1.0</td>\n",
       "      <td>1.0</td>\n",
       "      <td>0.0</td>\n",
       "    </tr>\n",
       "    <tr>\n",
       "      <th>...</th>\n",
       "      <td>...</td>\n",
       "      <td>...</td>\n",
       "      <td>...</td>\n",
       "      <td>...</td>\n",
       "      <td>...</td>\n",
       "      <td>...</td>\n",
       "      <td>...</td>\n",
       "      <td>...</td>\n",
       "      <td>...</td>\n",
       "      <td>...</td>\n",
       "      <td>...</td>\n",
       "      <td>...</td>\n",
       "      <td>...</td>\n",
       "      <td>...</td>\n",
       "      <td>...</td>\n",
       "      <td>...</td>\n",
       "      <td>...</td>\n",
       "      <td>...</td>\n",
       "      <td>...</td>\n",
       "      <td>...</td>\n",
       "      <td>...</td>\n",
       "    </tr>\n",
       "    <tr>\n",
       "      <th>252 solar</th>\n",
       "      <td>252</td>\n",
       "      <td>solar</td>\n",
       "      <td>True</td>\n",
       "      <td>2400.214828</td>\n",
       "      <td>423.079545</td>\n",
       "      <td>0.010</td>\n",
       "      <td>55064.071419</td>\n",
       "      <td>1.0</td>\n",
       "      <td>PQ</td>\n",
       "      <td></td>\n",
       "      <td>...</td>\n",
       "      <td>0.0</td>\n",
       "      <td>0</td>\n",
       "      <td>0</td>\n",
       "      <td>1</td>\n",
       "      <td>0</td>\n",
       "      <td>NaN</td>\n",
       "      <td>NaN</td>\n",
       "      <td>1.0</td>\n",
       "      <td>1.0</td>\n",
       "      <td>0.0</td>\n",
       "    </tr>\n",
       "    <tr>\n",
       "      <th>253 solar</th>\n",
       "      <td>253</td>\n",
       "      <td>solar</td>\n",
       "      <td>True</td>\n",
       "      <td>110.273301</td>\n",
       "      <td>15.723475</td>\n",
       "      <td>0.010</td>\n",
       "      <td>55064.071419</td>\n",
       "      <td>1.0</td>\n",
       "      <td>PQ</td>\n",
       "      <td></td>\n",
       "      <td>...</td>\n",
       "      <td>0.0</td>\n",
       "      <td>0</td>\n",
       "      <td>0</td>\n",
       "      <td>1</td>\n",
       "      <td>0</td>\n",
       "      <td>NaN</td>\n",
       "      <td>NaN</td>\n",
       "      <td>1.0</td>\n",
       "      <td>1.0</td>\n",
       "      <td>0.0</td>\n",
       "    </tr>\n",
       "    <tr>\n",
       "      <th>254 solar</th>\n",
       "      <td>254</td>\n",
       "      <td>solar</td>\n",
       "      <td>True</td>\n",
       "      <td>380.635788</td>\n",
       "      <td>52.001619</td>\n",
       "      <td>0.010</td>\n",
       "      <td>55064.071419</td>\n",
       "      <td>1.0</td>\n",
       "      <td>PQ</td>\n",
       "      <td></td>\n",
       "      <td>...</td>\n",
       "      <td>0.0</td>\n",
       "      <td>0</td>\n",
       "      <td>0</td>\n",
       "      <td>1</td>\n",
       "      <td>0</td>\n",
       "      <td>NaN</td>\n",
       "      <td>NaN</td>\n",
       "      <td>1.0</td>\n",
       "      <td>1.0</td>\n",
       "      <td>0.0</td>\n",
       "    </tr>\n",
       "    <tr>\n",
       "      <th>255 solar</th>\n",
       "      <td>255</td>\n",
       "      <td>solar</td>\n",
       "      <td>True</td>\n",
       "      <td>173.738448</td>\n",
       "      <td>26.897815</td>\n",
       "      <td>0.010</td>\n",
       "      <td>55064.071419</td>\n",
       "      <td>1.0</td>\n",
       "      <td>PQ</td>\n",
       "      <td></td>\n",
       "      <td>...</td>\n",
       "      <td>0.0</td>\n",
       "      <td>0</td>\n",
       "      <td>0</td>\n",
       "      <td>1</td>\n",
       "      <td>0</td>\n",
       "      <td>NaN</td>\n",
       "      <td>NaN</td>\n",
       "      <td>1.0</td>\n",
       "      <td>1.0</td>\n",
       "      <td>0.0</td>\n",
       "    </tr>\n",
       "    <tr>\n",
       "      <th>256 solar</th>\n",
       "      <td>256</td>\n",
       "      <td>solar</td>\n",
       "      <td>True</td>\n",
       "      <td>1964.831540</td>\n",
       "      <td>289.167794</td>\n",
       "      <td>0.010</td>\n",
       "      <td>55064.071419</td>\n",
       "      <td>1.0</td>\n",
       "      <td>PQ</td>\n",
       "      <td></td>\n",
       "      <td>...</td>\n",
       "      <td>0.0</td>\n",
       "      <td>0</td>\n",
       "      <td>0</td>\n",
       "      <td>1</td>\n",
       "      <td>0</td>\n",
       "      <td>NaN</td>\n",
       "      <td>NaN</td>\n",
       "      <td>1.0</td>\n",
       "      <td>1.0</td>\n",
       "      <td>0.0</td>\n",
       "    </tr>\n",
       "  </tbody>\n",
       "</table>\n",
       "<p>449 rows × 31 columns</p>\n",
       "</div>"
      ],
      "text/plain": [
       "           bus carrier  p_nom_extendable     p_nom_max       weight  \\\n",
       "Generator                                                             \n",
       "0 onwind     0  onwind              True     10.954048     0.569543   \n",
       "1 onwind     1  onwind              True   2767.568457   218.413058   \n",
       "3 onwind     3  onwind              True    653.592418    72.784847   \n",
       "4 onwind     4  onwind              True  20317.910033  1974.184973   \n",
       "6 onwind     6  onwind              True   1913.852377   101.438862   \n",
       "...        ...     ...               ...           ...          ...   \n",
       "252 solar  252   solar              True   2400.214828   423.079545   \n",
       "253 solar  253   solar              True    110.273301    15.723475   \n",
       "254 solar  254   solar              True    380.635788    52.001619   \n",
       "255 solar  255   solar              True    173.738448    26.897815   \n",
       "256 solar  256   solar              True   1964.831540   289.167794   \n",
       "\n",
       "           marginal_cost   capital_cost  efficiency control type  ...  \\\n",
       "Generator                                                         ...   \n",
       "0 onwind           0.015  109295.569252         1.0      PQ       ...   \n",
       "1 onwind           0.015  109295.569252         1.0      PQ       ...   \n",
       "3 onwind           0.015  109295.569252         1.0      PQ       ...   \n",
       "4 onwind           0.015  109295.569252         1.0      PQ       ...   \n",
       "6 onwind           0.015  109295.569252         1.0      PQ       ...   \n",
       "...                  ...            ...         ...     ...  ...  ...   \n",
       "252 solar          0.010   55064.071419         1.0      PQ       ...   \n",
       "253 solar          0.010   55064.071419         1.0      PQ       ...   \n",
       "254 solar          0.010   55064.071419         1.0      PQ       ...   \n",
       "255 solar          0.010   55064.071419         1.0      PQ       ...   \n",
       "256 solar          0.010   55064.071419         1.0      PQ       ...   \n",
       "\n",
       "           shut_down_cost  min_up_time  min_down_time  up_time_before  \\\n",
       "Generator                                                               \n",
       "0 onwind              0.0            0              0               1   \n",
       "1 onwind              0.0            0              0               1   \n",
       "3 onwind              0.0            0              0               1   \n",
       "4 onwind              0.0            0              0               1   \n",
       "6 onwind              0.0            0              0               1   \n",
       "...                   ...          ...            ...             ...   \n",
       "252 solar             0.0            0              0               1   \n",
       "253 solar             0.0            0              0               1   \n",
       "254 solar             0.0            0              0               1   \n",
       "255 solar             0.0            0              0               1   \n",
       "256 solar             0.0            0              0               1   \n",
       "\n",
       "           down_time_before  ramp_limit_up  ramp_limit_down  \\\n",
       "Generator                                                     \n",
       "0 onwind                  0            NaN              NaN   \n",
       "1 onwind                  0            NaN              NaN   \n",
       "3 onwind                  0            NaN              NaN   \n",
       "4 onwind                  0            NaN              NaN   \n",
       "6 onwind                  0            NaN              NaN   \n",
       "...                     ...            ...              ...   \n",
       "252 solar                 0            NaN              NaN   \n",
       "253 solar                 0            NaN              NaN   \n",
       "254 solar                 0            NaN              NaN   \n",
       "255 solar                 0            NaN              NaN   \n",
       "256 solar                 0            NaN              NaN   \n",
       "\n",
       "           ramp_limit_start_up  ramp_limit_shut_down  p_nom_opt  \n",
       "Generator                                                        \n",
       "0 onwind                   1.0                   1.0        0.0  \n",
       "1 onwind                   1.0                   1.0        0.0  \n",
       "3 onwind                   1.0                   1.0        0.0  \n",
       "4 onwind                   1.0                   1.0        0.0  \n",
       "6 onwind                   1.0                   1.0        0.0  \n",
       "...                        ...                   ...        ...  \n",
       "252 solar                  1.0                   1.0        0.0  \n",
       "253 solar                  1.0                   1.0        0.0  \n",
       "254 solar                  1.0                   1.0        0.0  \n",
       "255 solar                  1.0                   1.0        0.0  \n",
       "256 solar                  1.0                   1.0        0.0  \n",
       "\n",
       "[449 rows x 31 columns]"
      ]
     },
     "execution_count": 13,
     "metadata": {},
     "output_type": "execute_result"
    }
   ],
   "source": [
    "n.generators"
   ]
  },
  {
   "cell_type": "code",
   "execution_count": 14,
   "metadata": {},
   "outputs": [],
   "source": [
    "#I import a time series for load as pandas dataframe\n",
    "load=pd.read_csv(r'C:\\Users\\denis\\OneDrive\\Desktop\\Mini grids\\pypsa-distribution\\time_series\\Load_timeseries\\sample_profile.csv', parse_dates=True)\n",
    "#Used at first, now changed to make it look similar to solar data\n",
    "# date_index=pd.date_range('01/01/2013', periods=8760, freq='h')\n",
    "# date_index = pd.DataFrame(date_index, columns=['time'])\n",
    "# date_index['bus 0']=load_df['bus 0']\n",
    "# load=date_index\n",
    "load=load[\"bus 0\"]\n",
    "load=pd.DataFrame(load)\n",
    "load = load.set_index([n.snapshots])\n",
    "import numpy as np\n",
    "#I create a numpy array \n",
    "load_df=np.array(load)\n"
   ]
  },
  {
   "cell_type": "code",
   "execution_count": 15,
   "metadata": {},
   "outputs": [
    {
     "data": {
      "text/plain": [
       "Index(['MyLoad'], dtype='object', name='Load')"
      ]
     },
     "execution_count": 15,
     "metadata": {},
     "output_type": "execute_result"
    }
   ],
   "source": [
    "\n",
    "#I connect the load to the bus \"onebus\"\n",
    "\n",
    "n.madd(\"Load\", [\"MyLoad\"], bus=[\"onebus\"], carrier=\"AC\", p_set = load_df)\n",
    "\n",
    "\n",
    "#Not to have the warning: load_df=load[\"bus 0\"] and p_set=load_df\n",
    "# n.loads"
   ]
  },
  {
   "cell_type": "code",
   "execution_count": 16,
   "metadata": {},
   "outputs": [
    {
     "ename": "TypeError",
     "evalue": "no numeric data to plot",
     "output_type": "error",
     "traceback": [
      "\u001b[1;31m---------------------------------------------------------------------------\u001b[0m",
      "\u001b[1;31mTypeError\u001b[0m                                 Traceback (most recent call last)",
      "Cell \u001b[1;32mIn [16], line 1\u001b[0m\n\u001b[1;32m----> 1\u001b[0m n\u001b[39m.\u001b[39mgenerators_t\u001b[39m.\u001b[39mp_set\u001b[39m.\u001b[39mplot(color\u001b[39m=\u001b[39m\u001b[39m'\u001b[39m\u001b[39mblue\u001b[39m\u001b[39m'\u001b[39m, ylabel\u001b[39m=\u001b[39m\u001b[39m'\u001b[39m\u001b[39mMW\u001b[39m\u001b[39m'\u001b[39m)\n",
      "File \u001b[1;32mc:\\Users\\denis\\miniconda3\\envs\\pypsa-earth\\lib\\site-packages\\pandas\\plotting\\_core.py:1001\u001b[0m, in \u001b[0;36mPlotAccessor.__call__\u001b[1;34m(self, *args, **kwargs)\u001b[0m\n\u001b[0;32m    998\u001b[0m             label_name \u001b[39m=\u001b[39m label_kw \u001b[39mor\u001b[39;00m data\u001b[39m.\u001b[39mcolumns\n\u001b[0;32m    999\u001b[0m             data\u001b[39m.\u001b[39mcolumns \u001b[39m=\u001b[39m label_name\n\u001b[1;32m-> 1001\u001b[0m \u001b[39mreturn\u001b[39;00m plot_backend\u001b[39m.\u001b[39mplot(data, kind\u001b[39m=\u001b[39mkind, \u001b[39m*\u001b[39m\u001b[39m*\u001b[39mkwargs)\n",
      "File \u001b[1;32mc:\\Users\\denis\\miniconda3\\envs\\pypsa-earth\\lib\\site-packages\\pandas\\plotting\\_matplotlib\\__init__.py:71\u001b[0m, in \u001b[0;36mplot\u001b[1;34m(data, kind, **kwargs)\u001b[0m\n\u001b[0;32m     69\u001b[0m         kwargs[\u001b[39m\"\u001b[39m\u001b[39max\u001b[39m\u001b[39m\"\u001b[39m] \u001b[39m=\u001b[39m \u001b[39mgetattr\u001b[39m(ax, \u001b[39m\"\u001b[39m\u001b[39mleft_ax\u001b[39m\u001b[39m\"\u001b[39m, ax)\n\u001b[0;32m     70\u001b[0m plot_obj \u001b[39m=\u001b[39m PLOT_CLASSES[kind](data, \u001b[39m*\u001b[39m\u001b[39m*\u001b[39mkwargs)\n\u001b[1;32m---> 71\u001b[0m plot_obj\u001b[39m.\u001b[39;49mgenerate()\n\u001b[0;32m     72\u001b[0m plot_obj\u001b[39m.\u001b[39mdraw()\n\u001b[0;32m     73\u001b[0m \u001b[39mreturn\u001b[39;00m plot_obj\u001b[39m.\u001b[39mresult\n",
      "File \u001b[1;32mc:\\Users\\denis\\miniconda3\\envs\\pypsa-earth\\lib\\site-packages\\pandas\\plotting\\_matplotlib\\core.py:451\u001b[0m, in \u001b[0;36mMPLPlot.generate\u001b[1;34m(self)\u001b[0m\n\u001b[0;32m    449\u001b[0m \u001b[39mdef\u001b[39;00m \u001b[39mgenerate\u001b[39m(\u001b[39mself\u001b[39m) \u001b[39m-\u001b[39m\u001b[39m>\u001b[39m \u001b[39mNone\u001b[39;00m:\n\u001b[0;32m    450\u001b[0m     \u001b[39mself\u001b[39m\u001b[39m.\u001b[39m_args_adjust()\n\u001b[1;32m--> 451\u001b[0m     \u001b[39mself\u001b[39;49m\u001b[39m.\u001b[39;49m_compute_plot_data()\n\u001b[0;32m    452\u001b[0m     \u001b[39mself\u001b[39m\u001b[39m.\u001b[39m_setup_subplots()\n\u001b[0;32m    453\u001b[0m     \u001b[39mself\u001b[39m\u001b[39m.\u001b[39m_make_plot()\n",
      "File \u001b[1;32mc:\\Users\\denis\\miniconda3\\envs\\pypsa-earth\\lib\\site-packages\\pandas\\plotting\\_matplotlib\\core.py:636\u001b[0m, in \u001b[0;36mMPLPlot._compute_plot_data\u001b[1;34m(self)\u001b[0m\n\u001b[0;32m    634\u001b[0m \u001b[39m# no non-numeric frames or series allowed\u001b[39;00m\n\u001b[0;32m    635\u001b[0m \u001b[39mif\u001b[39;00m is_empty:\n\u001b[1;32m--> 636\u001b[0m     \u001b[39mraise\u001b[39;00m \u001b[39mTypeError\u001b[39;00m(\u001b[39m\"\u001b[39m\u001b[39mno numeric data to plot\u001b[39m\u001b[39m\"\u001b[39m)\n\u001b[0;32m    638\u001b[0m \u001b[39mself\u001b[39m\u001b[39m.\u001b[39mdata \u001b[39m=\u001b[39m numeric_data\u001b[39m.\u001b[39mapply(\u001b[39mself\u001b[39m\u001b[39m.\u001b[39m_convert_to_ndarray)\n",
      "\u001b[1;31mTypeError\u001b[0m: no numeric data to plot"
     ]
    }
   ],
   "source": [
    "n.generators_t.p_set.plot(color='blue', ylabel='MW')"
   ]
  },
  {
   "cell_type": "code",
   "execution_count": null,
   "metadata": {},
   "outputs": [
    {
     "data": {
      "text/plain": [
       "<AxesSubplot: xlabel='snapshot', ylabel='MW'>"
      ]
     },
     "execution_count": 9,
     "metadata": {},
     "output_type": "execute_result"
    },
    {
     "data": {
      "image/png": "[encoded data removed]",
      "text/plain": [
       "<Figure size 640x480 with 1 Axes>"
      ]
     },
     "metadata": {},
     "output_type": "display_data"
    }
   ],
   "source": [
    "n.loads_t.p_set.plot(color='red', ylabel='MW')"
   ]
  },
  {
   "cell_type": "code",
   "execution_count": null,
   "metadata": {},
   "outputs": [],
   "source": [
    "#n.madd(\"StorageUnit\", [\"mySU\"] , bus=\"onebus\",, capital_cost=300)"
   ]
  },
  {
   "cell_type": "code",
   "execution_count": null,
   "metadata": {},
   "outputs": [
    {
     "data": {
      "text/plain": [
       "Index(['StorUni'], dtype='object')"
      ]
     },
     "execution_count": 11,
     "metadata": {},
     "output_type": "execute_result"
    }
   ],
   "source": [
    "n.madd(\"StorageUnit\",[\"StorUni\"], bus=\"onebus\",  p_nom=0.5, marginal_cost=10, inflow=50, p_nom_extendable=True, capital_cost=50, \n",
    "       efficiency_dispatch=0.5, cyclic_state_of_charge=True, state_of_charge_initial=1000)"
   ]
  },
  {
   "cell_type": "code",
   "execution_count": null,
   "metadata": {},
   "outputs": [
    {
     "data": {
      "image/png": "[encoded data removed]",
      "text/plain": [
       "<Figure size 800x300 with 1 Axes>"
      ]
     },
     "metadata": {},
     "output_type": "display_data"
    }
   ],
   "source": [
    "n.storage_units.state_of_charge_initial.div(1e3).plot.bar(ylabel=\"GW\", figsize=(8, 3))\n",
    "plt.tight_layout()"
   ]
  },
  {
   "cell_type": "code",
   "execution_count": null,
   "metadata": {},
   "outputs": [
    {
     "name": "stdout",
     "output_type": "stream",
     "text": [
      "PyPSA Network\n",
      "Components:\n",
      " - Bus: 1\n",
      " - Generator: 1\n",
      " - Load: 1\n",
      " - StorageUnit: 1\n",
      "Snapshots: 8760\n"
     ]
    }
   ],
   "source": [
    "#I want to see my whole network:\n",
    "\n",
    "print(n)"
   ]
  },
  {
   "cell_type": "code",
   "execution_count": null,
   "metadata": {},
   "outputs": [
    {
     "name": "stderr",
     "output_type": "stream",
     "text": [
      "INFO:pypsa.linopf:Prepare linear problem\n",
      "INFO:pypsa.linopf:Total preparation time: 2.83s\n",
      "INFO:pypsa.linopf:Solve linear problem using Gurobi solver\n"
     ]
    },
    {
     "name": "stdout",
     "output_type": "stream",
     "text": [
      "Set parameter Username\n",
      "Academic license - for non-commercial use only - expires 2023-09-07\n",
      "Read LP format model from file C:\\Users\\denis\\AppData\\Local\\Temp\\pypsa-problem-z0_ozool.lp\n",
      "Reading time = 0.49 seconds\n",
      "obj: 87600 rows, 43803 columns, 170564 nonzeros\n",
      "Gurobi Optimizer version 9.5.2 build v9.5.2rc0 (win64)\n",
      "Thread count: 4 physical cores, 8 logical processors, using up to 8 threads\n",
      "Optimize a model with 87600 rows, 43803 columns and 170564 nonzeros\n",
      "Model fingerprint: 0x6e5c4c79\n",
      "Coefficient statistics:\n",
      "  Matrix range     [1e-02, 2e+00]\n",
      "  Objective range  [1e-03, 4e+02]\n",
      "  Bounds range     [5e+01, 1e+05]\n",
      "  RHS range        [8e+00, 7e+01]\n",
      "\n",
      "Concurrent LP optimizer: dual simplex and barrier\n",
      "Showing barrier log only...\n",
      "\n",
      "Presolve removed 51571 rows and 11896 columns\n",
      "Presolve time: 0.40s\n",
      "Presolved: 36029 rows, 31907 columns, 111430 nonzeros\n",
      "\n",
      "Ordering time: 0.01s\n",
      "\n",
      "Barrier statistics:\n",
      " Dense cols : 2\n",
      " AA' NZ     : 9.243e+04\n",
      " Factor NZ  : 3.921e+05 (roughly 30 MB of memory)\n",
      " Factor Ops : 4.870e+06 (less than 1 second per iteration)\n",
      " Threads    : 3\n",
      "\n",
      "                  Objective                Residual\n",
      "Iter       Primal          Dual         Primal    Dual     Compl     Time\n",
      "   0   1.24018256e+07 -6.28083893e+07  1.77e+03 1.16e+00  2.59e+04     1s\n",
      "   1   1.01373904e+07 -4.61685298e+07  9.74e+02 1.98e+01  9.52e+03     1s\n",
      "   2   7.08686631e+06 -3.82493806e+07  3.71e+02 7.12e+00  3.47e+03     1s\n",
      "   3   4.75047184e+06 -2.05312477e+07  5.65e+01 1.35e+00  8.09e+02     1s\n",
      "   4   2.89700241e+06 -3.17740747e+06  2.12e-01 1.55e-01  1.32e+02     1s\n",
      "\n",
      "Barrier performed 4 iterations in 0.80 seconds (0.22 work units)\n",
      "Barrier solve interrupted - model solved by another algorithm\n",
      "\n",
      "\n",
      "Solved with dual simplex\n",
      "Solved in 8138 iterations and 0.83 seconds (0.23 work units)\n",
      "Optimal objective  1.402971668e+06\n"
     ]
    },
    {
     "name": "stderr",
     "output_type": "stream",
     "text": [
      "INFO:pypsa.linopf:Optimization successful. Objective value: 1.40e+06\n"
     ]
    },
    {
     "data": {
      "text/plain": [
       "('ok', 'optimal')"
      ]
     },
     "execution_count": 14,
     "metadata": {},
     "output_type": "execute_result"
    }
   ],
   "source": [
    "#Optimization\n",
    "from pypsa.linopf import ilopf\n",
    "\n",
    "solver_name=\"gurobi\"\n",
    "\n",
    "n.lopf(n.snapshots, solver_name=solver_name, pyomo=False)\n"
   ]
  },
  {
   "cell_type": "code",
   "execution_count": null,
   "metadata": {},
   "outputs": [
    {
     "data": {
      "image/png": "[encoded data removed]",
      "text/plain": [
       "<Figure size 800x300 with 1 Axes>"
      ]
     },
     "metadata": {},
     "output_type": "display_data"
    }
   ],
   "source": [
    "n.generators.p_nom_opt.div(1e3).plot.bar(ylabel=\"GW\", figsize=(8, 3))\n",
    "plt.tight_layout()"
   ]
  },
  {
   "cell_type": "code",
   "execution_count": null,
   "metadata": {},
   "outputs": [
    {
     "name": "stdout",
     "output_type": "stream",
     "text": [
      "StorageUnit\n",
      "StorUni    264.035804\n",
      "Name: p_nom_opt, dtype: float64\n"
     ]
    }
   ],
   "source": [
    "print(n.storage_units.p_nom_opt)"
   ]
  },
  {
   "cell_type": "code",
   "execution_count": null,
   "metadata": {},
   "outputs": [
    {
     "data": {
      "image/png": "[encoded data removed]",
      "text/plain": [
       "<Figure size 800x300 with 1 Axes>"
      ]
     },
     "metadata": {},
     "output_type": "display_data"
    }
   ],
   "source": [
    "n.storage_units.p_nom_opt.div(1e3).plot.bar(ylabel=\"GW\", figsize=(8, 3))\n",
    "plt.tight_layout()"
   ]
  },
  {
   "cell_type": "code",
   "execution_count": null,
   "metadata": {},
   "outputs": [
    {
     "data": {
      "text/plain": [
       "dict_keys(['p_min_pu', 'p_max_pu', 'p_set', 'q_set', 'marginal_cost', 'state_of_charge_set', 'inflow', 'p', 'p_dispatch', 'p_store', 'q', 'state_of_charge', 'spill', 'mu_upper', 'mu_lower', 'mu_state_of_charge_set'])"
      ]
     },
     "execution_count": 18,
     "metadata": {},
     "output_type": "execute_result"
    }
   ],
   "source": [
    "n.storage_units_t.keys()"
   ]
  },
  {
   "cell_type": "code",
   "execution_count": null,
   "metadata": {},
   "outputs": [
    {
     "data": {
      "image/png": "[encoded data removed]",
      "text/plain": [
       "<Figure size 800x300 with 1 Axes>"
      ]
     },
     "metadata": {},
     "output_type": "display_data"
    }
   ],
   "source": [
    "n.storage_units_t.state_of_charge.div(1e3).plot.bar(ylabel=\"GW\", figsize=(8, 3))\n",
    "plt.tight_layout()\n"
   ]
  },
  {
   "cell_type": "code",
   "execution_count": null,
   "metadata": {},
   "outputs": [
    {
     "data": {
      "text/html": [
       "<div>\n",
       "<style scoped>\n",
       "    .dataframe tbody tr th:only-of-type {\n",
       "        vertical-align: middle;\n",
       "    }\n",
       "\n",
       "    .dataframe tbody tr th {\n",
       "        vertical-align: top;\n",
       "    }\n",
       "\n",
       "    .dataframe thead th {\n",
       "        text-align: right;\n",
       "    }\n",
       "</style>\n",
       "<table border=\"1\" class=\"dataframe\">\n",
       "  <thead>\n",
       "    <tr style=\"text-align: right;\">\n",
       "      <th></th>\n",
       "      <th>bus</th>\n",
       "      <th>p_nom</th>\n",
       "      <th>marginal_cost</th>\n",
       "      <th>inflow</th>\n",
       "      <th>p_nom_extendable</th>\n",
       "      <th>capital_cost</th>\n",
       "      <th>efficiency_dispatch</th>\n",
       "      <th>cyclic_state_of_charge</th>\n",
       "      <th>state_of_charge_initial</th>\n",
       "      <th>control</th>\n",
       "      <th>...</th>\n",
       "      <th>carrier</th>\n",
       "      <th>build_year</th>\n",
       "      <th>lifetime</th>\n",
       "      <th>state_of_charge_initial_per_period</th>\n",
       "      <th>state_of_charge_set</th>\n",
       "      <th>cyclic_state_of_charge_per_period</th>\n",
       "      <th>max_hours</th>\n",
       "      <th>efficiency_store</th>\n",
       "      <th>standing_loss</th>\n",
       "      <th>p_nom_opt</th>\n",
       "    </tr>\n",
       "    <tr>\n",
       "      <th>StorageUnit</th>\n",
       "      <th></th>\n",
       "      <th></th>\n",
       "      <th></th>\n",
       "      <th></th>\n",
       "      <th></th>\n",
       "      <th></th>\n",
       "      <th></th>\n",
       "      <th></th>\n",
       "      <th></th>\n",
       "      <th></th>\n",
       "      <th></th>\n",
       "      <th></th>\n",
       "      <th></th>\n",
       "      <th></th>\n",
       "      <th></th>\n",
       "      <th></th>\n",
       "      <th></th>\n",
       "      <th></th>\n",
       "      <th></th>\n",
       "      <th></th>\n",
       "      <th></th>\n",
       "    </tr>\n",
       "  </thead>\n",
       "  <tbody>\n",
       "    <tr>\n",
       "      <th>StorUni</th>\n",
       "      <td>onebus</td>\n",
       "      <td>0.5</td>\n",
       "      <td>10.0</td>\n",
       "      <td>50.0</td>\n",
       "      <td>True</td>\n",
       "      <td>50.0</td>\n",
       "      <td>0.5</td>\n",
       "      <td>True</td>\n",
       "      <td>1000.0</td>\n",
       "      <td>PQ</td>\n",
       "      <td>...</td>\n",
       "      <td></td>\n",
       "      <td>0</td>\n",
       "      <td>inf</td>\n",
       "      <td>False</td>\n",
       "      <td>NaN</td>\n",
       "      <td>True</td>\n",
       "      <td>1.0</td>\n",
       "      <td>1.0</td>\n",
       "      <td>0.0</td>\n",
       "      <td>264.035804</td>\n",
       "    </tr>\n",
       "  </tbody>\n",
       "</table>\n",
       "<p>1 rows × 28 columns</p>\n",
       "</div>"
      ],
      "text/plain": [
       "                bus  p_nom  marginal_cost  inflow  p_nom_extendable  \\\n",
       "StorageUnit                                                           \n",
       "StorUni      onebus    0.5           10.0    50.0              True   \n",
       "\n",
       "             capital_cost  efficiency_dispatch  cyclic_state_of_charge  \\\n",
       "StorageUnit                                                              \n",
       "StorUni              50.0                  0.5                    True   \n",
       "\n",
       "             state_of_charge_initial control  ... carrier  build_year  \\\n",
       "StorageUnit                                   ...                       \n",
       "StorUni                       1000.0      PQ  ...                   0   \n",
       "\n",
       "             lifetime  state_of_charge_initial_per_period  \\\n",
       "StorageUnit                                                 \n",
       "StorUni           inf                               False   \n",
       "\n",
       "             state_of_charge_set  cyclic_state_of_charge_per_period  \\\n",
       "StorageUnit                                                           \n",
       "StorUni                      NaN                               True   \n",
       "\n",
       "             max_hours  efficiency_store standing_loss   p_nom_opt  \n",
       "StorageUnit                                                         \n",
       "StorUni            1.0               1.0           0.0  264.035804  \n",
       "\n",
       "[1 rows x 28 columns]"
      ]
     },
     "execution_count": 20,
     "metadata": {},
     "output_type": "execute_result"
    }
   ],
   "source": [
    "n.storage_units"
   ]
  },
  {
   "cell_type": "code",
   "execution_count": null,
   "metadata": {},
   "outputs": [
    {
     "data": {
      "application/vnd.plotly.v1+json": {
       "config": {
        "linkText": "Export to plot.ly",
        "plotlyServerURL": "https://plot.ly",
        "showLink": false
       },
       "data": [
        {
         "hoverinfo": "text",
         "marker": {
          "color": "cadetblue",
          "size": 10
         },
         "mode": "markers",
         "opacity": 1,
         "text": [
          "Bus onebus"
         ],
         "type": "scatter",
         "x": [
          0.1
         ],
         "y": [
          0.2
         ]
        }
       ],
       "layout": {
        "hovermode": "closest",
        "showlegend": false,
        "template": {
         "data": {
          "bar": [
           {
            "error_x": {
             "color": "#2a3f5f"
            },
            "error_y": {
             "color": "#2a3f5f"
            },
            "marker": {
             "line": {
              "color": "#E5ECF6",
              "width": 0.5
             },
             "pattern": {
              "fillmode": "overlay",
              "size": 10,
              "solidity": 0.2
             }
            },
            "type": "bar"
           }
          ],
          "barpolar": [
           {
            "marker": {
             "line": {
              "color": "#E5ECF6",
              "width": 0.5
             },
             "pattern": {
              "fillmode": "overlay",
              "size": 10,
              "solidity": 0.2
             }
            },
            "type": "barpolar"
           }
          ],
          "carpet": [
           {
            "aaxis": {
             "endlinecolor": "#2a3f5f",
             "gridcolor": "white",
             "linecolor": "white",
             "minorgridcolor": "white",
             "startlinecolor": "#2a3f5f"
            },
            "baxis": {
             "endlinecolor": "#2a3f5f",
             "gridcolor": "white",
             "linecolor": "white",
             "minorgridcolor": "white",
             "startlinecolor": "#2a3f5f"
            },
            "type": "carpet"
           }
          ],
          "choropleth": [
           {
            "colorbar": {
             "outlinewidth": 0,
             "ticks": ""
            },
            "type": "choropleth"
           }
          ],
          "contour": [
           {
            "colorbar": {
             "outlinewidth": 0,
             "ticks": ""
            },
            "colorscale": [
             [
              0,
              "#0d0887"
             ],
             [
              0.1111111111111111,
              "#46039f"
             ],
             [
              0.2222222222222222,
              "#7201a8"
             ],
             [
              0.3333333333333333,
              "#9c179e"
             ],
             [
              0.4444444444444444,
              "#bd3786"
             ],
             [
              0.5555555555555556,
              "#d8576b"
             ],
             [
              0.6666666666666666,
              "#ed7953"
             ],
             [
              0.7777777777777778,
              "#fb9f3a"
             ],
             [
              0.8888888888888888,
              "#fdca26"
             ],
             [
              1,
              "#f0f921"
             ]
            ],
            "type": "contour"
           }
          ],
          "contourcarpet": [
           {
            "colorbar": {
             "outlinewidth": 0,
             "ticks": ""
            },
            "type": "contourcarpet"
           }
          ],
          "heatmap": [
           {
            "colorbar": {
             "outlinewidth": 0,
             "ticks": ""
            },
            "colorscale": [
             [
              0,
              "#0d0887"
             ],
             [
              0.1111111111111111,
              "#46039f"
             ],
             [
              0.2222222222222222,
              "#7201a8"
             ],
             [
              0.3333333333333333,
              "#9c179e"
             ],
             [
              0.4444444444444444,
              "#bd3786"
             ],
             [
              0.5555555555555556,
              "#d8576b"
             ],
             [
              0.6666666666666666,
              "#ed7953"
             ],
             [
              0.7777777777777778,
              "#fb9f3a"
             ],
             [
              0.8888888888888888,
              "#fdca26"
             ],
             [
              1,
              "#f0f921"
             ]
            ],
            "type": "heatmap"
           }
          ],
          "heatmapgl": [
           {
            "colorbar": {
             "outlinewidth": 0,
             "ticks": ""
            },
            "colorscale": [
             [
              0,
              "#0d0887"
             ],
             [
              0.1111111111111111,
              "#46039f"
             ],
             [
              0.2222222222222222,
              "#7201a8"
             ],
             [
              0.3333333333333333,
              "#9c179e"
             ],
             [
              0.4444444444444444,
              "#bd3786"
             ],
             [
              0.5555555555555556,
              "#d8576b"
             ],
             [
              0.6666666666666666,
              "#ed7953"
             ],
             [
              0.7777777777777778,
              "#fb9f3a"
             ],
             [
              0.8888888888888888,
              "#fdca26"
             ],
             [
              1,
              "#f0f921"
             ]
            ],
            "type": "heatmapgl"
           }
          ],
          "histogram": [
           {
            "marker": {
             "pattern": {
              "fillmode": "overlay",
              "size": 10,
              "solidity": 0.2
             }
            },
            "type": "histogram"
           }
          ],
          "histogram2d": [
           {
            "colorbar": {
             "outlinewidth": 0,
             "ticks": ""
            },
            "colorscale": [
             [
              0,
              "#0d0887"
             ],
             [
              0.1111111111111111,
              "#46039f"
             ],
             [
              0.2222222222222222,
              "#7201a8"
             ],
             [
              0.3333333333333333,
              "#9c179e"
             ],
             [
              0.4444444444444444,
              "#bd3786"
             ],
             [
              0.5555555555555556,
              "#d8576b"
             ],
             [
              0.6666666666666666,
              "#ed7953"
             ],
             [
              0.7777777777777778,
              "#fb9f3a"
             ],
             [
              0.8888888888888888,
              "#fdca26"
             ],
             [
              1,
              "#f0f921"
             ]
            ],
            "type": "histogram2d"
           }
          ],
          "histogram2dcontour": [
           {
            "colorbar": {
             "outlinewidth": 0,
             "ticks": ""
            },
            "colorscale": [
             [
              0,
              "#0d0887"
             ],
             [
              0.1111111111111111,
              "#46039f"
             ],
             [
              0.2222222222222222,
              "#7201a8"
             ],
             [
              0.3333333333333333,
              "#9c179e"
             ],
             [
              0.4444444444444444,
              "#bd3786"
             ],
             [
              0.5555555555555556,
              "#d8576b"
             ],
             [
              0.6666666666666666,
              "#ed7953"
             ],
             [
              0.7777777777777778,
              "#fb9f3a"
             ],
             [
              0.8888888888888888,
              "#fdca26"
             ],
             [
              1,
              "#f0f921"
             ]
            ],
            "type": "histogram2dcontour"
           }
          ],
          "mesh3d": [
           {
            "colorbar": {
             "outlinewidth": 0,
             "ticks": ""
            },
            "type": "mesh3d"
           }
          ],
          "parcoords": [
           {
            "line": {
             "colorbar": {
              "outlinewidth": 0,
              "ticks": ""
             }
            },
            "type": "parcoords"
           }
          ],
          "pie": [
           {
            "automargin": true,
            "type": "pie"
           }
          ],
          "scatter": [
           {
            "fillpattern": {
             "fillmode": "overlay",
             "size": 10,
             "solidity": 0.2
            },
            "type": "scatter"
           }
          ],
          "scatter3d": [
           {
            "line": {
             "colorbar": {
              "outlinewidth": 0,
              "ticks": ""
             }
            },
            "marker": {
             "colorbar": {
              "outlinewidth": 0,
              "ticks": ""
             }
            },
            "type": "scatter3d"
           }
          ],
          "scattercarpet": [
           {
            "marker": {
             "colorbar": {
              "outlinewidth": 0,
              "ticks": ""
             }
            },
            "type": "scattercarpet"
           }
          ],
          "scattergeo": [
           {
            "marker": {
             "colorbar": {
              "outlinewidth": 0,
              "ticks": ""
             }
            },
            "type": "scattergeo"
           }
          ],
          "scattergl": [
           {
            "marker": {
             "colorbar": {
              "outlinewidth": 0,
              "ticks": ""
             }
            },
            "type": "scattergl"
           }
          ],
          "scattermapbox": [
           {
            "marker": {
             "colorbar": {
              "outlinewidth": 0,
              "ticks": ""
             }
            },
            "type": "scattermapbox"
           }
          ],
          "scatterpolar": [
           {
            "marker": {
             "colorbar": {
              "outlinewidth": 0,
              "ticks": ""
             }
            },
            "type": "scatterpolar"
           }
          ],
          "scatterpolargl": [
           {
            "marker": {
             "colorbar": {
              "outlinewidth": 0,
              "ticks": ""
             }
            },
            "type": "scatterpolargl"
           }
          ],
          "scatterternary": [
           {
            "marker": {
             "colorbar": {
              "outlinewidth": 0,
              "ticks": ""
             }
            },
            "type": "scatterternary"
           }
          ],
          "surface": [
           {
            "colorbar": {
             "outlinewidth": 0,
             "ticks": ""
            },
            "colorscale": [
             [
              0,
              "#0d0887"
             ],
             [
              0.1111111111111111,
              "#46039f"
             ],
             [
              0.2222222222222222,
              "#7201a8"
             ],
             [
              0.3333333333333333,
              "#9c179e"
             ],
             [
              0.4444444444444444,
              "#bd3786"
             ],
             [
              0.5555555555555556,
              "#d8576b"
             ],
             [
              0.6666666666666666,
              "#ed7953"
             ],
             [
              0.7777777777777778,
              "#fb9f3a"
             ],
             [
              0.8888888888888888,
              "#fdca26"
             ],
             [
              1,
              "#f0f921"
             ]
            ],
            "type": "surface"
           }
          ],
          "table": [
           {
            "cells": {
             "fill": {
              "color": "#EBF0F8"
             },
             "line": {
              "color": "white"
             }
            },
            "header": {
             "fill": {
              "color": "#C8D4E3"
             },
             "line": {
              "color": "white"
             }
            },
            "type": "table"
           }
          ]
         },
         "layout": {
          "annotationdefaults": {
           "arrowcolor": "#2a3f5f",
           "arrowhead": 0,
           "arrowwidth": 1
          },
          "autotypenumbers": "strict",
          "coloraxis": {
           "colorbar": {
            "outlinewidth": 0,
            "ticks": ""
           }
          },
          "colorscale": {
           "diverging": [
            [
             0,
             "#8e0152"
            ],
            [
             0.1,
             "#c51b7d"
            ],
            [
             0.2,
             "#de77ae"
            ],
            [
             0.3,
             "#f1b6da"
            ],
            [
             0.4,
             "#fde0ef"
            ],
            [
             0.5,
             "#f7f7f7"
            ],
            [
             0.6,
             "#e6f5d0"
            ],
            [
             0.7,
             "#b8e186"
            ],
            [
             0.8,
             "#7fbc41"
            ],
            [
             0.9,
             "#4d9221"
            ],
            [
             1,
             "#276419"
            ]
           ],
           "sequential": [
            [
             0,
             "#0d0887"
            ],
            [
             0.1111111111111111,
             "#46039f"
            ],
            [
             0.2222222222222222,
             "#7201a8"
            ],
            [
             0.3333333333333333,
             "#9c179e"
            ],
            [
             0.4444444444444444,
             "#bd3786"
            ],
            [
             0.5555555555555556,
             "#d8576b"
            ],
            [
             0.6666666666666666,
             "#ed7953"
            ],
            [
             0.7777777777777778,
             "#fb9f3a"
            ],
            [
             0.8888888888888888,
             "#fdca26"
            ],
            [
             1,
             "#f0f921"
            ]
           ],
           "sequentialminus": [
            [
             0,
             "#0d0887"
            ],
            [
             0.1111111111111111,
             "#46039f"
            ],
            [
             0.2222222222222222,
             "#7201a8"
            ],
            [
             0.3333333333333333,
             "#9c179e"
            ],
            [
             0.4444444444444444,
             "#bd3786"
            ],
            [
             0.5555555555555556,
             "#d8576b"
            ],
            [
             0.6666666666666666,
             "#ed7953"
            ],
            [
             0.7777777777777778,
             "#fb9f3a"
            ],
            [
             0.8888888888888888,
             "#fdca26"
            ],
            [
             1,
             "#f0f921"
            ]
           ]
          },
          "colorway": [
           "#636efa",
           "#EF553B",
           "#00cc96",
           "#ab63fa",
           "#FFA15A",
           "#19d3f3",
           "#FF6692",
           "#B6E880",
           "#FF97FF",
           "#FECB52"
          ],
          "font": {
           "color": "#2a3f5f"
          },
          "geo": {
           "bgcolor": "white",
           "lakecolor": "white",
           "landcolor": "#E5ECF6",
           "showlakes": true,
           "showland": true,
           "subunitcolor": "white"
          },
          "hoverlabel": {
           "align": "left"
          },
          "hovermode": "closest",
          "mapbox": {
           "style": "light"
          },
          "paper_bgcolor": "white",
          "plot_bgcolor": "#E5ECF6",
          "polar": {
           "angularaxis": {
            "gridcolor": "white",
            "linecolor": "white",
            "ticks": ""
           },
           "bgcolor": "#E5ECF6",
           "radialaxis": {
            "gridcolor": "white",
            "linecolor": "white",
            "ticks": ""
           }
          },
          "scene": {
           "xaxis": {
            "backgroundcolor": "#E5ECF6",
            "gridcolor": "white",
            "gridwidth": 2,
            "linecolor": "white",
            "showbackground": true,
            "ticks": "",
            "zerolinecolor": "white"
           },
           "yaxis": {
            "backgroundcolor": "#E5ECF6",
            "gridcolor": "white",
            "gridwidth": 2,
            "linecolor": "white",
            "showbackground": true,
            "ticks": "",
            "zerolinecolor": "white"
           },
           "zaxis": {
            "backgroundcolor": "#E5ECF6",
            "gridcolor": "white",
            "gridwidth": 2,
            "linecolor": "white",
            "showbackground": true,
            "ticks": "",
            "zerolinecolor": "white"
           }
          },
          "shapedefaults": {
           "line": {
            "color": "#2a3f5f"
           }
          },
          "ternary": {
           "aaxis": {
            "gridcolor": "white",
            "linecolor": "white",
            "ticks": ""
           },
           "baxis": {
            "gridcolor": "white",
            "linecolor": "white",
            "ticks": ""
           },
           "bgcolor": "#E5ECF6",
           "caxis": {
            "gridcolor": "white",
            "linecolor": "white",
            "ticks": ""
           }
          },
          "title": {
           "x": 0.05
          },
          "xaxis": {
           "automargin": true,
           "gridcolor": "white",
           "linecolor": "white",
           "ticks": "",
           "title": {
            "standoff": 15
           },
           "zerolinecolor": "white",
           "zerolinewidth": 2
          },
          "yaxis": {
           "automargin": true,
           "gridcolor": "white",
           "linecolor": "white",
           "ticks": "",
           "title": {
            "standoff": 15
           },
           "zerolinecolor": "white",
           "zerolinewidth": 2
          }
         }
        },
        "title": {
         "text": ""
        }
       }
      }
     },
     "metadata": {},
     "output_type": "display_data"
    },
    {
     "data": {
      "text/plain": [
       "{'data': [{'x': Bus\n",
       "   onebus    0.1\n",
       "   Name: x, dtype: float64,\n",
       "   'y': Bus\n",
       "   onebus    0.2\n",
       "   Name: y, dtype: float64,\n",
       "   'text': Index(['Bus onebus'], dtype='object', name='Bus'),\n",
       "   'type': 'scatter',\n",
       "   'mode': 'markers',\n",
       "   'hoverinfo': 'text',\n",
       "   'opacity': 1,\n",
       "   'marker': {'color': 'cadetblue', 'size': 10}}],\n",
       " 'layout': {'title': '',\n",
       "  'hovermode': 'closest',\n",
       "  'showlegend': False,\n",
       "  'shapes': []}}"
      ]
     },
     "execution_count": 21,
     "metadata": {},
     "output_type": "execute_result"
    }
   ],
   "source": [
    "n.iplot()"
   ]
  },
  {
   "cell_type": "code",
   "execution_count": null,
   "metadata": {},
   "outputs": [
    {
     "data": {
      "text/html": [
       "<div>\n",
       "<style scoped>\n",
       "    .dataframe tbody tr th:only-of-type {\n",
       "        vertical-align: middle;\n",
       "    }\n",
       "\n",
       "    .dataframe tbody tr th {\n",
       "        vertical-align: top;\n",
       "    }\n",
       "\n",
       "    .dataframe thead th {\n",
       "        text-align: right;\n",
       "    }\n",
       "</style>\n",
       "<table border=\"1\" class=\"dataframe\">\n",
       "  <thead>\n",
       "    <tr style=\"text-align: right;\">\n",
       "      <th></th>\n",
       "      <th>x</th>\n",
       "      <th>y</th>\n",
       "      <th>carrier</th>\n",
       "      <th>v_nom</th>\n",
       "      <th>type</th>\n",
       "      <th>unit</th>\n",
       "      <th>v_mag_pu_set</th>\n",
       "      <th>v_mag_pu_min</th>\n",
       "      <th>v_mag_pu_max</th>\n",
       "      <th>control</th>\n",
       "      <th>sub_network</th>\n",
       "      <th>generator</th>\n",
       "    </tr>\n",
       "    <tr>\n",
       "      <th>Bus</th>\n",
       "      <th></th>\n",
       "      <th></th>\n",
       "      <th></th>\n",
       "      <th></th>\n",
       "      <th></th>\n",
       "      <th></th>\n",
       "      <th></th>\n",
       "      <th></th>\n",
       "      <th></th>\n",
       "      <th></th>\n",
       "      <th></th>\n",
       "      <th></th>\n",
       "    </tr>\n",
       "  </thead>\n",
       "  <tbody>\n",
       "    <tr>\n",
       "      <th>onebus</th>\n",
       "      <td>0.1</td>\n",
       "      <td>0.2</td>\n",
       "      <td>AC</td>\n",
       "      <td>20.0</td>\n",
       "      <td></td>\n",
       "      <td>None</td>\n",
       "      <td>1.0</td>\n",
       "      <td>0.0</td>\n",
       "      <td>inf</td>\n",
       "      <td>Slack</td>\n",
       "      <td>0</td>\n",
       "      <td>0 solar</td>\n",
       "    </tr>\n",
       "  </tbody>\n",
       "</table>\n",
       "</div>"
      ],
      "text/plain": [
       "          x    y carrier  v_nom type  unit  v_mag_pu_set  v_mag_pu_min  \\\n",
       "Bus                                                                      \n",
       "onebus  0.1  0.2      AC   20.0       None           1.0           0.0   \n",
       "\n",
       "        v_mag_pu_max control sub_network generator  \n",
       "Bus                                                 \n",
       "onebus           inf   Slack           0   0 solar  "
      ]
     },
     "execution_count": 22,
     "metadata": {},
     "output_type": "execute_result"
    }
   ],
   "source": [
    "n.buses"
   ]
  }
 ],
 "metadata": {
  "kernelspec": {
   "display_name": "Python 3.9.13 ('pypsa-earth')",
   "language": "python",
   "name": "python3"
  },
  "language_info": {
   "codemirror_mode": {
    "name": "ipython",
    "version": 3
   },
   "file_extension": ".py",
   "mimetype": "text/x-python",
   "name": "python",
   "nbconvert_exporter": "python",
   "pygments_lexer": "ipython3",
   "version": "3.9.13"
  },
  "orig_nbformat": 4,
  "vscode": {
   "interpreter": {
    "hash": "60686b472709b5af7a580af664912c7edc8daf918109af2ab9a56e9417cd6941"
   }
  }
 },
 "nbformat": 4,
 "nbformat_minor": 2
}
