{
 "cells": [
  {
   "cell_type": "code",
   "execution_count": 1,
   "metadata": {},
   "outputs": [
    {
     "name": "stderr",
     "output_type": "stream",
     "text": [
      "c:\\Users\\denis\\miniconda3\\envs\\pypsa-earth\\lib\\site-packages\\pypsa\\components.py:374: FutureWarning: iteritems is deprecated and will be removed in a future version. Use .items instead.\n",
      "  {k: pd.Series(dtype=d) for k, d in static_dtypes.iteritems()},\n",
      "c:\\Users\\denis\\miniconda3\\envs\\pypsa-earth\\lib\\site-packages\\pypsa\\components.py:374: FutureWarning: iteritems is deprecated and will be removed in a future version. Use .items instead.\n",
      "  {k: pd.Series(dtype=d) for k, d in static_dtypes.iteritems()},\n",
      "c:\\Users\\denis\\miniconda3\\envs\\pypsa-earth\\lib\\site-packages\\pypsa\\components.py:374: FutureWarning: iteritems is deprecated and will be removed in a future version. Use .items instead.\n",
      "  {k: pd.Series(dtype=d) for k, d in static_dtypes.iteritems()},\n",
      "c:\\Users\\denis\\miniconda3\\envs\\pypsa-earth\\lib\\site-packages\\pypsa\\components.py:374: FutureWarning: iteritems is deprecated and will be removed in a future version. Use .items instead.\n",
      "  {k: pd.Series(dtype=d) for k, d in static_dtypes.iteritems()},\n",
      "c:\\Users\\denis\\miniconda3\\envs\\pypsa-earth\\lib\\site-packages\\pypsa\\components.py:374: FutureWarning: iteritems is deprecated and will be removed in a future version. Use .items instead.\n",
      "  {k: pd.Series(dtype=d) for k, d in static_dtypes.iteritems()},\n",
      "c:\\Users\\denis\\miniconda3\\envs\\pypsa-earth\\lib\\site-packages\\pypsa\\components.py:374: FutureWarning: iteritems is deprecated and will be removed in a future version. Use .items instead.\n",
      "  {k: pd.Series(dtype=d) for k, d in static_dtypes.iteritems()},\n",
      "c:\\Users\\denis\\miniconda3\\envs\\pypsa-earth\\lib\\site-packages\\pypsa\\components.py:374: FutureWarning: iteritems is deprecated and will be removed in a future version. Use .items instead.\n",
      "  {k: pd.Series(dtype=d) for k, d in static_dtypes.iteritems()},\n",
      "c:\\Users\\denis\\miniconda3\\envs\\pypsa-earth\\lib\\site-packages\\pypsa\\components.py:374: FutureWarning: iteritems is deprecated and will be removed in a future version. Use .items instead.\n",
      "  {k: pd.Series(dtype=d) for k, d in static_dtypes.iteritems()},\n",
      "c:\\Users\\denis\\miniconda3\\envs\\pypsa-earth\\lib\\site-packages\\pypsa\\components.py:374: FutureWarning: iteritems is deprecated and will be removed in a future version. Use .items instead.\n",
      "  {k: pd.Series(dtype=d) for k, d in static_dtypes.iteritems()},\n",
      "c:\\Users\\denis\\miniconda3\\envs\\pypsa-earth\\lib\\site-packages\\pypsa\\components.py:374: FutureWarning: iteritems is deprecated and will be removed in a future version. Use .items instead.\n",
      "  {k: pd.Series(dtype=d) for k, d in static_dtypes.iteritems()},\n",
      "c:\\Users\\denis\\miniconda3\\envs\\pypsa-earth\\lib\\site-packages\\pypsa\\components.py:374: FutureWarning: iteritems is deprecated and will be removed in a future version. Use .items instead.\n",
      "  {k: pd.Series(dtype=d) for k, d in static_dtypes.iteritems()},\n",
      "c:\\Users\\denis\\miniconda3\\envs\\pypsa-earth\\lib\\site-packages\\pypsa\\components.py:374: FutureWarning: iteritems is deprecated and will be removed in a future version. Use .items instead.\n",
      "  {k: pd.Series(dtype=d) for k, d in static_dtypes.iteritems()},\n",
      "c:\\Users\\denis\\miniconda3\\envs\\pypsa-earth\\lib\\site-packages\\pypsa\\components.py:374: FutureWarning: iteritems is deprecated and will be removed in a future version. Use .items instead.\n",
      "  {k: pd.Series(dtype=d) for k, d in static_dtypes.iteritems()},\n",
      "c:\\Users\\denis\\miniconda3\\envs\\pypsa-earth\\lib\\site-packages\\pypsa\\components.py:374: FutureWarning: iteritems is deprecated and will be removed in a future version. Use .items instead.\n",
      "  {k: pd.Series(dtype=d) for k, d in static_dtypes.iteritems()},\n"
     ]
    }
   ],
   "source": [
    "#Technologies: solar and battery\n",
    "\n",
    "import pypsa\n",
    "import pandas as pd\n",
    "import xarray as xr\n",
    "\n",
    "n=pypsa.Network(name = \"my_network\")\n"
   ]
  },
  {
   "cell_type": "code",
   "execution_count": 2,
   "metadata": {},
   "outputs": [
    {
     "data": {
      "text/plain": [
       "Index(['onebus'], dtype='object')"
      ]
     },
     "execution_count": 2,
     "metadata": {},
     "output_type": "execute_result"
    }
   ],
   "source": [
    "#I create the bus \n",
    "\n",
    "n.madd(\"Bus\", [\"onebus\"])\n",
    "\n",
    "#To see the bus: n.buses"
   ]
  },
  {
   "cell_type": "code",
   "execution_count": 3,
   "metadata": {},
   "outputs": [],
   "source": [
    "# #I import a time series for generation as pandas dataframe\n",
    "# snapshots = range(7)\n",
    "# n.set_snapshots(snapshots)\n",
    "\n",
    "with xr.open_dataset(r'C:\\Users\\denis\\OneDrive\\Desktop\\Mini grids\\pypsa-distribution\\time_series\\Generation_timeseries\\profile_solar.nc') as ds:\n",
    "#solar=(r'C:\\Users\\denis\\OneDrive\\Desktop\\Mini grids\\pypsa-distribution\\time_series\\Generation_timeseries\\profile_solar.nc')\n",
    "\n",
    "    solar=ds[\"profile\"].transpose(\"time\", \"bus\").to_pandas()\n",
    "    solar=solar.iloc[:, 0]\n"
   ]
  },
  {
   "cell_type": "code",
   "execution_count": 4,
   "metadata": {},
   "outputs": [
    {
     "data": {
      "text/plain": [
       "Index(['solargenerator'], dtype='object')"
      ]
     },
     "execution_count": 4,
     "metadata": {},
     "output_type": "execute_result"
    }
   ],
   "source": [
    "\n",
    "#I connect a generator to the bus \"onebus\"\n",
    "\n",
    "n.madd(\"Generator\", [\"solargenerator\"], bus = \"onebus\", p_nom_extendable=True, p_max_pu=solar )\n"
   ]
  },
  {
   "cell_type": "code",
   "execution_count": 5,
   "metadata": {},
   "outputs": [],
   "source": [
    "#solar.head(10)"
   ]
  },
  {
   "cell_type": "code",
   "execution_count": 6,
   "metadata": {},
   "outputs": [],
   "source": [
    "#n.generators"
   ]
  },
  {
   "cell_type": "code",
   "execution_count": 7,
   "metadata": {},
   "outputs": [
    {
     "ename": "NameError",
     "evalue": "name 'np' is not defined",
     "output_type": "error",
     "traceback": [
      "\u001b[1;31m---------------------------------------------------------------------------\u001b[0m",
      "\u001b[1;31mNameError\u001b[0m                                 Traceback (most recent call last)",
      "Cell \u001b[1;32mIn [7], line 4\u001b[0m\n\u001b[0;32m      1\u001b[0m df \u001b[39m=\u001b[39m pd\u001b[39m.\u001b[39mDataFrame([(\u001b[39m'\u001b[39m\u001b[39mbird\u001b[39m\u001b[39m'\u001b[39m, \u001b[39m389.0\u001b[39m),\n\u001b[0;32m      2\u001b[0m                  (\u001b[39m'\u001b[39m\u001b[39mbird\u001b[39m\u001b[39m'\u001b[39m, \u001b[39m24.0\u001b[39m),\n\u001b[0;32m      3\u001b[0m                  (\u001b[39m'\u001b[39m\u001b[39mmammal\u001b[39m\u001b[39m'\u001b[39m, \u001b[39m80.5\u001b[39m),\n\u001b[1;32m----> 4\u001b[0m                  (\u001b[39m'\u001b[39m\u001b[39mmammal\u001b[39m\u001b[39m'\u001b[39m, np\u001b[39m.\u001b[39mnan)],\n\u001b[0;32m      5\u001b[0m                  index\u001b[39m=\u001b[39m[\u001b[39m'\u001b[39m\u001b[39mfalcon\u001b[39m\u001b[39m'\u001b[39m, \u001b[39m'\u001b[39m\u001b[39mparrot\u001b[39m\u001b[39m'\u001b[39m, \u001b[39m'\u001b[39m\u001b[39mlion\u001b[39m\u001b[39m'\u001b[39m, \u001b[39m'\u001b[39m\u001b[39mmonkey\u001b[39m\u001b[39m'\u001b[39m],\n\u001b[0;32m      6\u001b[0m                  columns\u001b[39m=\u001b[39m(\u001b[39m'\u001b[39m\u001b[39mclass\u001b[39m\u001b[39m'\u001b[39m, \u001b[39m'\u001b[39m\u001b[39mmax_speed\u001b[39m\u001b[39m'\u001b[39m))\n\u001b[0;32m      7\u001b[0m \u001b[39mprint\u001b[39m(df)\n",
      "\u001b[1;31mNameError\u001b[0m: name 'np' is not defined"
     ]
    }
   ],
   "source": [
    "df = pd.DataFrame([('bird', 389.0),\n",
    "                 ('bird', 24.0),\n",
    "                 ('mammal', 80.5),\n",
    "                 ('mammal', np.nan)],\n",
    "                 index=['falcon', 'parrot', 'lion', 'monkey'],\n",
    "                 columns=('class', 'max_speed'))\n",
    "print(df)"
   ]
  },
  {
   "cell_type": "code",
   "execution_count": 9,
   "metadata": {},
   "outputs": [
    {
     "name": "stderr",
     "output_type": "stream",
     "text": [
      "c:\\Users\\denis\\miniconda3\\envs\\pypsa-earth\\lib\\site-packages\\pypsa\\components.py:485: FutureWarning: iteritems is deprecated and will be removed in a future version. Use .items instead.\n",
      "  for k, default in attrs.default[attrs.varying].iteritems():\n",
      "WARNING:pypsa.io:Components Index(['bus 0', 'time'], dtype='object', name='Load') for attribute p_set of Load are not in main components dataframe loads\n"
     ]
    },
    {
     "name": "stdout",
     "output_type": "stream",
     "text": [
      "                  time      bus 0\n",
      "0        1/1/2022 0:00  18.559885\n",
      "1        1/1/2022 1:00  20.595279\n",
      "2        1/1/2022 2:00  14.449810\n",
      "3        1/1/2022 3:00  16.499849\n",
      "4        1/1/2022 4:00  13.390089\n",
      "...                ...        ...\n",
      "8755  31/12/2022 19:00  57.438227\n",
      "8756  31/12/2022 20:00  35.517246\n",
      "8757  31/12/2022 21:00  33.213649\n",
      "8758  31/12/2022 22:00  30.535195\n",
      "8759  31/12/2022 23:00  25.422619\n",
      "\n",
      "[8760 rows x 2 columns]\n"
     ]
    },
    {
     "data": {
      "text/plain": [
       "Index(['MyLoad'], dtype='object')"
      ]
     },
     "execution_count": 9,
     "metadata": {},
     "output_type": "execute_result"
    }
   ],
   "source": [
    "#I import a time series for load as pandas dataframe\n",
    "snapshots = range(8760)\n",
    "n.set_snapshots(snapshots)\n",
    "\n",
    "load_df=pd.read_csv(r'C:\\Users\\denis\\OneDrive\\Desktop\\Mini grids\\pypsa-distribution\\time_series\\Load_timeseries\\sample_profile.csv')\n",
    "                    \n",
    "print(load_df)                   \n",
    "\n",
    "#I connect the load to the bus \"onebus\"\n",
    "\n",
    "n.madd(\"Load\", [\"MyLoad\"], bus=\"onebus\", p_set=load_df)\n",
    "\n",
    "\n",
    "#n.loads\n"
   ]
  },
  {
   "cell_type": "code",
   "execution_count": 8,
   "metadata": {},
   "outputs": [
    {
     "ename": "NameError",
     "evalue": "name 'load_df' is not defined",
     "output_type": "error",
     "traceback": [
      "\u001b[1;31m---------------------------------------------------------------------------\u001b[0m",
      "\u001b[1;31mNameError\u001b[0m                                 Traceback (most recent call last)",
      "Cell \u001b[1;32mIn [8], line 1\u001b[0m\n\u001b[1;32m----> 1\u001b[0m \u001b[39mprint\u001b[39m(load_df)\n",
      "\u001b[1;31mNameError\u001b[0m: name 'load_df' is not defined"
     ]
    }
   ],
   "source": [
    "print(load_df)"
   ]
  },
  {
   "cell_type": "code",
   "execution_count": null,
   "metadata": {},
   "outputs": [
    {
     "data": {
      "text/html": [
       "<div>\n",
       "<style scoped>\n",
       "    .dataframe tbody tr th:only-of-type {\n",
       "        vertical-align: middle;\n",
       "    }\n",
       "\n",
       "    .dataframe tbody tr th {\n",
       "        vertical-align: top;\n",
       "    }\n",
       "\n",
       "    .dataframe thead th {\n",
       "        text-align: right;\n",
       "    }\n",
       "</style>\n",
       "<table border=\"1\" class=\"dataframe\">\n",
       "  <thead>\n",
       "    <tr style=\"text-align: right;\">\n",
       "      <th></th>\n",
       "      <th>bus 0</th>\n",
       "    </tr>\n",
       "  </thead>\n",
       "  <tbody>\n",
       "    <tr>\n",
       "      <th>count</th>\n",
       "      <td>8760.000000</td>\n",
       "    </tr>\n",
       "    <tr>\n",
       "      <th>mean</th>\n",
       "      <td>27.625794</td>\n",
       "    </tr>\n",
       "    <tr>\n",
       "      <th>std</th>\n",
       "      <td>13.620815</td>\n",
       "    </tr>\n",
       "    <tr>\n",
       "      <th>min</th>\n",
       "      <td>7.686354</td>\n",
       "    </tr>\n",
       "    <tr>\n",
       "      <th>25%</th>\n",
       "      <td>16.282115</td>\n",
       "    </tr>\n",
       "    <tr>\n",
       "      <th>50%</th>\n",
       "      <td>26.358556</td>\n",
       "    </tr>\n",
       "    <tr>\n",
       "      <th>75%</th>\n",
       "      <td>31.925274</td>\n",
       "    </tr>\n",
       "    <tr>\n",
       "      <th>max</th>\n",
       "      <td>72.823969</td>\n",
       "    </tr>\n",
       "  </tbody>\n",
       "</table>\n",
       "</div>"
      ],
      "text/plain": [
       "             bus 0\n",
       "count  8760.000000\n",
       "mean     27.625794\n",
       "std      13.620815\n",
       "min       7.686354\n",
       "25%      16.282115\n",
       "50%      26.358556\n",
       "75%      31.925274\n",
       "max      72.823969"
      ]
     },
     "execution_count": 10,
     "metadata": {},
     "output_type": "execute_result"
    }
   ],
   "source": [
    "load_df.describe()"
   ]
  },
  {
   "cell_type": "code",
   "execution_count": null,
   "metadata": {},
   "outputs": [
    {
     "data": {
      "text/plain": [
       "Index(['mySU'], dtype='object')"
      ]
     },
     "execution_count": 7,
     "metadata": {},
     "output_type": "execute_result"
    }
   ],
   "source": [
    "n.madd(\"StorageUnit\", [\"mySU\"] , bus=\"onebus\")\n"
   ]
  },
  {
   "cell_type": "code",
   "execution_count": null,
   "metadata": {},
   "outputs": [
    {
     "name": "stdout",
     "output_type": "stream",
     "text": [
      "PyPSA Network 'my_network'\n",
      "Components:\n",
      " - Bus: 1\n",
      " - Load: 1\n",
      " - StorageUnit: 1\n",
      "Snapshots: 8760\n"
     ]
    }
   ],
   "source": [
    "#I want to see my whole network:\n",
    "\n",
    "print(n)"
   ]
  },
  {
   "cell_type": "code",
   "execution_count": null,
   "metadata": {},
   "outputs": [],
   "source": [
    "df = pd.DataFrame([('bird', 389.0),\n",
    "                 ('bird', 24.0),\n",
    "                 ('mammal', 80.5),\n",
    "                 ('mammal', np.nan)],\n",
    "                 index=['falcon', 'parrot', 'lion', 'monkey'],\n",
    "                 columns=('class', 'max_speed'))\n",
    "print(df)"
   ]
  },
  {
   "cell_type": "code",
   "execution_count": null,
   "metadata": {},
   "outputs": [
    {
     "name": "stdout",
     "output_type": "stream",
     "text": [
      "         class  max_speed\n",
      "falcon    bird      389.0\n",
      "parrot    bird       24.0\n",
      "lion    mammal       80.5\n",
      "monkey  mammal        NaN\n"
     ]
    }
   ],
   "source": [
    "\n"
   ]
  }
 ],
 "metadata": {
  "kernelspec": {
   "display_name": "Python 3.9.13 ('pypsa-earth')",
   "language": "python",
   "name": "python3"
  },
  "language_info": {
   "codemirror_mode": {
    "name": "ipython",
    "version": 3
   },
   "file_extension": ".py",
   "mimetype": "text/x-python",
   "name": "python",
   "nbconvert_exporter": "python",
   "pygments_lexer": "ipython3",
   "version": "3.9.13"
  },
  "orig_nbformat": 4,
  "vscode": {
   "interpreter": {
    "hash": "60686b472709b5af7a580af664912c7edc8daf918109af2ab9a56e9417cd6941"
   }
  }
 },
 "nbformat": 4,
 "nbformat_minor": 2
}
