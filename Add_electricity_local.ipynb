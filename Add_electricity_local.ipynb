{
 "cells": [
  {
   "cell_type": "code",
   "execution_count": 1,
   "metadata": {},
   "outputs": [
    {
     "name": "stderr",
     "output_type": "stream",
     "text": [
      "c:\\Users\\denis\\miniconda3\\envs\\pypsa-earth\\lib\\site-packages\\pypsa\\components.py:374: FutureWarning:\n",
      "\n",
      "iteritems is deprecated and will be removed in a future version. Use .items instead.\n",
      "\n",
      "c:\\Users\\denis\\miniconda3\\envs\\pypsa-earth\\lib\\site-packages\\pypsa\\components.py:374: FutureWarning:\n",
      "\n",
      "iteritems is deprecated and will be removed in a future version. Use .items instead.\n",
      "\n",
      "c:\\Users\\denis\\miniconda3\\envs\\pypsa-earth\\lib\\site-packages\\pypsa\\components.py:374: FutureWarning:\n",
      "\n",
      "iteritems is deprecated and will be removed in a future version. Use .items instead.\n",
      "\n",
      "c:\\Users\\denis\\miniconda3\\envs\\pypsa-earth\\lib\\site-packages\\pypsa\\components.py:374: FutureWarning:\n",
      "\n",
      "iteritems is deprecated and will be removed in a future version. Use .items instead.\n",
      "\n",
      "c:\\Users\\denis\\miniconda3\\envs\\pypsa-earth\\lib\\site-packages\\pypsa\\components.py:374: FutureWarning:\n",
      "\n",
      "iteritems is deprecated and will be removed in a future version. Use .items instead.\n",
      "\n",
      "c:\\Users\\denis\\miniconda3\\envs\\pypsa-earth\\lib\\site-packages\\pypsa\\components.py:374: FutureWarning:\n",
      "\n",
      "iteritems is deprecated and will be removed in a future version. Use .items instead.\n",
      "\n",
      "c:\\Users\\denis\\miniconda3\\envs\\pypsa-earth\\lib\\site-packages\\pypsa\\components.py:374: FutureWarning:\n",
      "\n",
      "iteritems is deprecated and will be removed in a future version. Use .items instead.\n",
      "\n",
      "c:\\Users\\denis\\miniconda3\\envs\\pypsa-earth\\lib\\site-packages\\pypsa\\components.py:374: FutureWarning:\n",
      "\n",
      "iteritems is deprecated and will be removed in a future version. Use .items instead.\n",
      "\n",
      "c:\\Users\\denis\\miniconda3\\envs\\pypsa-earth\\lib\\site-packages\\pypsa\\components.py:374: FutureWarning:\n",
      "\n",
      "iteritems is deprecated and will be removed in a future version. Use .items instead.\n",
      "\n",
      "c:\\Users\\denis\\miniconda3\\envs\\pypsa-earth\\lib\\site-packages\\pypsa\\components.py:374: FutureWarning:\n",
      "\n",
      "iteritems is deprecated and will be removed in a future version. Use .items instead.\n",
      "\n",
      "c:\\Users\\denis\\miniconda3\\envs\\pypsa-earth\\lib\\site-packages\\pypsa\\components.py:374: FutureWarning:\n",
      "\n",
      "iteritems is deprecated and will be removed in a future version. Use .items instead.\n",
      "\n",
      "c:\\Users\\denis\\miniconda3\\envs\\pypsa-earth\\lib\\site-packages\\pypsa\\components.py:374: FutureWarning:\n",
      "\n",
      "iteritems is deprecated and will be removed in a future version. Use .items instead.\n",
      "\n",
      "c:\\Users\\denis\\miniconda3\\envs\\pypsa-earth\\lib\\site-packages\\pypsa\\components.py:374: FutureWarning:\n",
      "\n",
      "iteritems is deprecated and will be removed in a future version. Use .items instead.\n",
      "\n",
      "c:\\Users\\denis\\miniconda3\\envs\\pypsa-earth\\lib\\site-packages\\pypsa\\components.py:374: FutureWarning:\n",
      "\n",
      "iteritems is deprecated and will be removed in a future version. Use .items instead.\n",
      "\n",
      "c:\\Users\\denis\\miniconda3\\envs\\pypsa-earth\\lib\\site-packages\\pypsa\\components.py:485: FutureWarning:\n",
      "\n",
      "iteritems is deprecated and will be removed in a future version. Use .items instead.\n",
      "\n"
     ]
    },
    {
     "name": "stdout",
     "output_type": "stream",
     "text": [
      "{'version': '0.0.2', 'tutorial': True, 'logging': {'level': 'INFO', 'format': '%(levelname)s:%(name)s:%(message)s'}, 'scenario': {'simpl': [''], 'll': ['copt'], 'clusters': [6], 'opts': ['Co2L-4H']}, 'countries': ['NG'], 'summary_dir': 'results', 'snapshots': {'start': '2013-03-1', 'end': '2013-03-7', 'inclusive': 'left'}, 'enable': {'retrieve_databundle': False, 'download_osm_data': False, 'build_cutout': False, 'build_natura_raster': False}, 'crs': {'geo_crs': 'EPSG:4326', 'distance_crs': 'EPSG:3857', 'area_crs': 'ESRI:54009'}, 'retrieve_databundle': {'show_progress': False}, 'augmented_line_connection': {'add_to_snakefile': False, 'connectivity_upgrade': 2, 'new_line_type': ['HVAC'], 'min_expansion': 1, 'min_DC_length': 600}, 'cluster_options': {'alternative_clustering': False, 'distribute_cluster': ['load'], 'out_logging': True, 'aggregation_strategies': {'generators': {'p_nom': 'sum', 'p_nom_max': 'sum', 'p_nom_min': 'sum', 'p_min_pu': 'mean', 'marginal_cost': 'mean', 'committable': 'any', 'ramp_limit_up': 'max', 'ramp_limit_down': 'max', 'efficiency': 'mean'}}}, 'build_shape_options': {'gadm_layer_id': 1, 'update_file': False, 'out_logging': True, 'year': 2020, 'nprocesses': 5, 'worldpop_method': 'standard', 'gdp_method': 'standard'}, 'clean_osm_data_options': {'names_by_shapes': True, 'threshold_voltage': 35000, 'tag_substation': 'transmission', 'add_line_endings': True, 'generator_name_method': 'OSM'}, 'build_osm_network': {'group_close_buses': True, 'group_tolerance_buses': 500, 'split_overpassing_lines': True, 'overpassing_lines_tolerance': 1}, 'base_network': {'min_voltage_substation_offshore': 35000, 'min_voltage_rebase_voltage': 35000}, 'load_options': {'ssp': 'ssp2-2.6', 'weather_year': 2013, 'prediction_year': 2030, 'scale': 1}, 'electricity': {'voltages': [220.0, 300.0, 380.0], 'co2limit': 1487000000.0, 'co2base': 1487000000.0, 'agg_p_nom_limits': 'data/agg_p_nom_minmax.csv', 'hvdc_as_lines': False, 'operational_reserve': {'activate': False, 'epsilon_load': 0.02, 'epsilon_vres': 0.02, 'contingency': 0}, 'max_hours': {'battery': 6, 'H2': 168}, 'extendable_carriers': {'Generator': ['solar', 'onwind', 'offwind-ac', 'offwind-dc', 'OCGT'], 'StorageUnit': [], 'Store': ['battery', 'H2'], 'Link': []}, 'powerplants_filter': '(DateOut >= 2022 or DateOut != DateOut)', 'custom_powerplants': False, 'conventional_carriers': ['nuclear', 'oil', 'OCGT', 'CCGT', 'coal', 'lignite', 'geothermal', 'biomass'], 'renewable_carriers': ['solar', 'onwind', 'offwind-ac', 'offwind-dc', 'hydro'], 'estimate_renewable_capacities': {'stats': 'irena', 'year': 2020, 'p_nom_min': 1, 'p_nom_max': False, 'technology_mapping': {'Offshore': ['offwind-ac', 'offwind-dc'], 'Onshore': ['onwind'], 'PV': ['solar']}}}, 'lines': {'types': {220.0: 'Al/St 240/40 2-bundle 220.0', 300.0: 'Al/St 240/40 3-bundle 300.0', 380.0: 'Al/St 240/40 4-bundle 380.0'}, 'dc_type': 'DC_custom_linetype', 's_max_pu': 0.7, 's_nom_max': inf, 'length_factor': 1.25, 'under_construction': 'zero'}, 'links': {'p_max_pu': 1.0, 'p_nom_max': inf, 'include_tyndp': True, 'under_construction': 'zero'}, 'transformers': {'x': 0.1, 's_nom': 2000.0, 'type': ''}, 'atlite': {'nprocesses': 4, 'cutouts': {'africa-2013-era5-tutorial': {'module': 'era5', 'dx': 0.3, 'dy': 0.3}}}, 'renewable': {'onwind': {'cutout': 'africa-2013-era5-tutorial', 'resource': {'method': 'wind', 'turbine': 'Vestas_V112_3MW'}, 'capacity_per_sqkm': 3, 'copernicus': {'grid_codes': [20, 30, 40, 60, 100, 111, 112, 113, 114, 115, 116, 121, 122, 123, 124, 125, 126], 'distance': 1000, 'distance_grid_codes': [50]}, 'natura': True, 'potential': 'simple', 'clip_p_max_pu': 0.01, 'extendable': True}, 'solar': {'cutout': 'africa-2013-era5-tutorial', 'resource': {'method': 'pv', 'panel': 'CSi', 'orientation': 'latitude_optimal'}, 'capacity_per_sqkm': 4.6, 'correction_factor': 0.854337, 'copernicus': {'grid_codes': [20, 30, 40, 50, 60, 90, 100]}, 'natura': True, 'potential': 'simple', 'clip_p_max_pu': 0.01, 'extendable': True}}, 'costs': {'year': 2030, 'discountrate': 0.07, 'USD2013_to_EUR2013': 0.7532, 'marginal_cost': {'solar': 0.01, 'onwind': 0.015, 'offwind': 0.015, 'hydro': 0.0, 'H2': 0.0, 'electrolysis': 0.0, 'fuel cell': 0.0, 'battery': 0.0, 'battery inverter': 0.0}, 'emission_prices': {'co2': 0.0}}, 'monte_carlo': {'options': {'add_to_snakefile': False, 'samples': 7, 'sampling_strategy': 'chaospy'}, 'pypsa_standard': {'loads_t.p_set': [0.9, 1.1], 'generators_t.p_max_pu.loc[:, n.generators.carrier == \"wind\"]': [0.9, 1.1], 'generators_t.p_max_pu.loc[:, n.generators.carrier == \"solar\"]': [0.9, 1.1]}}, 'solving': {'options': {'formulation': 'kirchhoff', 'load_shedding': True, 'noisy_costs': True, 'min_iterations': 4, 'max_iterations': 6, 'clip_p_max_pu': 0.01, 'skip_iterations': True, 'track_iterations': False}, 'solver': {'name': 'glpk'}}, 'plotting': {'map': {'figsize': [7, 7], 'boundaries': [-10.2, 29, 35, 72], 'p_nom': {'bus_size_factor': 50000.0, 'linewidth_factor': 3000.0}}, 'costs_max': 800, 'costs_threshold': 1, 'energy_max': 15000.0, 'energy_min': -10000.0, 'energy_threshold': 50.0, 'vre_techs': ['onwind', 'offwind-ac', 'offwind-dc', 'solar', 'ror'], 'conv_techs': ['OCGT', 'CCGT', 'nuclear', 'coal', 'oil'], 'storage_techs': ['hydro+PHS', 'battery', 'H2'], 'load_carriers': ['AC load'], 'AC_carriers': ['AC line', 'AC transformer'], 'link_carriers': ['DC line', 'Converter AC-DC'], 'tech_colors': {'onwind': '#235ebc', 'onshore wind': '#235ebc', 'offwind': '#6895dd', 'offwind-ac': '#6895dd', 'offshore wind': '#6895dd', 'offshore wind ac': '#6895dd', 'offwind-dc': '#74c6f2', 'offshore wind dc': '#74c6f2', 'hydro': '#08ad97', 'hydro+PHS': '#08ad97', 'PHS': '#08ad97', 'hydro reservoir': '#08ad97', 'hydroelectricity': '#08ad97', 'ror': '#4adbc8', 'run of river': '#4adbc8', 'solar': '#f9d002', 'solar PV': '#f9d002', 'solar thermal': '#ffef60', 'biomass': '#0c6013', 'solid biomass': '#06540d', 'biogas': '#23932d', 'waste': '#68896b', 'geothermal': '#ba91b1', 'OCGT': '#d35050', 'gas': '#d35050', 'natural gas': '#d35050', 'CCGT': '#b20101', 'nuclear': '#ff9000', 'coal': '#707070', 'lignite': '#9e5a01', 'oil': '#262626', 'H2': '#ea048a', 'hydrogen storage': '#ea048a', 'battery': '#b8ea04', 'Electric load': '#f9d002', 'electricity': '#f9d002', 'lines': '#70af1d', 'transmission lines': '#70af1d', 'AC-AC': '#70af1d', 'AC line': '#70af1d', 'links': '#8a1caf', 'HVDC links': '#8a1caf', 'DC-DC': '#8a1caf', 'DC link': '#8a1caf', 'load': '#FF0000'}, 'nice_names': {'OCGT': 'Open-Cycle Gas', 'CCGT': 'Combined-Cycle Gas', 'offwind-ac': 'Offshore Wind (AC)', 'offwind-dc': 'Offshore Wind (DC)', 'onwind': 'Onshore Wind', 'solar': 'Solar', 'PHS': 'Pumped Hydro Storage', 'hydro': 'Reservoir & Dam', 'battery': 'Battery Storage', 'H2': 'Hydrogen Storage', 'lines': 'Transmission Lines', 'ror': 'Run of River'}}, 'tech_modelling': {'general_vre': ['onwind', 'solar']}}\n"
     ]
    }
   ],
   "source": [
    "import pypsa\n",
    "import pandas as pd\n",
    "import xarray as xr\n",
    "import matplotlib.pyplot as plt\n",
    "import numpy as np\n",
    "n=pypsa.Network()\n",
    "\n",
    "#Snapshots\n",
    "n.set_snapshots(value=pd.date_range(freq=\"h\", start=\"2013-01-01\", end=\"2014-01-01\", inclusive='left'))\n",
    "n.snapshot_weightings[:] *= 8760.0 / n.snapshot_weightings.sum()\n",
    "Nyears = n.snapshot_weightings.objective.sum() / 8760.0\n",
    "\n",
    "# # Load yaml files\n",
    "import yaml\n",
    "\n",
    "with open(r'config.yaml') as file:\n",
    "        config = yaml.load(file, Loader=yaml.FullLoader)\n",
    " \n",
    "        print(config)"
   ]
  },
  {
   "cell_type": "code",
   "execution_count": 2,
   "metadata": {},
   "outputs": [
    {
     "data": {
      "text/plain": [
       "Index(['onebus'], dtype='object')"
      ]
     },
     "execution_count": 2,
     "metadata": {},
     "output_type": "execute_result"
    }
   ],
   "source": [
    "#I create the bus \n",
    "\n",
    "n.madd(\"Bus\", [\"onebus\"], x=0.1, y=0.2, carrier=\"AC\", v_nom=20)\n",
    "\n"
   ]
  },
  {
   "cell_type": "code",
   "execution_count": 3,
   "metadata": {},
   "outputs": [],
   "source": [
    "costs=pd.read_csv(r'C:\\Users\\denis\\OneDrive\\Desktop\\Mini grids\\pypsa-distribution\\costs.csv')"
   ]
  },
  {
   "cell_type": "code",
   "execution_count": 4,
   "metadata": {},
   "outputs": [],
   "source": [
    "tech_costs=pd.read_csv(r'C:\\Users\\denis\\OneDrive\\Desktop\\Mini grids\\pypsa-distribution\\costs.csv')\n",
    "\n",
    "idx = pd.IndexSlice\n",
    "\n",
    "def calculate_annuity(n, r):\n",
    "    \"\"\"\n",
    "    Calculate the annuity factor for an asset with lifetime n years and\n",
    "    discount rate of r, e.g. annuity(20, 0.05) * 20 = 1.6\n",
    "    \"\"\"\n",
    "    if isinstance(r, pd.Series):\n",
    "        return pd.Series(1 / n, index=r.index).where(\n",
    "            r == 0, r / (1.0 - 1.0 / (1.0 + r) ** n)\n",
    "        )\n",
    "    elif r > 0:\n",
    "        return r / (1.0 - 1.0 / (1.0 + r) ** n)\n",
    "    else:\n",
    "        return 1 / n"
   ]
  },
  {
   "cell_type": "code",
   "execution_count": 5,
   "metadata": {},
   "outputs": [],
   "source": [
    "tech_costs='C://Users//denis//OneDrive//Desktop//Mini grids//pypsa-distribution//costs.csv'"
   ]
  },
  {
   "cell_type": "code",
   "execution_count": 6,
   "metadata": {},
   "outputs": [],
   "source": [
    "def load_costs(tech_costs, config, elec_config, Nyears=1):\n",
    "    \"\"\"\n",
    "    set all asset costs and other parameters\n",
    "    \"\"\"\n",
    "    costs = pd.read_csv(tech_costs, index_col=list(range(3))).sort_index()\n",
    "\n",
    "    # correct units to MW and EUR\n",
    "    costs.loc[costs.unit.str.contains(\"/kW\"), \"value\"] *= 1e3\n",
    "    costs.loc[costs.unit.str.contains(\"USD\"), \"value\"] *= config[\"USD2013_to_EUR2013\"]\n",
    "\n",
    "    costs = (\n",
    "        costs.loc[idx[:, config[\"year\"], :], \"value\"]\n",
    "        .unstack(level=2)\n",
    "        .groupby(\"technology\")\n",
    "        .sum(min_count=1)\n",
    "    )\n",
    "\n",
    "    costs = costs.fillna(\n",
    "        {\n",
    "            \"CO2 intensity\": 0,\n",
    "            \"FOM\": 0,\n",
    "            \"VOM\": 0,\n",
    "            \"discount rate\": config[\"discountrate\"],\n",
    "            \"efficiency\": 1,\n",
    "            \"fuel\": 0,\n",
    "            \"investment\": 0,\n",
    "            \"lifetime\": 25,\n",
    "        }\n",
    "    )\n",
    "\n",
    "    costs[\"capital_cost\"] = (\n",
    "        (\n",
    "            calculate_annuity(costs[\"lifetime\"], costs[\"discount rate\"])\n",
    "            + costs[\"FOM\"] / 100.0\n",
    "        )\n",
    "        * costs[\"investment\"]\n",
    "        * Nyears\n",
    "    )\n",
    "\n",
    "    costs.at[\"OCGT\", \"fuel\"] = costs.at[\"gas\", \"fuel\"]\n",
    "    costs.at[\"CCGT\", \"fuel\"] = costs.at[\"gas\", \"fuel\"]\n",
    "\n",
    "    costs[\"marginal_cost\"] = costs[\"VOM\"] + costs[\"fuel\"] / costs[\"efficiency\"]\n",
    "\n",
    "    costs = costs.rename(columns={\"CO2 intensity\": \"co2_emissions\"})\n",
    "\n",
    "    costs.at[\"OCGT\", \"co2_emissions\"] = costs.at[\"gas\", \"co2_emissions\"]\n",
    "    costs.at[\"CCGT\", \"co2_emissions\"] = costs.at[\"gas\", \"co2_emissions\"]\n",
    "\n",
    "    costs.at[\"solar\", \"capital_cost\"] = 0.5 * (\n",
    "        costs.at[\"solar-rooftop\", \"capital_cost\"]\n",
    "        + costs.at[\"solar-utility\", \"capital_cost\"]\n",
    "    )\n",
    "\n",
    "    def costs_for_storage(store, link1, link2=None, max_hours=1.0):\n",
    "        capital_cost = link1[\"capital_cost\"] + max_hours * store[\"capital_cost\"]\n",
    "        if link2 is not None:\n",
    "            capital_cost += link2[\"capital_cost\"]\n",
    "        return pd.Series(\n",
    "            dict(capital_cost=capital_cost, marginal_cost=0.0, co2_emissions=0.0)\n",
    "        )\n",
    "\n",
    "    max_hours = elec_config[\"max_hours\"]\n",
    "    costs.loc[\"battery\"] = costs_for_storage(\n",
    "        costs.loc[\"battery storage\"],\n",
    "        costs.loc[\"battery inverter\"],\n",
    "        max_hours=max_hours[\"battery\"],\n",
    "    )\n",
    "    costs.loc[\"H2\"] = costs_for_storage(\n",
    "        costs.loc[\"hydrogen storage\"],\n",
    "        costs.loc[\"fuel cell\"],\n",
    "        costs.loc[\"electrolysis\"],\n",
    "        max_hours=max_hours[\"H2\"],\n",
    "    )\n",
    "\n",
    "    for attr in (\"marginal_cost\", \"capital_cost\"):\n",
    "        overwrites = config.get(attr)\n",
    "        if overwrites is not None:\n",
    "            overwrites = pd.Series(overwrites)\n",
    "            costs.loc[overwrites.index, attr] = overwrites\n",
    "\n",
    "    return costs"
   ]
  },
  {
   "cell_type": "code",
   "execution_count": 7,
   "metadata": {},
   "outputs": [],
   "source": [
    "costs = load_costs(\n",
    "    tech_costs,\n",
    "    config[\"costs\"],\n",
    "    config[\"electricity\"],\n",
    "    Nyears,\n",
    "    )"
   ]
  },
  {
   "cell_type": "code",
   "execution_count": 8,
   "metadata": {},
   "outputs": [],
   "source": [
    "# def prepare_network(n, solve_opts):\n",
    "\n",
    "#     if \"clip_p_max_pu\" in solve_opts:\n",
    "#         for df in (n.generators_t.p_max_pu, n.storage_units_t.inflow):\n",
    "#             df.where(df > solve_opts[\"clip_p_max_pu\"], other=0.0, inplace=True)\n",
    "\n",
    "#     load_shedding = solve_opts.get(\"load_shedding\")\n",
    "#     if load_shedding:\n",
    "#         n.add(\"Carrier\", \"Load\")\n",
    "#         buses_i = n.buses.query(\"carrier == 'AC'\").index\n",
    "#         if not np.isscalar(load_shedding):\n",
    "#             load_shedding = 8e3  # Eur/kWh\n",
    "    \n",
    "#         n.madd(\n",
    "#             \"Generator\",\n",
    "#             buses_i,\n",
    "#             \" load\",\n",
    "#             bus=buses_i,\n",
    "#             carrier=\"load\",\n",
    "#             sign=1e-3,  # Adjust sign to measure p and p_nom in kW instead of MW\n",
    "#             marginal_cost=load_shedding,\n",
    "#             p_nom=1e9,  # kW\n",
    "#         )\n",
    "\n",
    "#     if solve_opts.get(\"noisy_costs\"):\n",
    "#         for t in n.iterate_components(n.one_port_components):\n",
    "#             # TODO: uncomment out to and test noisy_cost (makes solution unique)\n",
    "#             # if 'capital_cost' in t.df:\n",
    "#             #    t.df['capital_cost'] += 1e1 + 2.*(np.random.random(len(t.df)) - 0.5)\n",
    "#             if \"marginal_cost\" in t.df:\n",
    "#                 t.df[\"marginal_cost\"] += 1e-2 + 2e-3 * (\n",
    "#                     np.random.random(len(t.df)) - 0.5\n",
    "#                 )\n",
    "\n",
    "#         for t in n.iterate_components([\"Line\", \"Link\"]):\n",
    "#             t.df[\"capital_cost\"] += (\n",
    "#                 1e-1 + 2e-2 * (np.random.random(len(t.df)) - 0.5)\n",
    "#             ) * t.df[\"length\"]\n",
    "\n",
    "#     if solve_opts.get(\"nhours\"):\n",
    "#         nhours = solve_opts[\"nhours\"]\n",
    "#         n.set_snapshots(n.snapshots[:nhours])\n",
    "#         n.snapshot_weightings[:] = 8760.0 / nhours\n",
    "\n",
    "#     return n"
   ]
  },
  {
   "cell_type": "code",
   "execution_count": 9,
   "metadata": {},
   "outputs": [],
   "source": [
    "def attach_wind_and_solar(n, costs, tech_modelling, extendable_carriers):\n",
    "    \n",
    "    for tech in tech_modelling:\n",
    "        \n",
    "        # with xr.open_dataset(technologies_path[tech]) as ds:\n",
    "        with xr.open_dataset(f\"renewable_profiles/profile_{tech}.nc\") as ds:\n",
    "            \n",
    "            if ds.indexes[\"bus\"].empty:\n",
    "                continue   \n",
    "\n",
    "            suptech = tech.split(\"-\", 2)[0]\n",
    "            \n",
    "            n.madd(\n",
    "            \"Generator\",\n",
    "            ds.indexes[\"bus\"],\n",
    "            \" \" + tech,\n",
    "            bus=\"onebus\",\n",
    "            carrier=tech,\n",
    "            p_nom_extendable=tech in extendable_carriers[\"Generator\"],\n",
    "            p_nom_max=ds[\"p_nom_max\"].to_pandas(), #guardare il config \n",
    "            weight=ds[\"weight\"].to_pandas(),\n",
    "            marginal_cost=costs.at[suptech, \"marginal_cost\"],\n",
    "            capital_cost=costs.at[tech, \"capital_cost\"],\n",
    "            efficiency=costs.at[suptech, \"efficiency\"],\n",
    "            p_set=ds[\"profile\"].transpose(\"time\", \"bus\").to_pandas().reindex(n.snapshots),\n",
    "            p_max_pu=ds[\"profile\"].transpose(\"time\", \"bus\").to_pandas().reindex(n.snapshots),\n",
    "            )\n"
   ]
  },
  {
   "cell_type": "code",
   "execution_count": 10,
   "metadata": {},
   "outputs": [],
   "source": [
    "attach_wind_and_solar(\n",
    "    n,\n",
    "    costs,\n",
    "    config[\"tech_modelling\"][\"general_vre\"],\n",
    "    config[\"electricity\"][\"extendable_carriers\"],\n",
    "    )"
   ]
  },
  {
   "cell_type": "code",
   "execution_count": 11,
   "metadata": {},
   "outputs": [
    {
     "data": {
      "text/plain": [
       "Index(['StorUni'], dtype='object')"
      ]
     },
     "execution_count": 11,
     "metadata": {},
     "output_type": "execute_result"
    }
   ],
   "source": [
    "n.madd(\"StorageUnit\",[\"StorUni\"], bus=\"onebus\",  p_nom=5000, marginal_cost=10, inflow=50, p_nom_extendable=True, capital_cost=50, \n",
    "       efficiency_dispatch=0.5, cyclic_state_of_charge=True, state_of_charge_initial=1000)"
   ]
  },
  {
   "cell_type": "code",
   "execution_count": 12,
   "metadata": {},
   "outputs": [],
   "source": [
    "\n",
    "#I create the load file\n",
    "import numpy as np\n",
    "p_set=np.random.rand(len(n.snapshots),(100))\n",
    "array=p_set*100"
   ]
  },
  {
   "cell_type": "code",
   "execution_count": 13,
   "metadata": {},
   "outputs": [],
   "source": [
    "import pandas as pd\n",
    "df=pd.DataFrame(array)\n",
    "\n",
    "filepath = 'my_file.xlsx'\n",
    "\n",
    "df.to_excel(filepath, index=False)\n",
    "\n"
   ]
  },
  {
   "cell_type": "code",
   "execution_count": 14,
   "metadata": {},
   "outputs": [],
   "source": [
    "load_df=pd.read_excel(r'C:\\Users\\denis\\OneDrive\\Desktop\\Mini grids\\pypsa-distribution\\my_file.xlsx')\n"
   ]
  },
  {
   "cell_type": "code",
   "execution_count": 15,
   "metadata": {},
   "outputs": [
    {
     "name": "stdout",
     "output_type": "stream",
     "text": [
      "                            0          1          2          3          4   \\\n",
      "time                                                                         \n",
      "2013-01-01 00:00:00   3.734425  89.831775  12.097112  85.500518   4.869056   \n",
      "2013-01-01 01:00:00  26.751442  43.895665  38.330040  85.754009  92.130737   \n",
      "2013-01-01 02:00:00  13.328050  60.822498  76.541181  76.359261  48.068378   \n",
      "2013-01-01 03:00:00  50.600219  92.968242  65.056842   2.129554   2.677325   \n",
      "2013-01-01 04:00:00  85.725767  41.015774  76.018184  36.436385  74.846331   \n",
      "...                        ...        ...        ...        ...        ...   \n",
      "2013-12-31 19:00:00  61.323229  53.164534  46.777610  60.465631  72.785456   \n",
      "2013-12-31 20:00:00  55.712595  75.618066  67.679879  58.047182   2.435380   \n",
      "2013-12-31 21:00:00  57.018083  26.687026  60.160329  67.170840  79.619204   \n",
      "2013-12-31 22:00:00  30.836141  12.723330  41.643062  69.694070  10.723581   \n",
      "2013-12-31 23:00:00  87.887658  51.762459   7.098001  43.131507  26.901662   \n",
      "\n",
      "                            5          6          7          8          9   \\\n",
      "time                                                                         \n",
      "2013-01-01 00:00:00  74.678350  50.271465  24.939574  95.124855   3.397929   \n",
      "2013-01-01 01:00:00  62.837507  33.040196  21.486963  76.257289  94.156885   \n",
      "2013-01-01 02:00:00  52.508154  97.179405  69.713254  25.969020  54.645930   \n",
      "2013-01-01 03:00:00  67.288973  38.423311  87.434943   3.539896  95.692599   \n",
      "2013-01-01 04:00:00  41.171249  35.656474  69.859509  82.913831  33.933632   \n",
      "...                        ...        ...        ...        ...        ...   \n",
      "2013-12-31 19:00:00   2.998808  37.999179  77.460455  71.060002  65.175151   \n",
      "2013-12-31 20:00:00  25.302842  59.220270  87.714780  55.278022  71.640230   \n",
      "2013-12-31 21:00:00  44.473719  82.452790  95.259763  79.549967  65.290837   \n",
      "2013-12-31 22:00:00  21.937584  42.782277  70.916901  91.110724   3.784000   \n",
      "2013-12-31 23:00:00  64.078485  54.478512  39.488811  65.392946   8.676598   \n",
      "\n",
      "                     ...         90         91         92         93  \\\n",
      "time                 ...                                               \n",
      "2013-01-01 00:00:00  ...  48.598676  22.749932  77.923295  21.460288   \n",
      "2013-01-01 01:00:00  ...  37.580265  12.337823  62.563396  21.294419   \n",
      "2013-01-01 02:00:00  ...  73.460820  32.944454  69.466746  37.960617   \n",
      "2013-01-01 03:00:00  ...  29.220586   3.289277   3.863450  57.689379   \n",
      "2013-01-01 04:00:00  ...  24.417480  77.757220  14.815008  11.462153   \n",
      "...                  ...        ...        ...        ...        ...   \n",
      "2013-12-31 19:00:00  ...  77.355587  95.379336  31.788921  19.072254   \n",
      "2013-12-31 20:00:00  ...  39.264425  96.958310   9.680637  43.418709   \n",
      "2013-12-31 21:00:00  ...  83.356910  21.808444  60.366200  61.815973   \n",
      "2013-12-31 22:00:00  ...  84.018608  13.044228  74.857180   5.937257   \n",
      "2013-12-31 23:00:00  ...  16.144592  18.914384  37.677247  23.368133   \n",
      "\n",
      "                            94         95         96         97         98  \\\n",
      "time                                                                         \n",
      "2013-01-01 00:00:00  66.322209  70.439251  44.731617  22.816177   0.448876   \n",
      "2013-01-01 01:00:00  27.112457  52.048873  70.054943  61.767762  91.951848   \n",
      "2013-01-01 02:00:00  53.451779  64.453025  40.802367  90.751131  71.007551   \n",
      "2013-01-01 03:00:00  80.423932  10.386330  22.838179  48.421787  37.547537   \n",
      "2013-01-01 04:00:00  78.007570  73.410006  86.985508  24.784392  88.436347   \n",
      "...                        ...        ...        ...        ...        ...   \n",
      "2013-12-31 19:00:00  77.669215  89.684188   6.114818  64.597473  43.649273   \n",
      "2013-12-31 20:00:00  16.588250  82.348164  52.282970  86.295337  40.623926   \n",
      "2013-12-31 21:00:00  32.110892  40.923245  59.939226  60.787800  53.423839   \n",
      "2013-12-31 22:00:00  95.096510  37.422658  44.596580  43.278175  11.050220   \n",
      "2013-12-31 23:00:00  88.825288  40.867240  83.091202  60.132320  55.158115   \n",
      "\n",
      "                            99  \n",
      "time                            \n",
      "2013-01-01 00:00:00   2.413558  \n",
      "2013-01-01 01:00:00  68.435640  \n",
      "2013-01-01 02:00:00  18.476116  \n",
      "2013-01-01 03:00:00  92.840816  \n",
      "2013-01-01 04:00:00  31.953485  \n",
      "...                        ...  \n",
      "2013-12-31 19:00:00  27.855437  \n",
      "2013-12-31 20:00:00  69.941074  \n",
      "2013-12-31 21:00:00  61.126879  \n",
      "2013-12-31 22:00:00  77.615062  \n",
      "2013-12-31 23:00:00   6.240850  \n",
      "\n",
      "[8760 rows x 100 columns]\n"
     ]
    }
   ],
   "source": [
    "\n",
    "load_df=load_df.set_index([n.snapshots])\n",
    "load_df.index.names=['time']\n",
    "print(load_df)"
   ]
  },
  {
   "cell_type": "code",
   "execution_count": 16,
   "metadata": {},
   "outputs": [
    {
     "data": {
      "text/plain": [
       "pandas.core.indexes.numeric.Int64Index"
      ]
     },
     "execution_count": 16,
     "metadata": {},
     "output_type": "execute_result"
    }
   ],
   "source": [
    "index=pd.Index( list(range(100)))\n",
    "type(index)"
   ]
  },
  {
   "cell_type": "code",
   "execution_count": 17,
   "metadata": {},
   "outputs": [],
   "source": [
    "def attach_load(n, load_paths, index, load_df):\n",
    "    \n",
    "    n.madd(\"Load\", index ,bus=[\"onebus\"], carrier=\"AC\", p_set=load_df)\n",
    "\n",
    "\n"
   ]
  },
  {
   "cell_type": "code",
   "execution_count": 18,
   "metadata": {},
   "outputs": [],
   "source": [
    "load_paths=r'C:\\Users\\denis\\OneDrive\\Desktop\\Mini grids\\pypsa-distribution\\my_file.xlsx'"
   ]
  },
  {
   "cell_type": "code",
   "execution_count": 19,
   "metadata": {},
   "outputs": [],
   "source": [
    "attach_load(n, load_paths, index, load_df)"
   ]
  },
  {
   "cell_type": "code",
   "execution_count": 20,
   "metadata": {},
   "outputs": [
    {
     "data": {
      "text/html": [
       "<div>\n",
       "<style scoped>\n",
       "    .dataframe tbody tr th:only-of-type {\n",
       "        vertical-align: middle;\n",
       "    }\n",
       "\n",
       "    .dataframe tbody tr th {\n",
       "        vertical-align: top;\n",
       "    }\n",
       "\n",
       "    .dataframe thead th {\n",
       "        text-align: right;\n",
       "    }\n",
       "</style>\n",
       "<table border=\"1\" class=\"dataframe\">\n",
       "  <thead>\n",
       "    <tr style=\"text-align: right;\">\n",
       "      <th></th>\n",
       "      <th>bus</th>\n",
       "      <th>carrier</th>\n",
       "      <th>type</th>\n",
       "      <th>p_set</th>\n",
       "      <th>q_set</th>\n",
       "      <th>sign</th>\n",
       "    </tr>\n",
       "    <tr>\n",
       "      <th>Load</th>\n",
       "      <th></th>\n",
       "      <th></th>\n",
       "      <th></th>\n",
       "      <th></th>\n",
       "      <th></th>\n",
       "      <th></th>\n",
       "    </tr>\n",
       "  </thead>\n",
       "  <tbody>\n",
       "    <tr>\n",
       "      <th>0</th>\n",
       "      <td>onebus</td>\n",
       "      <td>AC</td>\n",
       "      <td></td>\n",
       "      <td>0.0</td>\n",
       "      <td>0.0</td>\n",
       "      <td>-1.0</td>\n",
       "    </tr>\n",
       "    <tr>\n",
       "      <th>1</th>\n",
       "      <td>onebus</td>\n",
       "      <td>AC</td>\n",
       "      <td></td>\n",
       "      <td>0.0</td>\n",
       "      <td>0.0</td>\n",
       "      <td>-1.0</td>\n",
       "    </tr>\n",
       "    <tr>\n",
       "      <th>2</th>\n",
       "      <td>onebus</td>\n",
       "      <td>AC</td>\n",
       "      <td></td>\n",
       "      <td>0.0</td>\n",
       "      <td>0.0</td>\n",
       "      <td>-1.0</td>\n",
       "    </tr>\n",
       "    <tr>\n",
       "      <th>3</th>\n",
       "      <td>onebus</td>\n",
       "      <td>AC</td>\n",
       "      <td></td>\n",
       "      <td>0.0</td>\n",
       "      <td>0.0</td>\n",
       "      <td>-1.0</td>\n",
       "    </tr>\n",
       "    <tr>\n",
       "      <th>4</th>\n",
       "      <td>onebus</td>\n",
       "      <td>AC</td>\n",
       "      <td></td>\n",
       "      <td>0.0</td>\n",
       "      <td>0.0</td>\n",
       "      <td>-1.0</td>\n",
       "    </tr>\n",
       "    <tr>\n",
       "      <th>...</th>\n",
       "      <td>...</td>\n",
       "      <td>...</td>\n",
       "      <td>...</td>\n",
       "      <td>...</td>\n",
       "      <td>...</td>\n",
       "      <td>...</td>\n",
       "    </tr>\n",
       "    <tr>\n",
       "      <th>95</th>\n",
       "      <td>onebus</td>\n",
       "      <td>AC</td>\n",
       "      <td></td>\n",
       "      <td>0.0</td>\n",
       "      <td>0.0</td>\n",
       "      <td>-1.0</td>\n",
       "    </tr>\n",
       "    <tr>\n",
       "      <th>96</th>\n",
       "      <td>onebus</td>\n",
       "      <td>AC</td>\n",
       "      <td></td>\n",
       "      <td>0.0</td>\n",
       "      <td>0.0</td>\n",
       "      <td>-1.0</td>\n",
       "    </tr>\n",
       "    <tr>\n",
       "      <th>97</th>\n",
       "      <td>onebus</td>\n",
       "      <td>AC</td>\n",
       "      <td></td>\n",
       "      <td>0.0</td>\n",
       "      <td>0.0</td>\n",
       "      <td>-1.0</td>\n",
       "    </tr>\n",
       "    <tr>\n",
       "      <th>98</th>\n",
       "      <td>onebus</td>\n",
       "      <td>AC</td>\n",
       "      <td></td>\n",
       "      <td>0.0</td>\n",
       "      <td>0.0</td>\n",
       "      <td>-1.0</td>\n",
       "    </tr>\n",
       "    <tr>\n",
       "      <th>99</th>\n",
       "      <td>onebus</td>\n",
       "      <td>AC</td>\n",
       "      <td></td>\n",
       "      <td>0.0</td>\n",
       "      <td>0.0</td>\n",
       "      <td>-1.0</td>\n",
       "    </tr>\n",
       "  </tbody>\n",
       "</table>\n",
       "<p>100 rows × 6 columns</p>\n",
       "</div>"
      ],
      "text/plain": [
       "         bus carrier type  p_set  q_set  sign\n",
       "Load                                         \n",
       "0     onebus      AC         0.0    0.0  -1.0\n",
       "1     onebus      AC         0.0    0.0  -1.0\n",
       "2     onebus      AC         0.0    0.0  -1.0\n",
       "3     onebus      AC         0.0    0.0  -1.0\n",
       "4     onebus      AC         0.0    0.0  -1.0\n",
       "...      ...     ...  ...    ...    ...   ...\n",
       "95    onebus      AC         0.0    0.0  -1.0\n",
       "96    onebus      AC         0.0    0.0  -1.0\n",
       "97    onebus      AC         0.0    0.0  -1.0\n",
       "98    onebus      AC         0.0    0.0  -1.0\n",
       "99    onebus      AC         0.0    0.0  -1.0\n",
       "\n",
       "[100 rows x 6 columns]"
      ]
     },
     "execution_count": 20,
     "metadata": {},
     "output_type": "execute_result"
    }
   ],
   "source": [
    "n.loads"
   ]
  },
  {
   "cell_type": "code",
   "execution_count": 21,
   "metadata": {},
   "outputs": [
    {
     "name": "stdout",
     "output_type": "stream",
     "text": [
      "PyPSA Network\n",
      "Components:\n",
      " - Bus: 1\n",
      " - Generator: 1361\n",
      " - Load: 100\n",
      " - StorageUnit: 1\n",
      "Snapshots: 8760\n"
     ]
    }
   ],
   "source": [
    "print(n)"
   ]
  },
  {
   "cell_type": "code",
   "execution_count": 22,
   "metadata": {},
   "outputs": [
    {
     "name": "stderr",
     "output_type": "stream",
     "text": [
      "INFO:pypsa.linopf:Prepare linear problem\n",
      "INFO:pypsa.linopf:Total preparation time: 169.88s\n",
      "INFO:pypsa.linopf:Solve linear problem using Gurobi solver\n"
     ]
    },
    {
     "name": "stdout",
     "output_type": "stream",
     "text": [
      "Set parameter Username\n",
      "Academic license - for non-commercial use only - expires 2023-09-07\n",
      "Read LP format model from file C:\\Users\\denis\\AppData\\Local\\Temp\\pypsa-problem-x2eggejk.lp\n",
      "Reading time = 129.81 seconds\n",
      "obj: 23914800 rows, 11958763 columns, 36028397 nonzeros\n",
      "Gurobi Optimizer version 9.5.2 build v9.5.2rc0 (win64)\n",
      "Thread count: 4 physical cores, 8 logical processors, using up to 8 threads\n",
      "Optimize a model with 23914800 rows, 11958763 columns and 36028397 nonzeros\n",
      "Model fingerprint: 0xa2a5dca9\n",
      "Coefficient statistics:\n",
      "  Matrix range     [1e-02, 2e+00]\n",
      "  Objective range  [1e-02, 1e+05]\n",
      "  Bounds range     [1e-01, 3e+05]\n",
      "  RHS range        [5e+01, 6e+03]\n",
      "\n",
      "Concurrent LP optimizer: dual simplex and barrier\n",
      "Showing barrier log only...\n",
      "\n",
      "Concurrent optimizer error 10001. Waiting for other threads to terminate...\n",
      "Out of memory\n"
     ]
    },
    {
     "ename": "GurobiError",
     "evalue": "Out of memory",
     "output_type": "error",
     "traceback": [
      "\u001b[1;31m---------------------------------------------------------------------------\u001b[0m",
      "\u001b[1;31mGurobiError\u001b[0m                               Traceback (most recent call last)",
      "Cell \u001b[1;32mIn [22], line 6\u001b[0m\n\u001b[0;32m      2\u001b[0m \u001b[39mfrom\u001b[39;00m \u001b[39mpypsa\u001b[39;00m\u001b[39m.\u001b[39;00m\u001b[39mlinopf\u001b[39;00m \u001b[39mimport\u001b[39;00m ilopf\n\u001b[0;32m      4\u001b[0m solver_name\u001b[39m=\u001b[39m\u001b[39m\"\u001b[39m\u001b[39mgurobi\u001b[39m\u001b[39m\"\u001b[39m\n\u001b[1;32m----> 6\u001b[0m n\u001b[39m.\u001b[39mlopf(n\u001b[39m.\u001b[39msnapshots, solver_name\u001b[39m=\u001b[39msolver_name, pyomo\u001b[39m=\u001b[39m\u001b[39mFalse\u001b[39;00m)\n",
      "File \u001b[1;32mc:\\Users\\denis\\miniconda3\\envs\\pypsa-earth\\lib\\site-packages\\pypsa\\components.py:771\u001b[0m, in \u001b[0;36mNetwork.lopf\u001b[1;34m(self, snapshots, pyomo, solver_name, solver_options, solver_logfile, formulation, keep_files, extra_functionality, multi_investment_periods, **kwargs)\u001b[0m\n\u001b[0;32m    769\u001b[0m     \u001b[39mreturn\u001b[39;00m network_lopf(\u001b[39mself\u001b[39m, \u001b[39m*\u001b[39m\u001b[39m*\u001b[39margs)\n\u001b[0;32m    770\u001b[0m \u001b[39melse\u001b[39;00m:\n\u001b[1;32m--> 771\u001b[0m     \u001b[39mreturn\u001b[39;00m network_lopf_lowmem(\u001b[39mself\u001b[39m, \u001b[39m*\u001b[39m\u001b[39m*\u001b[39margs)\n",
      "File \u001b[1;32mc:\\Users\\denis\\miniconda3\\envs\\pypsa-earth\\lib\\site-packages\\pypsa\\linopf.py:1462\u001b[0m, in \u001b[0;36mnetwork_lopf\u001b[1;34m(n, snapshots, solver_name, solver_logfile, extra_functionality, multi_investment_periods, skip_objective, skip_pre, extra_postprocessing, formulation, keep_references, keep_files, keep_shadowprices, solver_options, warmstart, store_basis, solver_dir)\u001b[0m\n\u001b[0;32m   1459\u001b[0m     logger\u001b[39m.\u001b[39minfo(\u001b[39mf\u001b[39m\u001b[39m\"\u001b[39m\u001b[39mSolve linear problem using \u001b[39m\u001b[39m{\u001b[39;00msolver_name\u001b[39m.\u001b[39mtitle()\u001b[39m}\u001b[39;00m\u001b[39m solver\u001b[39m\u001b[39m\"\u001b[39m)\n\u001b[0;32m   1461\u001b[0m solve \u001b[39m=\u001b[39m \u001b[39meval\u001b[39m(\u001b[39mf\u001b[39m\u001b[39m\"\u001b[39m\u001b[39mrun_and_read_\u001b[39m\u001b[39m{\u001b[39;00msolver_name\u001b[39m}\u001b[39;00m\u001b[39m\"\u001b[39m)\n\u001b[1;32m-> 1462\u001b[0m res \u001b[39m=\u001b[39m solve(\n\u001b[0;32m   1463\u001b[0m     n,\n\u001b[0;32m   1464\u001b[0m     problem_fn,\n\u001b[0;32m   1465\u001b[0m     solution_fn,\n\u001b[0;32m   1466\u001b[0m     solver_logfile,\n\u001b[0;32m   1467\u001b[0m     solver_options,\n\u001b[0;32m   1468\u001b[0m     warmstart,\n\u001b[0;32m   1469\u001b[0m     store_basis,\n\u001b[0;32m   1470\u001b[0m )\n\u001b[0;32m   1472\u001b[0m status, termination_condition, variables_sol, constraints_dual, obj \u001b[39m=\u001b[39m res\n\u001b[0;32m   1474\u001b[0m \u001b[39mif\u001b[39;00m \u001b[39mnot\u001b[39;00m keep_files:\n",
      "File \u001b[1;32mc:\\Users\\denis\\miniconda3\\envs\\pypsa-earth\\lib\\site-packages\\pypsa\\linopt.py:1082\u001b[0m, in \u001b[0;36mrun_and_read_gurobi\u001b[1;34m(n, problem_fn, solution_fn, solver_logfile, solver_options, warmstart, store_basis)\u001b[0m\n\u001b[0;32m   1080\u001b[0m \u001b[39mif\u001b[39;00m warmstart:\n\u001b[0;32m   1081\u001b[0m     m\u001b[39m.\u001b[39mread(warmstart)\n\u001b[1;32m-> 1082\u001b[0m m\u001b[39m.\u001b[39;49moptimize()\n\u001b[0;32m   1083\u001b[0m logging\u001b[39m.\u001b[39mdisable(\u001b[39m1\u001b[39m)\n\u001b[0;32m   1085\u001b[0m \u001b[39mif\u001b[39;00m store_basis:\n",
      "File \u001b[1;32msrc\\gurobipy\\model.pxi:864\u001b[0m, in \u001b[0;36mgurobipy.Model.optimize\u001b[1;34m()\u001b[0m\n",
      "\u001b[1;31mGurobiError\u001b[0m: Out of memory"
     ]
    }
   ],
   "source": [
    "# Optimization\n",
    "from pypsa.linopf import ilopf\n",
    "\n",
    "solver_name=\"gurobi\"\n",
    "\n",
    "n.lopf(n.snapshots, solver_name=solver_name, pyomo=False)"
   ]
  }
 ],
 "metadata": {
  "kernelspec": {
   "display_name": "Python 3.9.13 ('pypsa-earth')",
   "language": "python",
   "name": "python3"
  },
  "language_info": {
   "codemirror_mode": {
    "name": "ipython",
    "version": 3
   },
   "file_extension": ".py",
   "mimetype": "text/x-python",
   "name": "python",
   "nbconvert_exporter": "python",
   "pygments_lexer": "ipython3",
   "version": "3.9.13"
  },
  "orig_nbformat": 4,
  "vscode": {
   "interpreter": {
    "hash": "60686b472709b5af7a580af664912c7edc8daf918109af2ab9a56e9417cd6941"
   }
  }
 },
 "nbformat": 4,
 "nbformat_minor": 2
}
