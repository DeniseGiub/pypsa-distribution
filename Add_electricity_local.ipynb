{
 "cells": [
  {
   "cell_type": "code",
   "execution_count": 1,
   "metadata": {},
   "outputs": [
    {
     "name": "stderr",
     "output_type": "stream",
     "text": [
      "c:\\Users\\denis\\miniconda3\\envs\\pypsa-earth\\lib\\site-packages\\pypsa\\components.py:374: FutureWarning:\n",
      "\n",
      "iteritems is deprecated and will be removed in a future version. Use .items instead.\n",
      "\n",
      "c:\\Users\\denis\\miniconda3\\envs\\pypsa-earth\\lib\\site-packages\\pypsa\\components.py:374: FutureWarning:\n",
      "\n",
      "iteritems is deprecated and will be removed in a future version. Use .items instead.\n",
      "\n",
      "c:\\Users\\denis\\miniconda3\\envs\\pypsa-earth\\lib\\site-packages\\pypsa\\components.py:374: FutureWarning:\n",
      "\n",
      "iteritems is deprecated and will be removed in a future version. Use .items instead.\n",
      "\n",
      "c:\\Users\\denis\\miniconda3\\envs\\pypsa-earth\\lib\\site-packages\\pypsa\\components.py:374: FutureWarning:\n",
      "\n",
      "iteritems is deprecated and will be removed in a future version. Use .items instead.\n",
      "\n",
      "c:\\Users\\denis\\miniconda3\\envs\\pypsa-earth\\lib\\site-packages\\pypsa\\components.py:374: FutureWarning:\n",
      "\n",
      "iteritems is deprecated and will be removed in a future version. Use .items instead.\n",
      "\n",
      "c:\\Users\\denis\\miniconda3\\envs\\pypsa-earth\\lib\\site-packages\\pypsa\\components.py:374: FutureWarning:\n",
      "\n",
      "iteritems is deprecated and will be removed in a future version. Use .items instead.\n",
      "\n",
      "c:\\Users\\denis\\miniconda3\\envs\\pypsa-earth\\lib\\site-packages\\pypsa\\components.py:374: FutureWarning:\n",
      "\n",
      "iteritems is deprecated and will be removed in a future version. Use .items instead.\n",
      "\n",
      "c:\\Users\\denis\\miniconda3\\envs\\pypsa-earth\\lib\\site-packages\\pypsa\\components.py:374: FutureWarning:\n",
      "\n",
      "iteritems is deprecated and will be removed in a future version. Use .items instead.\n",
      "\n",
      "c:\\Users\\denis\\miniconda3\\envs\\pypsa-earth\\lib\\site-packages\\pypsa\\components.py:374: FutureWarning:\n",
      "\n",
      "iteritems is deprecated and will be removed in a future version. Use .items instead.\n",
      "\n",
      "c:\\Users\\denis\\miniconda3\\envs\\pypsa-earth\\lib\\site-packages\\pypsa\\components.py:374: FutureWarning:\n",
      "\n",
      "iteritems is deprecated and will be removed in a future version. Use .items instead.\n",
      "\n",
      "c:\\Users\\denis\\miniconda3\\envs\\pypsa-earth\\lib\\site-packages\\pypsa\\components.py:374: FutureWarning:\n",
      "\n",
      "iteritems is deprecated and will be removed in a future version. Use .items instead.\n",
      "\n",
      "c:\\Users\\denis\\miniconda3\\envs\\pypsa-earth\\lib\\site-packages\\pypsa\\components.py:374: FutureWarning:\n",
      "\n",
      "iteritems is deprecated and will be removed in a future version. Use .items instead.\n",
      "\n",
      "c:\\Users\\denis\\miniconda3\\envs\\pypsa-earth\\lib\\site-packages\\pypsa\\components.py:374: FutureWarning:\n",
      "\n",
      "iteritems is deprecated and will be removed in a future version. Use .items instead.\n",
      "\n",
      "c:\\Users\\denis\\miniconda3\\envs\\pypsa-earth\\lib\\site-packages\\pypsa\\components.py:374: FutureWarning:\n",
      "\n",
      "iteritems is deprecated and will be removed in a future version. Use .items instead.\n",
      "\n",
      "c:\\Users\\denis\\miniconda3\\envs\\pypsa-earth\\lib\\site-packages\\pypsa\\components.py:485: FutureWarning:\n",
      "\n",
      "iteritems is deprecated and will be removed in a future version. Use .items instead.\n",
      "\n"
     ]
    },
    {
     "name": "stdout",
     "output_type": "stream",
     "text": [
      "Empty PyPSA Network\n",
      "Components: none\n",
      "Snapshots: 8760\n"
     ]
    }
   ],
   "source": [
    "#Technologies: solar and battery\n",
    "\n",
    "import pypsa\n",
    "import pandas as pd\n",
    "import xarray as xr\n",
    "import matplotlib.pyplot as plt\n",
    "\n",
    "n=pypsa.Network()\n",
    "\n",
    "#Snapshots\n",
    "n.set_snapshots(value=pd.date_range(freq=\"h\", start=\"2013-01-01\", end=\"2014-01-01\", inclusive='left'))\n",
    "n.snapshot_weightings[:] *= 8760.0 / n.snapshot_weightings.sum()\n",
    "\n",
    "print(n)\n"
   ]
  },
  {
   "cell_type": "code",
   "execution_count": 2,
   "metadata": {},
   "outputs": [
    {
     "data": {
      "text/plain": [
       "Index(['onebus'], dtype='object')"
      ]
     },
     "execution_count": 2,
     "metadata": {},
     "output_type": "execute_result"
    }
   ],
   "source": [
    "#I create the bus \n",
    "\n",
    "n.madd(\"Bus\", [\"onebus\"], x=0.1, y=0.2)\n",
    "\n",
    "#To see the bus: n.buses"
   ]
  },
  {
   "cell_type": "code",
   "execution_count": 3,
   "metadata": {},
   "outputs": [
    {
     "data": {
      "text/plain": [
       "Series([], Name: p_set, dtype: float64)"
      ]
     },
     "execution_count": 3,
     "metadata": {},
     "output_type": "execute_result"
    }
   ],
   "source": [
    "n.generators.p_set"
   ]
  },
  {
   "cell_type": "code",
   "execution_count": 4,
   "metadata": {},
   "outputs": [
    {
     "data": {
      "text/html": [
       "<div>\n",
       "<style scoped>\n",
       "    .dataframe tbody tr th:only-of-type {\n",
       "        vertical-align: middle;\n",
       "    }\n",
       "\n",
       "    .dataframe tbody tr th {\n",
       "        vertical-align: top;\n",
       "    }\n",
       "\n",
       "    .dataframe thead th {\n",
       "        text-align: right;\n",
       "    }\n",
       "</style>\n",
       "<table border=\"1\" class=\"dataframe\">\n",
       "  <thead>\n",
       "    <tr style=\"text-align: right;\">\n",
       "      <th></th>\n",
       "      <th>x</th>\n",
       "      <th>y</th>\n",
       "      <th>v_nom</th>\n",
       "      <th>type</th>\n",
       "      <th>carrier</th>\n",
       "      <th>unit</th>\n",
       "      <th>v_mag_pu_set</th>\n",
       "      <th>v_mag_pu_min</th>\n",
       "      <th>v_mag_pu_max</th>\n",
       "      <th>control</th>\n",
       "      <th>sub_network</th>\n",
       "    </tr>\n",
       "    <tr>\n",
       "      <th>Bus</th>\n",
       "      <th></th>\n",
       "      <th></th>\n",
       "      <th></th>\n",
       "      <th></th>\n",
       "      <th></th>\n",
       "      <th></th>\n",
       "      <th></th>\n",
       "      <th></th>\n",
       "      <th></th>\n",
       "      <th></th>\n",
       "      <th></th>\n",
       "    </tr>\n",
       "  </thead>\n",
       "  <tbody>\n",
       "    <tr>\n",
       "      <th>onebus</th>\n",
       "      <td>0.1</td>\n",
       "      <td>0.2</td>\n",
       "      <td>1.0</td>\n",
       "      <td></td>\n",
       "      <td>AC</td>\n",
       "      <td>None</td>\n",
       "      <td>1.0</td>\n",
       "      <td>0.0</td>\n",
       "      <td>inf</td>\n",
       "      <td>PQ</td>\n",
       "      <td></td>\n",
       "    </tr>\n",
       "  </tbody>\n",
       "</table>\n",
       "</div>"
      ],
      "text/plain": [
       "          x    y  v_nom type carrier  unit  v_mag_pu_set  v_mag_pu_min  \\\n",
       "Bus                                                                      \n",
       "onebus  0.1  0.2    1.0           AC  None           1.0           0.0   \n",
       "\n",
       "        v_mag_pu_max control sub_network  \n",
       "Bus                                       \n",
       "onebus           inf      PQ              "
      ]
     },
     "execution_count": 4,
     "metadata": {},
     "output_type": "execute_result"
    }
   ],
   "source": [
    "n.buses"
   ]
  },
  {
   "cell_type": "code",
   "execution_count": 5,
   "metadata": {},
   "outputs": [],
   "source": [
    "\n",
    "# #I import a time series for generation \n",
    "\n",
    "with xr.open_dataset(r'C:\\Users\\denis\\OneDrive\\Desktop\\Mini grids\\pypsa-distribution\\time_series\\Generation_timeseries\\profile_solar.nc') as ds:\n",
    "\n",
    "\n",
    "    solar=ds[\"profile\"].transpose(\"time\", \"bus\").to_pandas()\n",
    "\n",
    "#I take just the first column(one bus)\n",
    "\n",
    "solar=solar.iloc[:, 0]\n",
    "\n",
    "solar=pd.DataFrame(solar,\n",
    "                  index=n.snapshots)\n",
    "\n",
    "#I create a numpy array \n",
    "#import numpy as np\n",
    "# solar=np.array(solar)\n"
   ]
  },
  {
   "cell_type": "code",
   "execution_count": 6,
   "metadata": {},
   "outputs": [
    {
     "name": "stderr",
     "output_type": "stream",
     "text": [
      "WARNING:pypsa.io:Components Index(['0'], dtype='object', name='Generator') for attribute p_max_pu of Generator are not in main components dataframe generators\n",
      "WARNING:pypsa.io:Components Index(['0'], dtype='object', name='Generator') for attribute p_set of Generator are not in main components dataframe generators\n"
     ]
    },
    {
     "data": {
      "text/plain": [
       "Index(['solargenerator'], dtype='object')"
      ]
     },
     "execution_count": 6,
     "metadata": {},
     "output_type": "execute_result"
    }
   ],
   "source": [
    "#I connect a generator to the bus \"onebus\"\n",
    "\n",
    "#n.madd(\"Generator\", [\"solargenerator\"], bus = \"onebus\", capital_cost=400, marginal_cost=0.3, p_max_pu=solar)\n",
    "n.madd(\"Generator\", [\"solargenerator\"], bus = \"onebus\", p_nom=60, p_nom_extendable=True, p_nom_min=50, \n",
    "       p_nom_max=60, p_max_pu=solar, p_set=solar, q_set=50, carrier=\"solar\", capital_cost=400, efficiency=1, marginal_cost=0.3)\n",
    "\n",
    "#Not to have the warning: p_max_pu=solar_df, solar_df=solar[\"0\"]\n"
   ]
  },
  {
   "cell_type": "code",
   "execution_count": 7,
   "metadata": {},
   "outputs": [
    {
     "data": {
      "text/html": [
       "<div>\n",
       "<style scoped>\n",
       "    .dataframe tbody tr th:only-of-type {\n",
       "        vertical-align: middle;\n",
       "    }\n",
       "\n",
       "    .dataframe tbody tr th {\n",
       "        vertical-align: top;\n",
       "    }\n",
       "\n",
       "    .dataframe thead th {\n",
       "        text-align: right;\n",
       "    }\n",
       "</style>\n",
       "<table border=\"1\" class=\"dataframe\">\n",
       "  <thead>\n",
       "    <tr style=\"text-align: right;\">\n",
       "      <th></th>\n",
       "      <th>bus</th>\n",
       "      <th>p_nom</th>\n",
       "      <th>p_nom_extendable</th>\n",
       "      <th>p_nom_min</th>\n",
       "      <th>p_nom_max</th>\n",
       "      <th>q_set</th>\n",
       "      <th>carrier</th>\n",
       "      <th>capital_cost</th>\n",
       "      <th>efficiency</th>\n",
       "      <th>marginal_cost</th>\n",
       "      <th>...</th>\n",
       "      <th>shut_down_cost</th>\n",
       "      <th>min_up_time</th>\n",
       "      <th>min_down_time</th>\n",
       "      <th>up_time_before</th>\n",
       "      <th>down_time_before</th>\n",
       "      <th>ramp_limit_up</th>\n",
       "      <th>ramp_limit_down</th>\n",
       "      <th>ramp_limit_start_up</th>\n",
       "      <th>ramp_limit_shut_down</th>\n",
       "      <th>p_nom_opt</th>\n",
       "    </tr>\n",
       "    <tr>\n",
       "      <th>Generator</th>\n",
       "      <th></th>\n",
       "      <th></th>\n",
       "      <th></th>\n",
       "      <th></th>\n",
       "      <th></th>\n",
       "      <th></th>\n",
       "      <th></th>\n",
       "      <th></th>\n",
       "      <th></th>\n",
       "      <th></th>\n",
       "      <th></th>\n",
       "      <th></th>\n",
       "      <th></th>\n",
       "      <th></th>\n",
       "      <th></th>\n",
       "      <th></th>\n",
       "      <th></th>\n",
       "      <th></th>\n",
       "      <th></th>\n",
       "      <th></th>\n",
       "      <th></th>\n",
       "    </tr>\n",
       "  </thead>\n",
       "  <tbody>\n",
       "    <tr>\n",
       "      <th>solargenerator</th>\n",
       "      <td>onebus</td>\n",
       "      <td>60.0</td>\n",
       "      <td>True</td>\n",
       "      <td>50.0</td>\n",
       "      <td>60.0</td>\n",
       "      <td>50.0</td>\n",
       "      <td>solar</td>\n",
       "      <td>400.0</td>\n",
       "      <td>1.0</td>\n",
       "      <td>0.3</td>\n",
       "      <td>...</td>\n",
       "      <td>0.0</td>\n",
       "      <td>0</td>\n",
       "      <td>0</td>\n",
       "      <td>1</td>\n",
       "      <td>0</td>\n",
       "      <td>NaN</td>\n",
       "      <td>NaN</td>\n",
       "      <td>1.0</td>\n",
       "      <td>1.0</td>\n",
       "      <td>0.0</td>\n",
       "    </tr>\n",
       "  </tbody>\n",
       "</table>\n",
       "<p>1 rows × 30 columns</p>\n",
       "</div>"
      ],
      "text/plain": [
       "                   bus  p_nom  p_nom_extendable  p_nom_min  p_nom_max  q_set  \\\n",
       "Generator                                                                      \n",
       "solargenerator  onebus   60.0              True       50.0       60.0   50.0   \n",
       "\n",
       "               carrier  capital_cost  efficiency  marginal_cost  ...  \\\n",
       "Generator                                                        ...   \n",
       "solargenerator   solar         400.0         1.0            0.3  ...   \n",
       "\n",
       "               shut_down_cost min_up_time  min_down_time  up_time_before  \\\n",
       "Generator                                                                  \n",
       "solargenerator            0.0           0              0               1   \n",
       "\n",
       "                down_time_before  ramp_limit_up  ramp_limit_down  \\\n",
       "Generator                                                          \n",
       "solargenerator                 0            NaN              NaN   \n",
       "\n",
       "                ramp_limit_start_up  ramp_limit_shut_down  p_nom_opt  \n",
       "Generator                                                             \n",
       "solargenerator                  1.0                   1.0        0.0  \n",
       "\n",
       "[1 rows x 30 columns]"
      ]
     },
     "execution_count": 7,
     "metadata": {},
     "output_type": "execute_result"
    }
   ],
   "source": [
    "n.generators"
   ]
  },
  {
   "cell_type": "code",
   "execution_count": 8,
   "metadata": {},
   "outputs": [
    {
     "name": "stdout",
     "output_type": "stream",
     "text": [
      "                         bus 0\n",
      "snapshot                      \n",
      "2013-01-01 00:00:00  18.559885\n",
      "2013-01-01 01:00:00  20.595279\n",
      "2013-01-01 02:00:00  14.449810\n",
      "2013-01-01 03:00:00  16.499849\n",
      "2013-01-01 04:00:00  13.390089\n",
      "...                        ...\n",
      "2013-12-31 19:00:00  57.438227\n",
      "2013-12-31 20:00:00  35.517246\n",
      "2013-12-31 21:00:00  33.213649\n",
      "2013-12-31 22:00:00  30.535195\n",
      "2013-12-31 23:00:00  25.422619\n",
      "\n",
      "[8760 rows x 1 columns]\n"
     ]
    }
   ],
   "source": [
    "#I import a time series for load as pandas dataframe\n",
    "import pandas as pd\n",
    "\n",
    "load=pd.read_csv(r'C:\\Users\\denis\\OneDrive\\Desktop\\Mini grids\\pypsa-distribution\\time_series\\Load_timeseries\\sample_profile.csv', parse_dates=True)\n",
    "\n",
    "#Used at first, now changed to make it look similar to solar data\n",
    "# date_index=pd.date_range('01/01/2013', periods=8760, freq='h')\n",
    "# date_index = pd.DataFrame(date_index, columns=['time'])\n",
    "# date_index['bus 0']=load_df['bus 0']\n",
    "# load=date_index\n",
    "\n",
    "load=load[\"bus 0\"]\n",
    "load=pd.DataFrame(load)\n",
    "load = load.set_index([n.snapshots])\n",
    "\n",
    "\n",
    "load_df=load[\"bus 0\"]\n",
    "\n",
    "print(load)\n",
    "#p_set=load_df\n",
    "\n",
    "#I create a numpy array \n",
    "#load=np.array(load)\n",
    "\n"
   ]
  },
  {
   "cell_type": "code",
   "execution_count": 9,
   "metadata": {},
   "outputs": [
    {
     "name": "stderr",
     "output_type": "stream",
     "text": [
      "WARNING:pypsa.io:Components Index(['bus 0'], dtype='object', name='Load') for attribute p_set of Load are not in main components dataframe loads\n"
     ]
    },
    {
     "data": {
      "text/plain": [
       "Index(['MyLoad'], dtype='object')"
      ]
     },
     "execution_count": 9,
     "metadata": {},
     "output_type": "execute_result"
    }
   ],
   "source": [
    "\n",
    "#I connect the load to the bus \"onebus\"\n",
    "\n",
    "n.madd(\"Load\", [\"MyLoad\"], bus=[\"onebus\"], carrier=\"AC\", p_set = load)\n",
    " #p_set [MW]\n",
    "\n",
    "#Not to have the warning: load_df=load[\"bus 0\"] and p_set=load_df\n",
    "\n",
    "# n.loads\n",
    "\n"
   ]
  },
  {
   "cell_type": "code",
   "execution_count": 10,
   "metadata": {},
   "outputs": [
    {
     "data": {
      "text/html": [
       "<div>\n",
       "<style scoped>\n",
       "    .dataframe tbody tr th:only-of-type {\n",
       "        vertical-align: middle;\n",
       "    }\n",
       "\n",
       "    .dataframe tbody tr th {\n",
       "        vertical-align: top;\n",
       "    }\n",
       "\n",
       "    .dataframe thead th {\n",
       "        text-align: right;\n",
       "    }\n",
       "</style>\n",
       "<table border=\"1\" class=\"dataframe\">\n",
       "  <thead>\n",
       "    <tr style=\"text-align: right;\">\n",
       "      <th></th>\n",
       "      <th>bus</th>\n",
       "      <th>carrier</th>\n",
       "      <th>type</th>\n",
       "      <th>p_set</th>\n",
       "      <th>q_set</th>\n",
       "      <th>sign</th>\n",
       "    </tr>\n",
       "    <tr>\n",
       "      <th>Load</th>\n",
       "      <th></th>\n",
       "      <th></th>\n",
       "      <th></th>\n",
       "      <th></th>\n",
       "      <th></th>\n",
       "      <th></th>\n",
       "    </tr>\n",
       "  </thead>\n",
       "  <tbody>\n",
       "    <tr>\n",
       "      <th>MyLoad</th>\n",
       "      <td>onebus</td>\n",
       "      <td>AC</td>\n",
       "      <td></td>\n",
       "      <td>0.0</td>\n",
       "      <td>0.0</td>\n",
       "      <td>-1.0</td>\n",
       "    </tr>\n",
       "  </tbody>\n",
       "</table>\n",
       "</div>"
      ],
      "text/plain": [
       "           bus carrier type  p_set  q_set  sign\n",
       "Load                                           \n",
       "MyLoad  onebus      AC         0.0    0.0  -1.0"
      ]
     },
     "execution_count": 10,
     "metadata": {},
     "output_type": "execute_result"
    }
   ],
   "source": [
    "n.loads"
   ]
  },
  {
   "cell_type": "code",
   "execution_count": 11,
   "metadata": {},
   "outputs": [],
   "source": [
    "#n.buses"
   ]
  },
  {
   "cell_type": "code",
   "execution_count": 12,
   "metadata": {},
   "outputs": [],
   "source": [
    "#n.madd(\"StorageUnit\", [\"mySU\"] , bus=\"onebus\", p_nom=50, capital_cost=300)"
   ]
  },
  {
   "cell_type": "code",
   "execution_count": 13,
   "metadata": {},
   "outputs": [
    {
     "data": {
      "text/plain": [
       "Index(['StorUni'], dtype='object')"
      ]
     },
     "execution_count": 13,
     "metadata": {},
     "output_type": "execute_result"
    }
   ],
   "source": [
    "n.madd(\"StorageUnit\",[\"StorUni\"], bus=\"onebus\", marginal_cost=10, inflow=50, p_nom_extendable=True, capital_cost=10, p_nom=2000, \n",
    "       efficiency_dispatch=0.5, cyclic_state_of_charge=True, state_of_charge_initial=1000)"
   ]
  },
  {
   "cell_type": "code",
   "execution_count": 14,
   "metadata": {},
   "outputs": [
    {
     "name": "stdout",
     "output_type": "stream",
     "text": [
      "PyPSA Network\n",
      "Components:\n",
      " - Bus: 1\n",
      " - Generator: 1\n",
      " - Load: 1\n",
      " - StorageUnit: 1\n",
      "Snapshots: 8760\n"
     ]
    }
   ],
   "source": [
    "#I want to see my whole network:\n",
    "\n",
    "print(n)"
   ]
  },
  {
   "cell_type": "code",
   "execution_count": 15,
   "metadata": {},
   "outputs": [
    {
     "data": {
      "text/plain": [
       "<AxesSubplot: xlabel='snapshot'>"
      ]
     },
     "execution_count": 15,
     "metadata": {},
     "output_type": "execute_result"
    },
    {
     "data": {
      "image/png": "[encoded data removed]",
      "text/plain": [
       "<Figure size 640x480 with 1 Axes>"
      ]
     },
     "metadata": {},
     "output_type": "display_data"
    }
   ],
   "source": [
    "#Plotting the generation\n",
    "n.generators_t.p_max_pu.plot(color='blue')\n"
   ]
  },
  {
   "cell_type": "code",
   "execution_count": 16,
   "metadata": {},
   "outputs": [
    {
     "data": {
      "text/plain": [
       "<AxesSubplot: xlabel='snapshot', ylabel='MW'>"
      ]
     },
     "execution_count": 16,
     "metadata": {},
     "output_type": "execute_result"
    },
    {
     "data": {
      "image/png": "[encoded data removed]",
      "text/plain": [
       "<Figure size 640x480 with 1 Axes>"
      ]
     },
     "metadata": {},
     "output_type": "display_data"
    }
   ],
   "source": [
    "#Plotting the load\n",
    "n.loads_t.p_set.plot(color='red', ylabel='MW')\n"
   ]
  },
  {
   "cell_type": "code",
   "execution_count": 17,
   "metadata": {},
   "outputs": [
    {
     "name": "stderr",
     "output_type": "stream",
     "text": [
      "INFO:pypsa.linopf:Prepare linear problem\n",
      "INFO:pypsa.linopf:Total preparation time: 1.14s\n",
      "INFO:pypsa.linopf:Solve linear problem using Gurobi solver\n"
     ]
    },
    {
     "name": "stdout",
     "output_type": "stream",
     "text": [
      "Set parameter Username\n",
      "Academic license - for non-commercial use only - expires 2023-09-07\n",
      "Read LP format model from file C:\\Users\\denis\\AppData\\Local\\Temp\\pypsa-problem-2tp9f0bp.lp\n",
      "Reading time = 0.23 seconds\n",
      "obj: 87600 rows, 43803 columns, 175200 nonzeros\n",
      "Gurobi Optimizer version 9.5.2 build v9.5.2rc0 (win64)\n",
      "Thread count: 4 physical cores, 8 logical processors, using up to 8 threads\n",
      "Optimize a model with 87600 rows, 43803 columns and 175200 nonzeros\n",
      "Model fingerprint: 0x6f5d4f77\n",
      "Coefficient statistics:\n",
      "  Matrix range     [1e+00, 2e+00]\n",
      "  Objective range  [3e-01, 4e+02]\n",
      "  Bounds range     [5e+01, 4e+04]\n",
      "  RHS range        [5e+01, 5e+01]\n",
      "\n",
      "Concurrent LP optimizer: dual simplex and barrier\n",
      "Showing barrier log only...\n",
      "\n",
      "Presolve removed 43800 rows and 8761 columns\n",
      "Presolve time: 0.13s\n",
      "Presolved: 43800 rows, 35042 columns, 122640 nonzeros\n",
      "\n",
      "Iteration    Objective       Primal Inf.    Dual Inf.      Time\n",
      "       0   -2.4000000e+04   0.000000e+00   0.000000e+00      0s\n",
      "\n",
      "Use crossover to convert LP symmetric solution to basic solution...\n",
      "Crossover log...\n",
      "\n",
      "       0 DPushes remaining with DInf 0.0000000e+00                 0s\n",
      "\n",
      "       0 PPushes remaining with PInf 0.0000000e+00                 0s\n",
      "\n",
      "  Push phase complete: Pinf 0.0000000e+00, Dinf 0.0000000e+00      0s\n",
      "\n",
      "Iteration    Objective       Primal Inf.    Dual Inf.      Time\n",
      "       3   -2.4000000e+04   0.000000e+00   0.000000e+00      0s\n",
      "\n",
      "Solved with barrier\n",
      "Solved in 3 iterations and 0.26 seconds (0.14 work units)\n",
      "Optimal objective -2.400000000e+04\n"
     ]
    },
    {
     "name": "stderr",
     "output_type": "stream",
     "text": [
      "INFO:pypsa.linopf:Optimization successful. Objective value: -2.40e+04\n"
     ]
    },
    {
     "data": {
      "text/plain": [
       "('ok', 'optimal')"
      ]
     },
     "execution_count": 17,
     "metadata": {},
     "output_type": "execute_result"
    }
   ],
   "source": [
    "#Optimization\n",
    "from pypsa.linopf import ilopf\n",
    "\n",
    "solver_name=\"gurobi\"\n",
    "\n",
    "n.lopf(n.snapshots, solver_name=solver_name, pyomo=False)\n"
   ]
  },
  {
   "cell_type": "code",
   "execution_count": 19,
   "metadata": {},
   "outputs": [
    {
     "data": {
      "image/png": "[encoded data removed]",
      "text/plain": [
       "<Figure size 800x300 with 1 Axes>"
      ]
     },
     "metadata": {},
     "output_type": "display_data"
    }
   ],
   "source": [
    "n.generators.p_nom_opt.div(1e3).plot.bar(ylabel=\"GW\", figsize=(8, 3))\n",
    "plt.tight_layout()"
   ]
  }
 ],
 "metadata": {
  "kernelspec": {
   "display_name": "Python 3.9.13 ('pypsa-earth')",
   "language": "python",
   "name": "python3"
  },
  "language_info": {
   "codemirror_mode": {
    "name": "ipython",
    "version": 3
   },
   "file_extension": ".py",
   "mimetype": "text/x-python",
   "name": "python",
   "nbconvert_exporter": "python",
   "pygments_lexer": "ipython3",
   "version": "3.9.13"
  },
  "orig_nbformat": 4,
  "vscode": {
   "interpreter": {
    "hash": "60686b472709b5af7a580af664912c7edc8daf918109af2ab9a56e9417cd6941"
   }
  }
 },
 "nbformat": 4,
 "nbformat_minor": 2
}
