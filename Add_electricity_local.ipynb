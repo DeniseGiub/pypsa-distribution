{
 "cells": [
  {
   "cell_type": "code",
   "execution_count": 1,
   "metadata": {},
   "outputs": [
    {
     "name": "stderr",
     "output_type": "stream",
     "text": [
      "c:\\Users\\denis\\miniconda3\\envs\\pypsa-earth\\lib\\site-packages\\pypsa\\components.py:374: FutureWarning:\n",
      "\n",
      "iteritems is deprecated and will be removed in a future version. Use .items instead.\n",
      "\n",
      "c:\\Users\\denis\\miniconda3\\envs\\pypsa-earth\\lib\\site-packages\\pypsa\\components.py:374: FutureWarning:\n",
      "\n",
      "iteritems is deprecated and will be removed in a future version. Use .items instead.\n",
      "\n",
      "c:\\Users\\denis\\miniconda3\\envs\\pypsa-earth\\lib\\site-packages\\pypsa\\components.py:374: FutureWarning:\n",
      "\n",
      "iteritems is deprecated and will be removed in a future version. Use .items instead.\n",
      "\n",
      "c:\\Users\\denis\\miniconda3\\envs\\pypsa-earth\\lib\\site-packages\\pypsa\\components.py:374: FutureWarning:\n",
      "\n",
      "iteritems is deprecated and will be removed in a future version. Use .items instead.\n",
      "\n",
      "c:\\Users\\denis\\miniconda3\\envs\\pypsa-earth\\lib\\site-packages\\pypsa\\components.py:374: FutureWarning:\n",
      "\n",
      "iteritems is deprecated and will be removed in a future version. Use .items instead.\n",
      "\n",
      "c:\\Users\\denis\\miniconda3\\envs\\pypsa-earth\\lib\\site-packages\\pypsa\\components.py:374: FutureWarning:\n",
      "\n",
      "iteritems is deprecated and will be removed in a future version. Use .items instead.\n",
      "\n",
      "c:\\Users\\denis\\miniconda3\\envs\\pypsa-earth\\lib\\site-packages\\pypsa\\components.py:374: FutureWarning:\n",
      "\n",
      "iteritems is deprecated and will be removed in a future version. Use .items instead.\n",
      "\n",
      "c:\\Users\\denis\\miniconda3\\envs\\pypsa-earth\\lib\\site-packages\\pypsa\\components.py:374: FutureWarning:\n",
      "\n",
      "iteritems is deprecated and will be removed in a future version. Use .items instead.\n",
      "\n",
      "c:\\Users\\denis\\miniconda3\\envs\\pypsa-earth\\lib\\site-packages\\pypsa\\components.py:374: FutureWarning:\n",
      "\n",
      "iteritems is deprecated and will be removed in a future version. Use .items instead.\n",
      "\n",
      "c:\\Users\\denis\\miniconda3\\envs\\pypsa-earth\\lib\\site-packages\\pypsa\\components.py:374: FutureWarning:\n",
      "\n",
      "iteritems is deprecated and will be removed in a future version. Use .items instead.\n",
      "\n",
      "c:\\Users\\denis\\miniconda3\\envs\\pypsa-earth\\lib\\site-packages\\pypsa\\components.py:374: FutureWarning:\n",
      "\n",
      "iteritems is deprecated and will be removed in a future version. Use .items instead.\n",
      "\n",
      "c:\\Users\\denis\\miniconda3\\envs\\pypsa-earth\\lib\\site-packages\\pypsa\\components.py:374: FutureWarning:\n",
      "\n",
      "iteritems is deprecated and will be removed in a future version. Use .items instead.\n",
      "\n",
      "c:\\Users\\denis\\miniconda3\\envs\\pypsa-earth\\lib\\site-packages\\pypsa\\components.py:374: FutureWarning:\n",
      "\n",
      "iteritems is deprecated and will be removed in a future version. Use .items instead.\n",
      "\n",
      "c:\\Users\\denis\\miniconda3\\envs\\pypsa-earth\\lib\\site-packages\\pypsa\\components.py:374: FutureWarning:\n",
      "\n",
      "iteritems is deprecated and will be removed in a future version. Use .items instead.\n",
      "\n",
      "c:\\Users\\denis\\miniconda3\\envs\\pypsa-earth\\lib\\site-packages\\pypsa\\components.py:485: FutureWarning:\n",
      "\n",
      "iteritems is deprecated and will be removed in a future version. Use .items instead.\n",
      "\n"
     ]
    }
   ],
   "source": [
    "#Technologies: solar and battery\n",
    "\n",
    "import pypsa\n",
    "import pandas as pd\n",
    "import xarray as xr\n",
    "import matplotlib.pyplot as plt\n",
    "\n",
    "n=pypsa.Network()\n",
    "\n",
    "#Snapshots\n",
    "n.set_snapshots(value=pd.date_range(freq=\"h\", start=\"2013-01-01\", end=\"2014-01-01\", inclusive='left'))\n",
    "n.snapshot_weightings[:] *= 8760.0 / n.snapshot_weightings.sum()"
   ]
  },
  {
   "cell_type": "code",
   "execution_count": 2,
   "metadata": {},
   "outputs": [
    {
     "data": {
      "text/html": [
       "<div>\n",
       "<style scoped>\n",
       "    .dataframe tbody tr th:only-of-type {\n",
       "        vertical-align: middle;\n",
       "    }\n",
       "\n",
       "    .dataframe tbody tr th {\n",
       "        vertical-align: top;\n",
       "    }\n",
       "\n",
       "    .dataframe thead th {\n",
       "        text-align: right;\n",
       "    }\n",
       "</style>\n",
       "<table border=\"1\" class=\"dataframe\">\n",
       "  <thead>\n",
       "    <tr style=\"text-align: right;\">\n",
       "      <th></th>\n",
       "      <th>x</th>\n",
       "      <th>y</th>\n",
       "      <th>carrier</th>\n",
       "      <th>v_nom</th>\n",
       "      <th>type</th>\n",
       "      <th>unit</th>\n",
       "      <th>v_mag_pu_set</th>\n",
       "      <th>v_mag_pu_min</th>\n",
       "      <th>v_mag_pu_max</th>\n",
       "      <th>control</th>\n",
       "      <th>sub_network</th>\n",
       "    </tr>\n",
       "    <tr>\n",
       "      <th>Bus</th>\n",
       "      <th></th>\n",
       "      <th></th>\n",
       "      <th></th>\n",
       "      <th></th>\n",
       "      <th></th>\n",
       "      <th></th>\n",
       "      <th></th>\n",
       "      <th></th>\n",
       "      <th></th>\n",
       "      <th></th>\n",
       "      <th></th>\n",
       "    </tr>\n",
       "  </thead>\n",
       "  <tbody>\n",
       "    <tr>\n",
       "      <th>onebus</th>\n",
       "      <td>0.1</td>\n",
       "      <td>0.2</td>\n",
       "      <td>AC</td>\n",
       "      <td>20.0</td>\n",
       "      <td></td>\n",
       "      <td>None</td>\n",
       "      <td>1.0</td>\n",
       "      <td>0.0</td>\n",
       "      <td>inf</td>\n",
       "      <td>PQ</td>\n",
       "      <td></td>\n",
       "    </tr>\n",
       "  </tbody>\n",
       "</table>\n",
       "</div>"
      ],
      "text/plain": [
       "          x    y carrier  v_nom type  unit  v_mag_pu_set  v_mag_pu_min  \\\n",
       "Bus                                                                      \n",
       "onebus  0.1  0.2      AC   20.0       None           1.0           0.0   \n",
       "\n",
       "        v_mag_pu_max control sub_network  \n",
       "Bus                                       \n",
       "onebus           inf      PQ              "
      ]
     },
     "execution_count": 2,
     "metadata": {},
     "output_type": "execute_result"
    }
   ],
   "source": [
    "#I create the bus \n",
    "\n",
    "n.madd(\"Bus\", [\"onebus\"], x=0.1, y=0.2, carrier=\"AC\", v_nom=20)\n",
    "\n",
    "n.buses\n"
   ]
  },
  {
   "cell_type": "code",
   "execution_count": 3,
   "metadata": {},
   "outputs": [],
   "source": [
    "\n",
    "# #I import a time series for generation \n",
    "\n",
    "with xr.open_dataset(r'C:\\Users\\denis\\OneDrive\\Desktop\\Mini grids\\pypsa-distribution\\time_series\\Generation_timeseries\\profile_solar.nc') as ds:\n",
    "\n",
    "    solar=ds[\"profile\"].transpose(\"time\", \"bus\").to_pandas()\n",
    "\n",
    "#I take just the first column(one bus)\n",
    "\n",
    "solar=solar.iloc[:,0:1]\n",
    "solar=solar.reindex(n.snapshots)\n",
    "#print(solar)"
   ]
  },
  {
   "cell_type": "code",
   "execution_count": 4,
   "metadata": {},
   "outputs": [
    {
     "data": {
      "text/plain": [
       "Index(['0 solar'], dtype='object')"
      ]
     },
     "execution_count": 4,
     "metadata": {},
     "output_type": "execute_result"
    }
   ],
   "source": [
    "#I connect a generator to the bus \"onebus\"\n",
    "buses=range(1)\n",
    "n.madd(\"Generator\", buses, suffix = ' solar', bus = \"onebus\", p_max_pu=solar, p_set=solar, marginal_cost=0.001, capital_cost=400)\n",
    "\n",
    "\n",
    "# p_nom=1000,  p_nom_extendable=True, carrier=\"solar\", capital_cost=400, efficiency=0.3, marginal_cost=0.001)\n"
   ]
  },
  {
   "cell_type": "code",
   "execution_count": 5,
   "metadata": {},
   "outputs": [
    {
     "data": {
      "text/html": [
       "<div>\n",
       "<style scoped>\n",
       "    .dataframe tbody tr th:only-of-type {\n",
       "        vertical-align: middle;\n",
       "    }\n",
       "\n",
       "    .dataframe tbody tr th {\n",
       "        vertical-align: top;\n",
       "    }\n",
       "\n",
       "    .dataframe thead th {\n",
       "        text-align: right;\n",
       "    }\n",
       "</style>\n",
       "<table border=\"1\" class=\"dataframe\">\n",
       "  <thead>\n",
       "    <tr style=\"text-align: right;\">\n",
       "      <th></th>\n",
       "      <th>bus</th>\n",
       "      <th>marginal_cost</th>\n",
       "      <th>capital_cost</th>\n",
       "      <th>control</th>\n",
       "      <th>type</th>\n",
       "      <th>p_nom</th>\n",
       "      <th>p_nom_extendable</th>\n",
       "      <th>p_nom_min</th>\n",
       "      <th>p_nom_max</th>\n",
       "      <th>p_min_pu</th>\n",
       "      <th>...</th>\n",
       "      <th>shut_down_cost</th>\n",
       "      <th>min_up_time</th>\n",
       "      <th>min_down_time</th>\n",
       "      <th>up_time_before</th>\n",
       "      <th>down_time_before</th>\n",
       "      <th>ramp_limit_up</th>\n",
       "      <th>ramp_limit_down</th>\n",
       "      <th>ramp_limit_start_up</th>\n",
       "      <th>ramp_limit_shut_down</th>\n",
       "      <th>p_nom_opt</th>\n",
       "    </tr>\n",
       "    <tr>\n",
       "      <th>Generator</th>\n",
       "      <th></th>\n",
       "      <th></th>\n",
       "      <th></th>\n",
       "      <th></th>\n",
       "      <th></th>\n",
       "      <th></th>\n",
       "      <th></th>\n",
       "      <th></th>\n",
       "      <th></th>\n",
       "      <th></th>\n",
       "      <th></th>\n",
       "      <th></th>\n",
       "      <th></th>\n",
       "      <th></th>\n",
       "      <th></th>\n",
       "      <th></th>\n",
       "      <th></th>\n",
       "      <th></th>\n",
       "      <th></th>\n",
       "      <th></th>\n",
       "      <th></th>\n",
       "    </tr>\n",
       "  </thead>\n",
       "  <tbody>\n",
       "    <tr>\n",
       "      <th>0 solar</th>\n",
       "      <td>onebus</td>\n",
       "      <td>0.001</td>\n",
       "      <td>400.0</td>\n",
       "      <td>PQ</td>\n",
       "      <td></td>\n",
       "      <td>0.0</td>\n",
       "      <td>False</td>\n",
       "      <td>0.0</td>\n",
       "      <td>inf</td>\n",
       "      <td>0.0</td>\n",
       "      <td>...</td>\n",
       "      <td>0.0</td>\n",
       "      <td>0</td>\n",
       "      <td>0</td>\n",
       "      <td>1</td>\n",
       "      <td>0</td>\n",
       "      <td>NaN</td>\n",
       "      <td>NaN</td>\n",
       "      <td>1.0</td>\n",
       "      <td>1.0</td>\n",
       "      <td>0.0</td>\n",
       "    </tr>\n",
       "  </tbody>\n",
       "</table>\n",
       "<p>1 rows × 30 columns</p>\n",
       "</div>"
      ],
      "text/plain": [
       "              bus  marginal_cost  capital_cost control type  p_nom  \\\n",
       "Generator                                                            \n",
       "0 solar    onebus          0.001         400.0      PQ         0.0   \n",
       "\n",
       "           p_nom_extendable  p_nom_min  p_nom_max  p_min_pu  ...  \\\n",
       "Generator                                                    ...   \n",
       "0 solar               False        0.0        inf       0.0  ...   \n",
       "\n",
       "           shut_down_cost  min_up_time  min_down_time  up_time_before  \\\n",
       "Generator                                                               \n",
       "0 solar               0.0            0              0               1   \n",
       "\n",
       "          down_time_before  ramp_limit_up  ramp_limit_down  \\\n",
       "Generator                                                    \n",
       "0 solar                  0            NaN              NaN   \n",
       "\n",
       "           ramp_limit_start_up  ramp_limit_shut_down  p_nom_opt  \n",
       "Generator                                                        \n",
       "0 solar                    1.0                   1.0        0.0  \n",
       "\n",
       "[1 rows x 30 columns]"
      ]
     },
     "execution_count": 5,
     "metadata": {},
     "output_type": "execute_result"
    }
   ],
   "source": [
    "n.generators"
   ]
  },
  {
   "cell_type": "code",
   "execution_count": 6,
   "metadata": {},
   "outputs": [],
   "source": [
    "#I import a time series for load as pandas dataframe\n",
    "import pandas as pd\n",
    "\n",
    "load=pd.read_csv(r'C:\\Users\\denis\\OneDrive\\Desktop\\Mini grids\\pypsa-distribution\\time_series\\Load_timeseries\\sample_profile.csv', parse_dates=True)\n",
    "#Used at first, now changed to make it look similar to solar data\n",
    "# date_index=pd.date_range('01/01/2013', periods=8760, freq='h')\n",
    "# date_index = pd.DataFrame(date_index, columns=['time'])\n",
    "# date_index['bus 0']=load_df['bus 0']\n",
    "# load=date_index\n",
    "load=load[\"bus 0\"]\n",
    "load=pd.DataFrame(load)\n",
    "load = load.set_index([n.snapshots])\n",
    "import numpy as np\n",
    "#I create a numpy array \n",
    "load_df=np.array(load)\n"
   ]
  },
  {
   "cell_type": "code",
   "execution_count": 7,
   "metadata": {},
   "outputs": [
    {
     "data": {
      "text/plain": [
       "Index(['MyLoad'], dtype='object', name='Load')"
      ]
     },
     "execution_count": 7,
     "metadata": {},
     "output_type": "execute_result"
    }
   ],
   "source": [
    "\n",
    "#I connect the load to the bus \"onebus\"\n",
    "\n",
    "n.madd(\"Load\", [\"MyLoad\"], bus=[\"onebus\"], carrier=\"AC\", p_set = load_df)\n",
    "\n",
    "\n",
    "#Not to have the warning: load_df=load[\"bus 0\"] and p_set=load_df\n",
    "# n.loads\n",
    "\n"
   ]
  },
  {
   "cell_type": "code",
   "execution_count": 21,
   "metadata": {},
   "outputs": [
    {
     "data": {
      "text/plain": [
       "<AxesSubplot: xlabel='snapshot', ylabel='MW'>"
      ]
     },
     "execution_count": 21,
     "metadata": {},
     "output_type": "execute_result"
    },
    {
     "data": {
      "image/png": "[encoded data removed]",
      "text/plain": [
       "<Figure size 640x480 with 1 Axes>"
      ]
     },
     "metadata": {},
     "output_type": "display_data"
    }
   ],
   "source": [
    "n.generators_t.p_set.plot(color='blue', ylabel='MW')"
   ]
  },
  {
   "cell_type": "code",
   "execution_count": 22,
   "metadata": {},
   "outputs": [
    {
     "data": {
      "text/plain": [
       "<AxesSubplot: xlabel='snapshot', ylabel='MW'>"
      ]
     },
     "execution_count": 22,
     "metadata": {},
     "output_type": "execute_result"
    },
    {
     "data": {
      "image/png": "[encoded data removed]",
      "text/plain": [
       "<Figure size 640x480 with 1 Axes>"
      ]
     },
     "metadata": {},
     "output_type": "display_data"
    }
   ],
   "source": [
    "n.loads_t.p_set.plot(color='red', ylabel='MW')"
   ]
  },
  {
   "cell_type": "code",
   "execution_count": 13,
   "metadata": {},
   "outputs": [],
   "source": [
    "#n.madd(\"StorageUnit\", [\"mySU\"] , bus=\"onebus\", p_nom=50, capital_cost=300)"
   ]
  },
  {
   "cell_type": "code",
   "execution_count": 14,
   "metadata": {},
   "outputs": [
    {
     "data": {
      "text/plain": [
       "Index(['StorUni'], dtype='object')"
      ]
     },
     "execution_count": 14,
     "metadata": {},
     "output_type": "execute_result"
    }
   ],
   "source": [
    "n.madd(\"StorageUnit\",[\"StorUni\"], bus=\"onebus\", marginal_cost=10, inflow=50, p_nom_extendable=True, capital_cost=10, p_nom=2000, \n",
    "       efficiency_dispatch=0.5, cyclic_state_of_charge=True, state_of_charge_initial=1000)"
   ]
  },
  {
   "cell_type": "code",
   "execution_count": 23,
   "metadata": {},
   "outputs": [
    {
     "name": "stdout",
     "output_type": "stream",
     "text": [
      "PyPSA Network\n",
      "Components:\n",
      " - Bus: 1\n",
      " - Generator: 1\n",
      " - Load: 1\n",
      " - StorageUnit: 1\n",
      " - SubNetwork: 1\n",
      "Snapshots: 8760\n"
     ]
    }
   ],
   "source": [
    "#I want to see my whole network:\n",
    "\n",
    "print(n)"
   ]
  },
  {
   "cell_type": "code",
   "execution_count": 17,
   "metadata": {},
   "outputs": [
    {
     "name": "stderr",
     "output_type": "stream",
     "text": [
      "INFO:pypsa.linopf:Prepare linear problem\n",
      "INFO:pypsa.linopf:Total preparation time: 1.05s\n",
      "INFO:pypsa.linopf:Solve linear problem using Gurobi solver\n"
     ]
    },
    {
     "name": "stdout",
     "output_type": "stream",
     "text": [
      "Set parameter Username\n",
      "Academic license - for non-commercial use only - expires 2023-09-07\n",
      "Read LP format model from file C:\\Users\\denis\\AppData\\Local\\Temp\\pypsa-problem-tow1qpgc.lp\n",
      "Reading time = 0.26 seconds\n",
      "obj: 87600 rows, 43802 columns, 166440 nonzeros\n",
      "Gurobi Optimizer version 9.5.2 build v9.5.2rc0 (win64)\n",
      "Thread count: 4 physical cores, 8 logical processors, using up to 8 threads\n",
      "Optimize a model with 87600 rows, 43802 columns and 166440 nonzeros\n",
      "Model fingerprint: 0xbd81b26d\n",
      "Coefficient statistics:\n",
      "  Matrix range     [1e+00, 2e+00]\n",
      "  Objective range  [1e-03, 1e+01]\n",
      "  Bounds range     [5e+01, 2e+04]\n",
      "  RHS range        [8e+00, 7e+01]\n",
      "\n",
      "Concurrent LP optimizer: dual simplex and barrier\n",
      "Showing barrier log only...\n",
      "\n",
      "Presolve removed 66957 rows and 23158 columns\n",
      "Presolve time: 0.15s\n",
      "Presolved: 20643 rows, 20644 columns, 88392 nonzeros\n",
      "\n",
      "Ordering time: 0.00s\n",
      "\n",
      "Barrier statistics:\n",
      " Dense cols : 1\n",
      " AA' NZ     : 8.145e+04\n",
      " Factor NZ  : 2.360e+05 (roughly 20 MB of memory)\n",
      " Factor Ops : 3.248e+06 (less than 1 second per iteration)\n",
      " Threads    : 3\n",
      "\n",
      "                  Objective                Residual\n",
      "Iter       Primal          Dual         Primal    Dual     Compl     Time\n",
      "   0   1.88358617e+07  1.23896662e+06  4.58e+03 0.00e+00  8.24e+02     0s\n",
      "   1   4.03962775e+06  1.73412737e+06  6.55e+02 2.80e-01  1.04e+02     0s\n",
      "   2   2.73084301e+06  2.41034507e+06  1.55e+02 5.28e-02  2.21e+01     0s\n",
      "   3   2.51474384e+06  2.76376833e+06  7.89e+01 1.72e-02  8.89e+00     0s\n",
      "\n",
      "Barrier performed 3 iterations in 0.27 seconds (0.15 work units)\n",
      "Barrier solve interrupted - model solved by another algorithm\n",
      "\n",
      "\n",
      "Solved with dual simplex\n",
      "Solved in 0 iterations and 0.28 seconds (0.17 work units)\n",
      "Infeasible or unbounded model\n"
     ]
    },
    {
     "name": "stderr",
     "output_type": "stream",
     "text": [
      "WARNING:pypsa.linopf:Optimization failed with status warning and termination condition infeasible or unbounded\n"
     ]
    },
    {
     "data": {
      "text/plain": [
       "('warning', 'infeasible or unbounded')"
      ]
     },
     "execution_count": 17,
     "metadata": {},
     "output_type": "execute_result"
    }
   ],
   "source": [
    "#Optimization\n",
    "from pypsa.linopf import ilopf\n",
    "\n",
    "solver_name=\"gurobi\"\n",
    "\n",
    "n.lopf(n.snapshots, solver_name=solver_name, pyomo=False)\n"
   ]
  },
  {
   "cell_type": "code",
   "execution_count": 18,
   "metadata": {},
   "outputs": [
    {
     "data": {
      "image/png": "[encoded data removed]",
      "text/plain": [
       "<Figure size 800x300 with 1 Axes>"
      ]
     },
     "metadata": {},
     "output_type": "display_data"
    }
   ],
   "source": [
    "n.generators.p_nom_opt.div(1e3).plot.bar(ylabel=\"GW\", figsize=(8, 3))\n",
    "plt.tight_layout()"
   ]
  },
  {
   "cell_type": "code",
   "execution_count": 19,
   "metadata": {},
   "outputs": [
    {
     "name": "stdout",
     "output_type": "stream",
     "text": [
      "Generator\n",
      "0 solar    0.0\n",
      "Name: p_nom_opt, dtype: float64\n"
     ]
    }
   ],
   "source": [
    "print(n.generators.p_nom_opt)"
   ]
  }
 ],
 "metadata": {
  "kernelspec": {
   "display_name": "Python 3.9.13 ('pypsa-earth')",
   "language": "python",
   "name": "python3"
  },
  "language_info": {
   "codemirror_mode": {
    "name": "ipython",
    "version": 3
   },
   "file_extension": ".py",
   "mimetype": "text/x-python",
   "name": "python",
   "nbconvert_exporter": "python",
   "pygments_lexer": "ipython3",
   "version": "3.9.13"
  },
  "orig_nbformat": 4,
  "vscode": {
   "interpreter": {
    "hash": "60686b472709b5af7a580af664912c7edc8daf918109af2ab9a56e9417cd6941"
   }
  }
 },
 "nbformat": 4,
 "nbformat_minor": 2
}
