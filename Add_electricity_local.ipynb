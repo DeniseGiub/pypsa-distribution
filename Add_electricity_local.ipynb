{
 "cells": [
  {
   "cell_type": "code",
   "execution_count": 1,
   "metadata": {},
   "outputs": [
    {
     "name": "stderr",
     "output_type": "stream",
     "text": [
      "c:\\Users\\denis\\miniconda3\\envs\\pypsa-earth\\lib\\site-packages\\pypsa\\components.py:374: FutureWarning:\n",
      "\n",
      "iteritems is deprecated and will be removed in a future version. Use .items instead.\n",
      "\n",
      "c:\\Users\\denis\\miniconda3\\envs\\pypsa-earth\\lib\\site-packages\\pypsa\\components.py:374: FutureWarning:\n",
      "\n",
      "iteritems is deprecated and will be removed in a future version. Use .items instead.\n",
      "\n",
      "c:\\Users\\denis\\miniconda3\\envs\\pypsa-earth\\lib\\site-packages\\pypsa\\components.py:374: FutureWarning:\n",
      "\n",
      "iteritems is deprecated and will be removed in a future version. Use .items instead.\n",
      "\n",
      "c:\\Users\\denis\\miniconda3\\envs\\pypsa-earth\\lib\\site-packages\\pypsa\\components.py:374: FutureWarning:\n",
      "\n",
      "iteritems is deprecated and will be removed in a future version. Use .items instead.\n",
      "\n",
      "c:\\Users\\denis\\miniconda3\\envs\\pypsa-earth\\lib\\site-packages\\pypsa\\components.py:374: FutureWarning:\n",
      "\n",
      "iteritems is deprecated and will be removed in a future version. Use .items instead.\n",
      "\n",
      "c:\\Users\\denis\\miniconda3\\envs\\pypsa-earth\\lib\\site-packages\\pypsa\\components.py:374: FutureWarning:\n",
      "\n",
      "iteritems is deprecated and will be removed in a future version. Use .items instead.\n",
      "\n",
      "c:\\Users\\denis\\miniconda3\\envs\\pypsa-earth\\lib\\site-packages\\pypsa\\components.py:374: FutureWarning:\n",
      "\n",
      "iteritems is deprecated and will be removed in a future version. Use .items instead.\n",
      "\n",
      "c:\\Users\\denis\\miniconda3\\envs\\pypsa-earth\\lib\\site-packages\\pypsa\\components.py:374: FutureWarning:\n",
      "\n",
      "iteritems is deprecated and will be removed in a future version. Use .items instead.\n",
      "\n",
      "c:\\Users\\denis\\miniconda3\\envs\\pypsa-earth\\lib\\site-packages\\pypsa\\components.py:374: FutureWarning:\n",
      "\n",
      "iteritems is deprecated and will be removed in a future version. Use .items instead.\n",
      "\n",
      "c:\\Users\\denis\\miniconda3\\envs\\pypsa-earth\\lib\\site-packages\\pypsa\\components.py:374: FutureWarning:\n",
      "\n",
      "iteritems is deprecated and will be removed in a future version. Use .items instead.\n",
      "\n",
      "c:\\Users\\denis\\miniconda3\\envs\\pypsa-earth\\lib\\site-packages\\pypsa\\components.py:374: FutureWarning:\n",
      "\n",
      "iteritems is deprecated and will be removed in a future version. Use .items instead.\n",
      "\n",
      "c:\\Users\\denis\\miniconda3\\envs\\pypsa-earth\\lib\\site-packages\\pypsa\\components.py:374: FutureWarning:\n",
      "\n",
      "iteritems is deprecated and will be removed in a future version. Use .items instead.\n",
      "\n",
      "c:\\Users\\denis\\miniconda3\\envs\\pypsa-earth\\lib\\site-packages\\pypsa\\components.py:374: FutureWarning:\n",
      "\n",
      "iteritems is deprecated and will be removed in a future version. Use .items instead.\n",
      "\n",
      "c:\\Users\\denis\\miniconda3\\envs\\pypsa-earth\\lib\\site-packages\\pypsa\\components.py:374: FutureWarning:\n",
      "\n",
      "iteritems is deprecated and will be removed in a future version. Use .items instead.\n",
      "\n",
      "c:\\Users\\denis\\miniconda3\\envs\\pypsa-earth\\lib\\site-packages\\pypsa\\components.py:485: FutureWarning:\n",
      "\n",
      "iteritems is deprecated and will be removed in a future version. Use .items instead.\n",
      "\n"
     ]
    },
    {
     "name": "stdout",
     "output_type": "stream",
     "text": [
      "{'version': '0.0.2', 'tutorial': True, 'logging': {'level': 'INFO', 'format': '%(levelname)s:%(name)s:%(message)s'}, 'scenario': {'simpl': [''], 'll': ['copt'], 'clusters': [6], 'opts': ['Co2L-4H']}, 'countries': ['NG'], 'summary_dir': 'results', 'snapshots': {'start': '2013-03-1', 'end': '2013-03-7', 'inclusive': 'left'}, 'enable': {'retrieve_databundle': False, 'download_osm_data': False, 'build_cutout': False, 'build_natura_raster': False}, 'crs': {'geo_crs': 'EPSG:4326', 'distance_crs': 'EPSG:3857', 'area_crs': 'ESRI:54009'}, 'retrieve_databundle': {'show_progress': False}, 'augmented_line_connection': {'add_to_snakefile': False, 'connectivity_upgrade': 2, 'new_line_type': ['HVAC'], 'min_expansion': 1, 'min_DC_length': 600}, 'cluster_options': {'alternative_clustering': False, 'distribute_cluster': ['load'], 'out_logging': True, 'aggregation_strategies': {'generators': {'p_nom': 'sum', 'p_nom_max': 'sum', 'p_nom_min': 'sum', 'p_min_pu': 'mean', 'marginal_cost': 'mean', 'committable': 'any', 'ramp_limit_up': 'max', 'ramp_limit_down': 'max', 'efficiency': 'mean'}}}, 'build_shape_options': {'gadm_layer_id': 1, 'update_file': False, 'out_logging': True, 'year': 2020, 'nprocesses': 5, 'worldpop_method': 'standard', 'gdp_method': 'standard'}, 'clean_osm_data_options': {'names_by_shapes': True, 'threshold_voltage': 35000, 'tag_substation': 'transmission', 'add_line_endings': True, 'generator_name_method': 'OSM'}, 'build_osm_network': {'group_close_buses': True, 'group_tolerance_buses': 500, 'split_overpassing_lines': True, 'overpassing_lines_tolerance': 1}, 'base_network': {'min_voltage_substation_offshore': 35000, 'min_voltage_rebase_voltage': 35000}, 'load_options': {'ssp': 'ssp2-2.6', 'weather_year': 2013, 'prediction_year': 2030, 'scale': 1}, 'electricity': {'voltages': [220.0, 300.0, 380.0], 'co2limit': 1487000000.0, 'co2base': 1487000000.0, 'agg_p_nom_limits': 'data/agg_p_nom_minmax.csv', 'hvdc_as_lines': False, 'operational_reserve': {'activate': False, 'epsilon_load': 0.02, 'epsilon_vres': 0.02, 'contingency': 0}, 'max_hours': {'battery': 6, 'H2': 168}, 'extendable_carriers': {'Generator': ['solar', 'onwind', 'offwind-ac', 'offwind-dc', 'OCGT'], 'StorageUnit': [], 'Store': ['battery', 'H2'], 'Link': []}, 'powerplants_filter': '(DateOut >= 2022 or DateOut != DateOut)', 'custom_powerplants': False, 'conventional_carriers': ['nuclear', 'oil', 'OCGT', 'CCGT', 'coal', 'lignite', 'geothermal', 'biomass'], 'renewable_carriers': ['solar', 'onwind', 'offwind-ac', 'offwind-dc', 'hydro'], 'estimate_renewable_capacities': {'stats': 'irena', 'year': 2020, 'p_nom_min': 1, 'p_nom_max': False, 'technology_mapping': {'Offshore': ['offwind-ac', 'offwind-dc'], 'Onshore': ['onwind'], 'PV': ['solar']}}}, 'lines': {'types': {220.0: 'Al/St 240/40 2-bundle 220.0', 300.0: 'Al/St 240/40 3-bundle 300.0', 380.0: 'Al/St 240/40 4-bundle 380.0'}, 'dc_type': 'DC_custom_linetype', 's_max_pu': 0.7, 's_nom_max': inf, 'length_factor': 1.25, 'under_construction': 'zero'}, 'links': {'p_max_pu': 1.0, 'p_nom_max': inf, 'include_tyndp': True, 'under_construction': 'zero'}, 'transformers': {'x': 0.1, 's_nom': 2000.0, 'type': ''}, 'atlite': {'nprocesses': 4, 'cutouts': {'africa-2013-era5-tutorial': {'module': 'era5', 'dx': 0.3, 'dy': 0.3}}}, 'renewable': {'onwind': {'cutout': 'africa-2013-era5-tutorial', 'resource': {'method': 'wind', 'turbine': 'Vestas_V112_3MW'}, 'capacity_per_sqkm': 3, 'copernicus': {'grid_codes': [20, 30, 40, 60, 100, 111, 112, 113, 114, 115, 116, 121, 122, 123, 124, 125, 126], 'distance': 1000, 'distance_grid_codes': [50]}, 'natura': True, 'potential': 'simple', 'clip_p_max_pu': 0.01, 'extendable': True}, 'solar': {'cutout': 'africa-2013-era5-tutorial', 'resource': {'method': 'pv', 'panel': 'CSi', 'orientation': 'latitude_optimal'}, 'capacity_per_sqkm': 4.6, 'correction_factor': 0.854337, 'copernicus': {'grid_codes': [20, 30, 40, 50, 60, 90, 100]}, 'natura': True, 'potential': 'simple', 'clip_p_max_pu': 0.01, 'extendable': True}}, 'costs': {'year': 2030, 'discountrate': 0.07, 'USD2013_to_EUR2013': 0.7532, 'marginal_cost': {'solar': 0.01, 'onwind': 0.015, 'offwind': 0.015, 'hydro': 0.0, 'H2': 0.0, 'electrolysis': 0.0, 'fuel cell': 0.0, 'battery': 0.0, 'battery inverter': 0.0}, 'emission_prices': {'co2': 0.0}}, 'monte_carlo': {'options': {'add_to_snakefile': False, 'samples': 7, 'sampling_strategy': 'chaospy'}, 'pypsa_standard': {'loads_t.p_set': [0.9, 1.1], 'generators_t.p_max_pu.loc[:, n.generators.carrier == \"wind\"]': [0.9, 1.1], 'generators_t.p_max_pu.loc[:, n.generators.carrier == \"solar\"]': [0.9, 1.1]}}, 'solving': {'options': {'formulation': 'kirchhoff', 'load_shedding': True, 'noisy_costs': True, 'min_iterations': 4, 'max_iterations': 6, 'clip_p_max_pu': 0.01, 'skip_iterations': True, 'track_iterations': False}, 'solver': {'name': 'glpk'}}, 'plotting': {'map': {'figsize': [7, 7], 'boundaries': [-10.2, 29, 35, 72], 'p_nom': {'bus_size_factor': 50000.0, 'linewidth_factor': 3000.0}}, 'costs_max': 800, 'costs_threshold': 1, 'energy_max': 15000.0, 'energy_min': -10000.0, 'energy_threshold': 50.0, 'vre_techs': ['onwind', 'offwind-ac', 'offwind-dc', 'solar', 'ror'], 'conv_techs': ['OCGT', 'CCGT', 'nuclear', 'coal', 'oil'], 'storage_techs': ['hydro+PHS', 'battery', 'H2'], 'load_carriers': ['AC load'], 'AC_carriers': ['AC line', 'AC transformer'], 'link_carriers': ['DC line', 'Converter AC-DC'], 'tech_colors': {'onwind': '#235ebc', 'onshore wind': '#235ebc', 'offwind': '#6895dd', 'offwind-ac': '#6895dd', 'offshore wind': '#6895dd', 'offshore wind ac': '#6895dd', 'offwind-dc': '#74c6f2', 'offshore wind dc': '#74c6f2', 'hydro': '#08ad97', 'hydro+PHS': '#08ad97', 'PHS': '#08ad97', 'hydro reservoir': '#08ad97', 'hydroelectricity': '#08ad97', 'ror': '#4adbc8', 'run of river': '#4adbc8', 'solar': '#f9d002', 'solar PV': '#f9d002', 'solar thermal': '#ffef60', 'biomass': '#0c6013', 'solid biomass': '#06540d', 'biogas': '#23932d', 'waste': '#68896b', 'geothermal': '#ba91b1', 'OCGT': '#d35050', 'gas': '#d35050', 'natural gas': '#d35050', 'CCGT': '#b20101', 'nuclear': '#ff9000', 'coal': '#707070', 'lignite': '#9e5a01', 'oil': '#262626', 'H2': '#ea048a', 'hydrogen storage': '#ea048a', 'battery': '#b8ea04', 'Electric load': '#f9d002', 'electricity': '#f9d002', 'lines': '#70af1d', 'transmission lines': '#70af1d', 'AC-AC': '#70af1d', 'AC line': '#70af1d', 'links': '#8a1caf', 'HVDC links': '#8a1caf', 'DC-DC': '#8a1caf', 'DC link': '#8a1caf', 'load': '#FF0000'}, 'nice_names': {'OCGT': 'Open-Cycle Gas', 'CCGT': 'Combined-Cycle Gas', 'offwind-ac': 'Offshore Wind (AC)', 'offwind-dc': 'Offshore Wind (DC)', 'onwind': 'Onshore Wind', 'solar': 'Solar', 'PHS': 'Pumped Hydro Storage', 'hydro': 'Reservoir & Dam', 'battery': 'Battery Storage', 'H2': 'Hydrogen Storage', 'lines': 'Transmission Lines', 'ror': 'Run of River'}}}\n"
     ]
    }
   ],
   "source": [
    "import pypsa\n",
    "import pandas as pd\n",
    "import xarray as xr\n",
    "import matplotlib.pyplot as plt\n",
    "import numpy as np\n",
    "n=pypsa.Network()\n",
    "\n",
    "#Snapshots\n",
    "n.set_snapshots(value=pd.date_range(freq=\"h\", start=\"2013-01-01\", end=\"2014-01-01\", inclusive='left'))\n",
    "n.snapshot_weightings[:] *= 8760.0 / n.snapshot_weightings.sum()\n",
    "Nyears = n.snapshot_weightings.objective.sum() / 8760.0\n",
    "\n",
    "# Load yaml files\n",
    "import yaml\n",
    "\n",
    "with open(r'config.yaml') as file:\n",
    "        config = yaml.load(file, Loader=yaml.FullLoader)\n",
    " \n",
    "        print(config)"
   ]
  },
  {
   "cell_type": "code",
   "execution_count": 2,
   "metadata": {},
   "outputs": [
    {
     "data": {
      "text/plain": [
       "Index(['onebus'], dtype='object')"
      ]
     },
     "execution_count": 2,
     "metadata": {},
     "output_type": "execute_result"
    }
   ],
   "source": [
    "#I create the bus \n",
    "\n",
    "n.madd(\"Bus\", [\"onebus\"], x=0.1, y=0.2, carrier=\"AC\", v_nom=20)"
   ]
  },
  {
   "cell_type": "code",
   "execution_count": 3,
   "metadata": {},
   "outputs": [],
   "source": [
    "costs=pd.read_csv(r'C:\\Users\\denis\\OneDrive\\Desktop\\Mini grids\\pypsa-distribution\\costs.csv')"
   ]
  },
  {
   "cell_type": "code",
   "execution_count": 4,
   "metadata": {},
   "outputs": [],
   "source": [
    "tech_costs=pd.read_csv(r'C:\\Users\\denis\\OneDrive\\Desktop\\Mini grids\\pypsa-distribution\\costs.csv')\n",
    "\n",
    "idx = pd.IndexSlice\n",
    "\n",
    "def calculate_annuity(n, r):\n",
    "    \"\"\"\n",
    "    Calculate the annuity factor for an asset with lifetime n years and\n",
    "    discount rate of r, e.g. annuity(20, 0.05) * 20 = 1.6\n",
    "    \"\"\"\n",
    "    if isinstance(r, pd.Series):\n",
    "        return pd.Series(1 / n, index=r.index).where(\n",
    "            r == 0, r / (1.0 - 1.0 / (1.0 + r) ** n)\n",
    "        )\n",
    "    elif r > 0:\n",
    "        return r / (1.0 - 1.0 / (1.0 + r) ** n)\n",
    "    else:\n",
    "        return 1 / n"
   ]
  },
  {
   "cell_type": "code",
   "execution_count": 5,
   "metadata": {},
   "outputs": [],
   "source": [
    "tech_costs='C://Users//denis//OneDrive//Desktop//Mini grids//pypsa-distribution//costs.csv'"
   ]
  },
  {
   "cell_type": "code",
   "execution_count": 6,
   "metadata": {},
   "outputs": [],
   "source": [
    "def load_costs(tech_costs, config, elec_config, Nyears=1):\n",
    "    \"\"\"\n",
    "    set all asset costs and other parameters\n",
    "    \"\"\"\n",
    "    costs = pd.read_csv(tech_costs, index_col=list(range(3))).sort_index()\n",
    "\n",
    "    # correct units to MW and EUR\n",
    "    costs.loc[costs.unit.str.contains(\"/kW\"), \"value\"] *= 1e3\n",
    "    costs.loc[costs.unit.str.contains(\"USD\"), \"value\"] *= config[\"USD2013_to_EUR2013\"]\n",
    "\n",
    "    costs = (\n",
    "        costs.loc[idx[:, config[\"year\"], :], \"value\"]\n",
    "        .unstack(level=2)\n",
    "        .groupby(\"technology\")\n",
    "        .sum(min_count=1)\n",
    "    )\n",
    "\n",
    "    costs = costs.fillna(\n",
    "        {\n",
    "            \"CO2 intensity\": 0,\n",
    "            \"FOM\": 0,\n",
    "            \"VOM\": 0,\n",
    "            \"discount rate\": config[\"discountrate\"],\n",
    "            \"efficiency\": 1,\n",
    "            \"fuel\": 0,\n",
    "            \"investment\": 0,\n",
    "            \"lifetime\": 25,\n",
    "        }\n",
    "    )\n",
    "\n",
    "    costs[\"capital_cost\"] = (\n",
    "        (\n",
    "            calculate_annuity(costs[\"lifetime\"], costs[\"discount rate\"])\n",
    "            + costs[\"FOM\"] / 100.0\n",
    "        )\n",
    "        * costs[\"investment\"]\n",
    "        * Nyears\n",
    "    )\n",
    "\n",
    "    costs.at[\"OCGT\", \"fuel\"] = costs.at[\"gas\", \"fuel\"]\n",
    "    costs.at[\"CCGT\", \"fuel\"] = costs.at[\"gas\", \"fuel\"]\n",
    "\n",
    "    costs[\"marginal_cost\"] = costs[\"VOM\"] + costs[\"fuel\"] / costs[\"efficiency\"]\n",
    "\n",
    "    costs = costs.rename(columns={\"CO2 intensity\": \"co2_emissions\"})\n",
    "\n",
    "    costs.at[\"OCGT\", \"co2_emissions\"] = costs.at[\"gas\", \"co2_emissions\"]\n",
    "    costs.at[\"CCGT\", \"co2_emissions\"] = costs.at[\"gas\", \"co2_emissions\"]\n",
    "\n",
    "    costs.at[\"solar\", \"capital_cost\"] = 0.5 * (\n",
    "        costs.at[\"solar-rooftop\", \"capital_cost\"]\n",
    "        + costs.at[\"solar-utility\", \"capital_cost\"]\n",
    "    )\n",
    "\n",
    "    def costs_for_storage(store, link1, link2=None, max_hours=1.0):\n",
    "        capital_cost = link1[\"capital_cost\"] + max_hours * store[\"capital_cost\"]\n",
    "        if link2 is not None:\n",
    "            capital_cost += link2[\"capital_cost\"]\n",
    "        return pd.Series(\n",
    "            dict(capital_cost=capital_cost, marginal_cost=0.0, co2_emissions=0.0)\n",
    "        )\n",
    "\n",
    "    max_hours = elec_config[\"max_hours\"]\n",
    "    costs.loc[\"battery\"] = costs_for_storage(\n",
    "        costs.loc[\"battery storage\"],\n",
    "        costs.loc[\"battery inverter\"],\n",
    "        max_hours=max_hours[\"battery\"],\n",
    "    )\n",
    "    costs.loc[\"H2\"] = costs_for_storage(\n",
    "        costs.loc[\"hydrogen storage\"],\n",
    "        costs.loc[\"fuel cell\"],\n",
    "        costs.loc[\"electrolysis\"],\n",
    "        max_hours=max_hours[\"H2\"],\n",
    "    )\n",
    "\n",
    "    for attr in (\"marginal_cost\", \"capital_cost\"):\n",
    "        overwrites = config.get(attr)\n",
    "        if overwrites is not None:\n",
    "            overwrites = pd.Series(overwrites)\n",
    "            costs.loc[overwrites.index, attr] = overwrites\n",
    "\n",
    "    return costs"
   ]
  },
  {
   "cell_type": "code",
   "execution_count": 7,
   "metadata": {},
   "outputs": [],
   "source": [
    "costs = load_costs(\n",
    "    tech_costs,\n",
    "    config[\"costs\"],\n",
    "    config[\"electricity\"],\n",
    "    Nyears,\n",
    "    )"
   ]
  },
  {
   "cell_type": "code",
   "execution_count": 8,
   "metadata": {},
   "outputs": [],
   "source": [
    "def attach_wind_and_solar(n, costs, technologies, extendable_carriers):\n",
    "    \n",
    "    for tech in technologies:\n",
    "        \n",
    "        # with xr.open_dataset(technologies_path[tech]) as ds:\n",
    "        with xr.open_dataset(f\"renewable_profiles/profile_{tech}.nc\") as ds:\n",
    "            \n",
    "            if ds.indexes[\"bus\"].empty:\n",
    "                continue   \n",
    "\n",
    "            suptech = tech.split(\"-\", 2)[0]\n",
    "            \n",
    "            n.madd(\n",
    "            \"Generator\",\n",
    "            ds.indexes[\"bus\"],\n",
    "            \" \" + tech,\n",
    "            bus=\"onebus\",\n",
    "            carrier=tech,\n",
    "            p_nom_extendable=tech in extendable_carriers[\"Generator\"],\n",
    "            p_nom_max=ds[\"p_nom_max\"].to_pandas(), #guardare il config \n",
    "            weight=ds[\"weight\"].to_pandas(),\n",
    "            marginal_cost=costs.at[suptech, \"marginal_cost\"],\n",
    "            capital_cost=costs.at[tech, \"capital_cost\"],\n",
    "            efficiency=costs.at[suptech, \"efficiency\"],\n",
    "            p_set=ds[\"profile\"].transpose(\"time\", \"bus\").to_pandas().reindex(n.snapshots),\n",
    "            p_max_pu=ds[\"profile\"].transpose(\"time\", \"bus\").to_pandas().reindex(n.snapshots),\n",
    "            )\n"
   ]
  },
  {
   "cell_type": "code",
   "execution_count": 9,
   "metadata": {},
   "outputs": [],
   "source": [
    "attach_wind_and_solar(\n",
    "    n,\n",
    "    costs,\n",
    "    config[\"renewable\"],\n",
    "    config[\"electricity\"][\"extendable_carriers\"],\n",
    "    )"
   ]
  },
  {
   "cell_type": "code",
   "execution_count": 10,
   "metadata": {},
   "outputs": [
    {
     "name": "stdout",
     "output_type": "stream",
     "text": [
      "[[90.28691677 87.60412257 71.03497692 ... 62.31508464 50.65385483\n",
      "  11.16498912]\n",
      " [ 6.08077385 25.81477288 26.23714862 ... 94.23153121 71.47537851\n",
      "  15.11983112]\n",
      " [81.47590715 12.47740533 49.07696657 ...  1.35194612 14.53709631\n",
      "  47.97661966]\n",
      " ...\n",
      " [37.4999401  52.68197801 84.01982143 ... 57.14684552 87.2052723\n",
      "   1.42000019]\n",
      " [30.83700116 46.25809517 30.62878024 ... 29.75833261 34.67922151\n",
      "  30.07300162]\n",
      " [27.60903802 70.62149979 54.73348479 ... 57.42573659 15.41433288\n",
      "  10.62434254]]\n"
     ]
    }
   ],
   "source": [
    "\n",
    "#I create the load file\n",
    "import numpy as np\n",
    "p_set=np.random.rand(len(n.snapshots),(10))\n",
    "array=p_set*100\n",
    "\n",
    "print(array)"
   ]
  },
  {
   "cell_type": "code",
   "execution_count": 11,
   "metadata": {},
   "outputs": [],
   "source": [
    "import pandas as pd\n",
    "df=pd.DataFrame(array)\n",
    "\n",
    "filepath = 'my_file.xlsx'\n",
    "\n",
    "df.to_excel(filepath, index=False)\n",
    "\n"
   ]
  },
  {
   "cell_type": "code",
   "execution_count": 12,
   "metadata": {},
   "outputs": [],
   "source": [
    "load_df=pd.read_excel(r'C:\\Users\\denis\\OneDrive\\Desktop\\Mini grids\\pypsa-distribution\\my_file.xlsx')\n",
    "# load_df=load_df.set_index([n.snapshots])\n",
    "# print(load_df)\n"
   ]
  },
  {
   "cell_type": "code",
   "execution_count": 13,
   "metadata": {},
   "outputs": [],
   "source": [
    "def attach_load(n, load_paths):\n",
    "    \n",
    "    for col in load_df:\n",
    "\n",
    "        n.madd(\"Load\", [f\"load{col}\"] , bus=[\"onebus\"], carrier=\"AC\", p_set=load_df[col])\n",
    "\n"
   ]
  },
  {
   "cell_type": "code",
   "execution_count": 14,
   "metadata": {},
   "outputs": [],
   "source": [
    "load_paths=r'C:\\Users\\denis\\OneDrive\\Desktop\\Mini grids\\pypsa-distribution\\my_file.xlsx'"
   ]
  },
  {
   "cell_type": "code",
   "execution_count": 15,
   "metadata": {},
   "outputs": [],
   "source": [
    "attach_load(n, load_paths)"
   ]
  },
  {
   "cell_type": "code",
   "execution_count": 23,
   "metadata": {},
   "outputs": [
    {
     "name": "stdout",
     "output_type": "stream",
     "text": [
      "PyPSA Network\n",
      "Components:\n",
      " - Bus: 1\n",
      " - Generator: 449\n",
      " - Load: 10\n",
      " - SubNetwork: 1\n",
      "Snapshots: 8760\n"
     ]
    }
   ],
   "source": [
    "print(n)"
   ]
  },
  {
   "cell_type": "code",
   "execution_count": 20,
   "metadata": {},
   "outputs": [
    {
     "name": "stderr",
     "output_type": "stream",
     "text": [
      "INFO:pypsa.linopf:Prepare linear problem\n",
      "INFO:pypsa.linopf:Total preparation time: 48.08s\n",
      "INFO:pypsa.linopf:Solve linear problem using Gurobi solver\n"
     ]
    },
    {
     "name": "stdout",
     "output_type": "stream",
     "text": [
      "Set parameter Username\n",
      "Academic license - for non-commercial use only - expires 2023-09-07\n",
      "Read LP format model from file C:\\Users\\denis\\AppData\\Local\\Temp\\pypsa-problem-4xwlsyc9.lp\n",
      "Reading time = 28.36 seconds\n",
      "obj: 7875240 rows, 3933690 columns, 11838308 nonzeros\n",
      "Gurobi Optimizer version 9.5.2 build v9.5.2rc0 (win64)\n",
      "Thread count: 4 physical cores, 8 logical processors, using up to 8 threads\n",
      "Optimize a model with 7875240 rows, 3933690 columns and 11838308 nonzeros\n",
      "Model fingerprint: 0xf06e8be0\n",
      "Coefficient statistics:\n",
      "  Matrix range     [1e-02, 1e+00]\n",
      "  Objective range  [1e-02, 1e+05]\n",
      "  Bounds range     [3e-01, 2e+05]\n",
      "  RHS range        [0e+00, 0e+00]\n",
      "\n",
      "Concurrent LP optimizer: dual simplex and barrier\n",
      "Showing barrier log only...\n",
      "\n",
      "Presolve removed 7836508 rows and 1 columns (presolve time = 7s) ...\n",
      "Presolve removed 7875240 rows and 3933690 columns (presolve time = 11s) ...\n",
      "Presolve removed 7875240 rows and 3933690 columns (presolve time = 16s) ...\n",
      "Presolve removed 7875240 rows and 3933690 columns (presolve time = 22s) ...\n",
      "Presolve removed 7875240 rows and 3933690 columns\n",
      "Presolve time: 24.04s\n",
      "Presolve: All rows and columns removed\n",
      "Iteration    Objective       Primal Inf.    Dual Inf.      Time\n",
      "       0    0.0000000e+00   0.000000e+00   0.000000e+00     89s\n",
      "\n",
      "Solved with dual simplex\n",
      "Solved in 0 iterations and 89.26 seconds (5.50 work units)\n",
      "Optimal objective  0.000000000e+00\n"
     ]
    },
    {
     "name": "stderr",
     "output_type": "stream",
     "text": [
      "INFO:pypsa.linopf:Optimization successful. Objective value: 0.00e+00\n"
     ]
    },
    {
     "data": {
      "text/plain": [
       "('ok', 'optimal')"
      ]
     },
     "execution_count": 20,
     "metadata": {},
     "output_type": "execute_result"
    }
   ],
   "source": [
    "# Optimization\n",
    "from pypsa.linopf import ilopf\n",
    "\n",
    "solver_name=\"gurobi\"\n",
    "\n",
    "n.lopf(n.snapshots, solver_name=solver_name, pyomo=False)"
   ]
  }
 ],
 "metadata": {
  "kernelspec": {
   "display_name": "Python 3.9.13 ('pypsa-earth')",
   "language": "python",
   "name": "python3"
  },
  "language_info": {
   "codemirror_mode": {
    "name": "ipython",
    "version": 3
   },
   "file_extension": ".py",
   "mimetype": "text/x-python",
   "name": "python",
   "nbconvert_exporter": "python",
   "pygments_lexer": "ipython3",
   "version": "3.9.13"
  },
  "orig_nbformat": 4,
  "vscode": {
   "interpreter": {
    "hash": "60686b472709b5af7a580af664912c7edc8daf918109af2ab9a56e9417cd6941"
   }
  }
 },
 "nbformat": 4,
 "nbformat_minor": 2
}
