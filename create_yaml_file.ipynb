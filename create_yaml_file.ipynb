{
 "cells": [
  {
   "cell_type": "code",
   "execution_count": 3,
   "metadata": {},
   "outputs": [
    {
     "data": {
      "text/plain": [
       "dict"
      ]
     },
     "execution_count": 3,
     "metadata": {},
     "output_type": "execute_result"
    }
   ],
   "source": [
    "import yaml\n",
    "\n",
    "data = {\n",
    "    'extendable_carriers': {\n",
    "        'Generator': '[solar, onwind, offwind-ac, offwind-dc, OCGT]',\n",
    "        'StorageUnit': '[]',\n",
    "        'Store': '[battery, H2]' ,\n",
    "        'Link': '[]', # H2 pipeline\n",
    "    }\n",
    "}\n",
    "\n",
    "with open('config.yaml', mode='w') as file:\n",
    "    yaml.dump(data, file, indent=2)\n",
    "type(data)"
   ]
  }
 ],
 "metadata": {
  "kernelspec": {
   "display_name": "Python 3.9.13 ('pypsa-earth')",
   "language": "python",
   "name": "python3"
  },
  "language_info": {
   "codemirror_mode": {
    "name": "ipython",
    "version": 3
   },
   "file_extension": ".py",
   "mimetype": "text/x-python",
   "name": "python",
   "nbconvert_exporter": "python",
   "pygments_lexer": "ipython3",
   "version": "3.9.13"
  },
  "orig_nbformat": 4,
  "vscode": {
   "interpreter": {
    "hash": "60686b472709b5af7a580af664912c7edc8daf918109af2ab9a56e9417cd6941"
   }
  }
 },
 "nbformat": 4,
 "nbformat_minor": 2
}
