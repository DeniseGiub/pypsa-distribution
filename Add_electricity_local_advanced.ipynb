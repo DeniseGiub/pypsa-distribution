{
 "cells": [
  {
   "cell_type": "code",
   "execution_count": 1,
   "metadata": {},
   "outputs": [
    {
     "name": "stderr",
     "output_type": "stream",
     "text": [
      "c:\\Users\\denis\\miniconda3\\envs\\pypsa-earth\\lib\\site-packages\\pypsa\\components.py:374: FutureWarning:\n",
      "\n",
      "iteritems is deprecated and will be removed in a future version. Use .items instead.\n",
      "\n",
      "c:\\Users\\denis\\miniconda3\\envs\\pypsa-earth\\lib\\site-packages\\pypsa\\components.py:374: FutureWarning:\n",
      "\n",
      "iteritems is deprecated and will be removed in a future version. Use .items instead.\n",
      "\n",
      "c:\\Users\\denis\\miniconda3\\envs\\pypsa-earth\\lib\\site-packages\\pypsa\\components.py:374: FutureWarning:\n",
      "\n",
      "iteritems is deprecated and will be removed in a future version. Use .items instead.\n",
      "\n",
      "c:\\Users\\denis\\miniconda3\\envs\\pypsa-earth\\lib\\site-packages\\pypsa\\components.py:374: FutureWarning:\n",
      "\n",
      "iteritems is deprecated and will be removed in a future version. Use .items instead.\n",
      "\n",
      "c:\\Users\\denis\\miniconda3\\envs\\pypsa-earth\\lib\\site-packages\\pypsa\\components.py:374: FutureWarning:\n",
      "\n",
      "iteritems is deprecated and will be removed in a future version. Use .items instead.\n",
      "\n",
      "c:\\Users\\denis\\miniconda3\\envs\\pypsa-earth\\lib\\site-packages\\pypsa\\components.py:374: FutureWarning:\n",
      "\n",
      "iteritems is deprecated and will be removed in a future version. Use .items instead.\n",
      "\n",
      "c:\\Users\\denis\\miniconda3\\envs\\pypsa-earth\\lib\\site-packages\\pypsa\\components.py:374: FutureWarning:\n",
      "\n",
      "iteritems is deprecated and will be removed in a future version. Use .items instead.\n",
      "\n",
      "c:\\Users\\denis\\miniconda3\\envs\\pypsa-earth\\lib\\site-packages\\pypsa\\components.py:374: FutureWarning:\n",
      "\n",
      "iteritems is deprecated and will be removed in a future version. Use .items instead.\n",
      "\n",
      "c:\\Users\\denis\\miniconda3\\envs\\pypsa-earth\\lib\\site-packages\\pypsa\\components.py:374: FutureWarning:\n",
      "\n",
      "iteritems is deprecated and will be removed in a future version. Use .items instead.\n",
      "\n",
      "c:\\Users\\denis\\miniconda3\\envs\\pypsa-earth\\lib\\site-packages\\pypsa\\components.py:374: FutureWarning:\n",
      "\n",
      "iteritems is deprecated and will be removed in a future version. Use .items instead.\n",
      "\n",
      "c:\\Users\\denis\\miniconda3\\envs\\pypsa-earth\\lib\\site-packages\\pypsa\\components.py:374: FutureWarning:\n",
      "\n",
      "iteritems is deprecated and will be removed in a future version. Use .items instead.\n",
      "\n",
      "c:\\Users\\denis\\miniconda3\\envs\\pypsa-earth\\lib\\site-packages\\pypsa\\components.py:374: FutureWarning:\n",
      "\n",
      "iteritems is deprecated and will be removed in a future version. Use .items instead.\n",
      "\n",
      "c:\\Users\\denis\\miniconda3\\envs\\pypsa-earth\\lib\\site-packages\\pypsa\\components.py:374: FutureWarning:\n",
      "\n",
      "iteritems is deprecated and will be removed in a future version. Use .items instead.\n",
      "\n",
      "c:\\Users\\denis\\miniconda3\\envs\\pypsa-earth\\lib\\site-packages\\pypsa\\components.py:374: FutureWarning:\n",
      "\n",
      "iteritems is deprecated and will be removed in a future version. Use .items instead.\n",
      "\n",
      "c:\\Users\\denis\\miniconda3\\envs\\pypsa-earth\\lib\\site-packages\\pypsa\\components.py:485: FutureWarning:\n",
      "\n",
      "iteritems is deprecated and will be removed in a future version. Use .items instead.\n",
      "\n"
     ]
    }
   ],
   "source": [
    "import pypsa\n",
    "import pandas as pd\n",
    "import xarray as xr\n",
    "import matplotlib.pyplot as plt\n",
    "import numpy as np\n",
    "n=pypsa.Network()\n",
    "\n",
    "#Snapshots\n",
    "n.set_snapshots(value=pd.date_range(freq=\"h\", start=\"2013-01-01\", end=\"2014-01-01\", inclusive='left'))\n",
    "n.snapshot_weightings[:] *= 8760.0 / n.snapshot_weightings.sum()\n",
    "Nyears = n.snapshot_weightings.objective.sum() / 8760.0\n",
    "\n",
    "# # Load yaml files\n",
    "import yaml\n",
    "\n",
    "with open(r'config.yaml') as file:\n",
    "        config = yaml.load(file, Loader=yaml.FullLoader)"
   ]
  },
  {
   "cell_type": "code",
   "execution_count": 2,
   "metadata": {},
   "outputs": [
    {
     "data": {
      "text/plain": [
       "Index(['onebus'], dtype='object')"
      ]
     },
     "execution_count": 2,
     "metadata": {},
     "output_type": "execute_result"
    }
   ],
   "source": [
    "#I create the bus, located in the centre of microgrid A (micA)\n",
    "\n",
    "n.madd(\"Bus\", [\"onebus\"], x=config[\"microgrids_list\"][\"micA\"][\"lon\"], y=config[\"microgrids_list\"][\"micA\"][\"lat\"], carrier=\"AC\", v_nom=20)\n",
    "\n"
   ]
  },
  {
   "cell_type": "code",
   "execution_count": 3,
   "metadata": {},
   "outputs": [
    {
     "data": {
      "text/html": [
       "<div>\n",
       "<style scoped>\n",
       "    .dataframe tbody tr th:only-of-type {\n",
       "        vertical-align: middle;\n",
       "    }\n",
       "\n",
       "    .dataframe tbody tr th {\n",
       "        vertical-align: top;\n",
       "    }\n",
       "\n",
       "    .dataframe thead th {\n",
       "        text-align: right;\n",
       "    }\n",
       "</style>\n",
       "<table border=\"1\" class=\"dataframe\">\n",
       "  <thead>\n",
       "    <tr style=\"text-align: right;\">\n",
       "      <th></th>\n",
       "      <th>x</th>\n",
       "      <th>y</th>\n",
       "      <th>carrier</th>\n",
       "      <th>v_nom</th>\n",
       "      <th>type</th>\n",
       "      <th>unit</th>\n",
       "      <th>v_mag_pu_set</th>\n",
       "      <th>v_mag_pu_min</th>\n",
       "      <th>v_mag_pu_max</th>\n",
       "      <th>control</th>\n",
       "      <th>sub_network</th>\n",
       "    </tr>\n",
       "    <tr>\n",
       "      <th>Bus</th>\n",
       "      <th></th>\n",
       "      <th></th>\n",
       "      <th></th>\n",
       "      <th></th>\n",
       "      <th></th>\n",
       "      <th></th>\n",
       "      <th></th>\n",
       "      <th></th>\n",
       "      <th></th>\n",
       "      <th></th>\n",
       "      <th></th>\n",
       "    </tr>\n",
       "  </thead>\n",
       "  <tbody>\n",
       "    <tr>\n",
       "      <th>onebus</th>\n",
       "      <td>-11.0</td>\n",
       "      <td>7.79</td>\n",
       "      <td>AC</td>\n",
       "      <td>20.0</td>\n",
       "      <td></td>\n",
       "      <td>None</td>\n",
       "      <td>1.0</td>\n",
       "      <td>0.0</td>\n",
       "      <td>inf</td>\n",
       "      <td>PQ</td>\n",
       "      <td></td>\n",
       "    </tr>\n",
       "  </tbody>\n",
       "</table>\n",
       "</div>"
      ],
      "text/plain": [
       "           x     y carrier  v_nom type  unit  v_mag_pu_set  v_mag_pu_min  \\\n",
       "Bus                                                                        \n",
       "onebus -11.0  7.79      AC   20.0       None           1.0           0.0   \n",
       "\n",
       "        v_mag_pu_max control sub_network  \n",
       "Bus                                       \n",
       "onebus           inf      PQ              "
      ]
     },
     "execution_count": 3,
     "metadata": {},
     "output_type": "execute_result"
    }
   ],
   "source": [
    "n.buses"
   ]
  },
  {
   "cell_type": "code",
   "execution_count": 4,
   "metadata": {},
   "outputs": [],
   "source": [
    "#TODO file cost last two lines are completely invended\n",
    "costs=pd.read_csv(r'C:\\Users\\denis\\OneDrive\\Desktop\\Mini grids\\pypsa-distribution\\costs.csv')"
   ]
  },
  {
   "cell_type": "code",
   "execution_count": 5,
   "metadata": {},
   "outputs": [],
   "source": [
    "tech_costs=pd.read_csv(r'C:\\Users\\denis\\OneDrive\\Desktop\\Mini grids\\pypsa-distribution\\costs.csv')\n",
    "\n",
    "idx = pd.IndexSlice\n",
    "\n",
    "def calculate_annuity(n, r):\n",
    "    \"\"\"\n",
    "    Calculate the annuity factor for an asset with lifetime n years and\n",
    "    discount rate of r, e.g. annuity(20, 0.05) * 20 = 1.6\n",
    "    \"\"\"\n",
    "    if isinstance(r, pd.Series):\n",
    "        return pd.Series(1 / n, index=r.index).where(\n",
    "            r == 0, r / (1.0 - 1.0 / (1.0 + r) ** n)\n",
    "        )\n",
    "    elif r > 0:\n",
    "        return r / (1.0 - 1.0 / (1.0 + r) ** n)\n",
    "    else:\n",
    "        return 1 / n"
   ]
  },
  {
   "cell_type": "code",
   "execution_count": 6,
   "metadata": {},
   "outputs": [],
   "source": [
    "def _add_missing_carriers_from_costs(n, costs, carriers):\n",
    "    missing_carriers = pd.Index(carriers).difference(n.carriers.index)\n",
    "    if missing_carriers.empty:\n",
    "        return\n",
    "\n",
    "    emissions_cols = (\n",
    "        costs.columns.to_series().loc[lambda s: s.str.endswith(\"_emissions\")].values\n",
    "    )\n",
    "    suptechs = missing_carriers.str.split(\"-\").str[0]\n",
    "    emissions = costs.loc[suptechs, emissions_cols].fillna(0.0)\n",
    "    emissions.index = missing_carriers"
   ]
  },
  {
   "cell_type": "code",
   "execution_count": 7,
   "metadata": {},
   "outputs": [],
   "source": [
    "tech_costs='C://Users//denis//OneDrive//Desktop//Mini grids//pypsa-distribution//costs.csv'"
   ]
  },
  {
   "cell_type": "code",
   "execution_count": 8,
   "metadata": {},
   "outputs": [],
   "source": [
    "def load_costs(tech_costs, config, elec_config, Nyears=1):\n",
    "    \"\"\"\n",
    "    set all asset costs and other parameters\n",
    "    \"\"\"\n",
    "    costs = pd.read_csv(tech_costs, index_col=list(range(3))).sort_index()\n",
    "\n",
    "    # correct units to MW and EUR\n",
    "    costs.loc[costs.unit.str.contains(\"/kW\"), \"value\"] *= 1e3\n",
    "    costs.loc[costs.unit.str.contains(\"USD\"), \"value\"] *= config[\"USD2013_to_EUR2013\"]\n",
    "\n",
    "    costs = (\n",
    "        costs.loc[idx[:, config[\"year\"], :], \"value\"]\n",
    "        .unstack(level=2)\n",
    "        .groupby(\"technology\")\n",
    "        .sum(min_count=1)\n",
    "    )\n",
    "\n",
    "    costs = costs.fillna(\n",
    "        {\n",
    "            \"CO2 intensity\": 0,\n",
    "            \"FOM\": 0,\n",
    "            \"VOM\": 0,\n",
    "            \"discount rate\": config[\"discountrate\"],\n",
    "            \"efficiency\": 1,\n",
    "            \"fuel\": 0,\n",
    "            \"investment\": 0,\n",
    "            \"lifetime\": 25,\n",
    "        }\n",
    "    )\n",
    "\n",
    "    costs[\"capital_cost\"] = (\n",
    "        (\n",
    "            calculate_annuity(costs[\"lifetime\"], costs[\"discount rate\"])\n",
    "            + costs[\"FOM\"] / 100.0\n",
    "        )\n",
    "        * costs[\"investment\"]\n",
    "        * Nyears\n",
    "    )\n",
    "\n",
    "    costs.at[\"OCGT\", \"fuel\"] = costs.at[\"gas\", \"fuel\"]\n",
    "    costs.at[\"CCGT\", \"fuel\"] = costs.at[\"gas\", \"fuel\"]\n",
    "\n",
    "    costs[\"marginal_cost\"] = costs[\"VOM\"] + costs[\"fuel\"] / costs[\"efficiency\"]\n",
    "\n",
    "    costs = costs.rename(columns={\"CO2 intensity\": \"co2_emissions\"})\n",
    "\n",
    "    costs.at[\"OCGT\", \"co2_emissions\"] = costs.at[\"gas\", \"co2_emissions\"]\n",
    "    costs.at[\"CCGT\", \"co2_emissions\"] = costs.at[\"gas\", \"co2_emissions\"]\n",
    "\n",
    "    costs.at[\"solar\", \"capital_cost\"] = 0.5 * (\n",
    "        costs.at[\"solar-rooftop\", \"capital_cost\"]\n",
    "        + costs.at[\"solar-utility\", \"capital_cost\"]\n",
    "    )\n",
    "\n",
    "    def costs_for_storage(store, link1, link2=None, max_hours=1.0):\n",
    "        capital_cost = link1[\"capital_cost\"] + max_hours * store[\"capital_cost\"]\n",
    "        if link2 is not None:\n",
    "            capital_cost += link2[\"capital_cost\"]\n",
    "        return pd.Series(\n",
    "            dict(capital_cost=capital_cost, marginal_cost=0.0, co2_emissions=0.0)\n",
    "        )\n",
    "    \n",
    "    max_hours = elec_config[\"max_hours\"]           \n",
    "    costs.loc[\"battery\"] = costs_for_storage(                      \n",
    "            costs.loc[\"lithium\"],                            #line 119 in file costs.csv' which was battery storage was modified into lithium (same values left)\n",
    "            costs.loc[\"battery inverter\"],\n",
    "            max_hours=max_hours[\"battery\"],\n",
    "    )\n",
    "    max_hours = elec_config[\"max_hours\"]\n",
    "    costs.loc[\"battery\"] = costs_for_storage(\n",
    "            costs.loc[\"lead acid\"],                          #line 120 in file 'costs.csv' which was battery storage was modified into lithium (same values left)\n",
    "            costs.loc[\"battery inverter\"],\n",
    "            max_hours=max_hours[\"battery\"],\n",
    "    )\n",
    "    \n",
    "    costs.loc[\"H2\"] = costs_for_storage(\n",
    "        costs.loc[\"hydrogen storage\"],\n",
    "        costs.loc[\"fuel cell\"],\n",
    "        costs.loc[\"electrolysis\"],\n",
    "        max_hours=max_hours[\"H2\"],\n",
    "    )\n",
    "\n",
    "    for attr in (\"marginal_cost\", \"capital_cost\"):\n",
    "        overwrites = config.get(attr)\n",
    "        if overwrites is not None:\n",
    "            overwrites = pd.Series(overwrites)\n",
    "            costs.loc[overwrites.index, attr] = overwrites\n",
    "\n",
    "    return costs"
   ]
  },
  {
   "cell_type": "code",
   "execution_count": 9,
   "metadata": {},
   "outputs": [],
   "source": [
    "costs = load_costs(\n",
    "    tech_costs,\n",
    "    config[\"costs\"],\n",
    "    config[\"electricity\"],\n",
    "    Nyears,\n",
    "    )"
   ]
  },
  {
   "cell_type": "code",
   "execution_count": 10,
   "metadata": {},
   "outputs": [],
   "source": [
    "def attach_wind_and_solar(n, costs, tech_modelling, extendable_carriers):\n",
    "\n",
    "    _add_missing_carriers_from_costs(n, costs, tech_modelling)\n",
    "\n",
    "    for tech in tech_modelling:\n",
    "       \n",
    "        with xr.open_dataset(f\"renewable_profiles/profile_{tech}.nc\") as ds:\n",
    "            \n",
    "            if ds.indexes[\"bus\"].empty:\n",
    "                continue   \n",
    "\n",
    "            suptech = tech.split(\"-\", 2)[0]\n",
    "          \n",
    "            n.madd(\n",
    "            \"Generator\",\n",
    "            ds.indexes[\"bus\"],\n",
    "            \" \" + tech,\n",
    "            bus=[\"onebus\"],\n",
    "            carrier=tech,\n",
    "            p_nom_extendable=tech in extendable_carriers[\"Generator\"],\n",
    "            p_nom_max=ds[\"p_nom_max\"].to_pandas(), #look at the config \n",
    "            weight=ds[\"weight\"].to_pandas(),\n",
    "            marginal_cost=costs.at[suptech, \"marginal_cost\"],\n",
    "            capital_cost=costs.at[tech, \"capital_cost\"],\n",
    "            efficiency=costs.at[suptech, \"efficiency\"],\n",
    "            p_set=ds[\"profile\"].transpose(\"time\", \"bus\").to_pandas().reindex(n.snapshots),\n",
    "            p_max_pu=ds[\"profile\"].transpose(\"time\", \"bus\").to_pandas().reindex(n.snapshots),\n",
    "            )\n"
   ]
  },
  {
   "cell_type": "code",
   "execution_count": 11,
   "metadata": {},
   "outputs": [],
   "source": [
    "attach_wind_and_solar(\n",
    "    n,\n",
    "    costs,\n",
    "    config[\"tech_modelling\"][\"general_vre\"],\n",
    "    config[\"electricity\"][\"extendable_carriers\"],\n",
    "    )"
   ]
  },
  {
   "cell_type": "code",
   "execution_count": 12,
   "metadata": {},
   "outputs": [],
   "source": [
    "carrier_dict = {\n",
    "        \"ocgt\": \"OCGT\",\n",
    "        \"ccgt\": \"CCGT\",\n",
    "        \"bioenergy\": \"biomass\",\n",
    "        \"ccgt, thermal\": \"CCGT\",\n",
    "        \"hard coal\": \"coal\",\n",
    "    }\n",
    "\n",
    "ppl_fn=r'C://Users//denis//OneDrive//Desktop//Mini grids//pypsa-distribution//powerplants.csv'\n",
    "ppl=pd.read_csv(ppl_fn, index_col=0, dtype={\"bus\":\"str\"}).rename(columns=str.lower).drop(columns=[\"efficiency\"]).replace({\"carrier\": carrier_dict})"
   ]
  },
  {
   "cell_type": "code",
   "execution_count": 13,
   "metadata": {},
   "outputs": [],
   "source": [
    "\n",
    "# def attach_conventional_generators(n, costs, ppl, tech_modelling, conventional_carriers): \n",
    "    \n",
    "#     _add_missing_carriers_from_costs(n, costs, tech_modelling)\n",
    "#     # carriers = set(conventional_carriers) | set(extendable_carriers[\"Generator\"])\n",
    "\n",
    "#     # ppl = (\n",
    "#     #     ppl.query(\"carrier in @carriers\")\n",
    "#     #     .join(costs, on=\"carrier\", rsuffix=\"_r\")\n",
    "#     #     .rename(index=lambda s: \"C\" + str(s))\n",
    "#     # )\n",
    "#     # ppl[\"efficiency\"] = ppl.efficiency.fillna(ppl.efficiency)\n",
    "\n",
    "#     for tech in tech_modelling:\n",
    "\n",
    "#         n.madd(\n",
    "#         \"Generator\", \n",
    "#         ppl.index,\n",
    "#         \" \" + tech,\n",
    "#         bus=[\"onebus\"],\n",
    "        \n",
    "#     )\n",
    "\n",
    "#         p_nom_min=ppl.p_nom.where(ppl.carrier.isin(conventional_carriers), 0),\n",
    "#         p_nom=ppl.p_nom.where(ppl.carrier.isin(conventional_carriers), 0),\n",
    "#         p_nom_extendable=ppl.carrier.isin(extendable_carriers[\"Generator\"]),\n",
    "#         efficiency=ppl.efficiency,\n",
    "#         marginal_cost=ppl.marginal_cost,\n",
    "#         capital_cost=ppl.capital_cost,\n",
    "#         build_year=ppl.datein.fillna(0).astype(int),\n",
    "#         lifetime=(ppl.dateout - ppl.datein).fillna(np.inf),\n",
    "    "
   ]
  },
  {
   "cell_type": "code",
   "execution_count": 14,
   "metadata": {},
   "outputs": [],
   "source": [
    "# attach_conventional_generators(n, costs, ppl, config[\"tech_modelling\"][\"conv_techs\"], config[\"electricity\"][\"conventional_carriers\"])"
   ]
  },
  {
   "cell_type": "code",
   "execution_count": 15,
   "metadata": {},
   "outputs": [
    {
     "data": {
      "text/html": [
       "<div>\n",
       "<style scoped>\n",
       "    .dataframe tbody tr th:only-of-type {\n",
       "        vertical-align: middle;\n",
       "    }\n",
       "\n",
       "    .dataframe tbody tr th {\n",
       "        vertical-align: top;\n",
       "    }\n",
       "\n",
       "    .dataframe thead th {\n",
       "        text-align: right;\n",
       "    }\n",
       "</style>\n",
       "<table border=\"1\" class=\"dataframe\">\n",
       "  <thead>\n",
       "    <tr style=\"text-align: right;\">\n",
       "      <th>parameter</th>\n",
       "      <th>co2_emissions</th>\n",
       "      <th>FOM</th>\n",
       "      <th>VOM</th>\n",
       "      <th>discount rate</th>\n",
       "      <th>efficiency</th>\n",
       "      <th>fuel</th>\n",
       "      <th>investment</th>\n",
       "      <th>lifetime</th>\n",
       "      <th>capital_cost</th>\n",
       "      <th>marginal_cost</th>\n",
       "    </tr>\n",
       "    <tr>\n",
       "      <th>technology</th>\n",
       "      <th></th>\n",
       "      <th></th>\n",
       "      <th></th>\n",
       "      <th></th>\n",
       "      <th></th>\n",
       "      <th></th>\n",
       "      <th></th>\n",
       "      <th></th>\n",
       "      <th></th>\n",
       "      <th></th>\n",
       "    </tr>\n",
       "  </thead>\n",
       "  <tbody>\n",
       "    <tr>\n",
       "      <th>CCGT</th>\n",
       "      <td>0.187</td>\n",
       "      <td>2.500000</td>\n",
       "      <td>4.00</td>\n",
       "      <td>0.07</td>\n",
       "      <td>0.500</td>\n",
       "      <td>21.6</td>\n",
       "      <td>800000.00</td>\n",
       "      <td>30.0</td>\n",
       "      <td>84469.122809</td>\n",
       "      <td>47.200000</td>\n",
       "    </tr>\n",
       "    <tr>\n",
       "      <th>DAC</th>\n",
       "      <td>0.000</td>\n",
       "      <td>4.000000</td>\n",
       "      <td>0.00</td>\n",
       "      <td>0.07</td>\n",
       "      <td>1.000</td>\n",
       "      <td>0.0</td>\n",
       "      <td>250.00</td>\n",
       "      <td>30.0</td>\n",
       "      <td>30.146601</td>\n",
       "      <td>0.000000</td>\n",
       "    </tr>\n",
       "    <tr>\n",
       "      <th>H2 pipeline</th>\n",
       "      <td>0.000</td>\n",
       "      <td>5.000000</td>\n",
       "      <td>0.00</td>\n",
       "      <td>0.07</td>\n",
       "      <td>0.980</td>\n",
       "      <td>0.0</td>\n",
       "      <td>267.00</td>\n",
       "      <td>40.0</td>\n",
       "      <td>33.377440</td>\n",
       "      <td>0.000000</td>\n",
       "    </tr>\n",
       "    <tr>\n",
       "      <th>HVAC overhead</th>\n",
       "      <td>0.000</td>\n",
       "      <td>2.000000</td>\n",
       "      <td>0.00</td>\n",
       "      <td>0.07</td>\n",
       "      <td>1.000</td>\n",
       "      <td>0.0</td>\n",
       "      <td>400.00</td>\n",
       "      <td>40.0</td>\n",
       "      <td>38.003656</td>\n",
       "      <td>0.000000</td>\n",
       "    </tr>\n",
       "    <tr>\n",
       "      <th>HVDC inverter pair</th>\n",
       "      <td>0.000</td>\n",
       "      <td>2.000000</td>\n",
       "      <td>0.00</td>\n",
       "      <td>0.07</td>\n",
       "      <td>1.000</td>\n",
       "      <td>0.0</td>\n",
       "      <td>150000.00</td>\n",
       "      <td>40.0</td>\n",
       "      <td>14251.370831</td>\n",
       "      <td>0.000000</td>\n",
       "    </tr>\n",
       "    <tr>\n",
       "      <th>HVDC overhead</th>\n",
       "      <td>0.000</td>\n",
       "      <td>2.000000</td>\n",
       "      <td>0.00</td>\n",
       "      <td>0.07</td>\n",
       "      <td>1.000</td>\n",
       "      <td>0.0</td>\n",
       "      <td>400.00</td>\n",
       "      <td>40.0</td>\n",
       "      <td>38.003656</td>\n",
       "      <td>0.000000</td>\n",
       "    </tr>\n",
       "    <tr>\n",
       "      <th>HVDC submarine</th>\n",
       "      <td>0.000</td>\n",
       "      <td>2.000000</td>\n",
       "      <td>0.00</td>\n",
       "      <td>0.07</td>\n",
       "      <td>1.000</td>\n",
       "      <td>0.0</td>\n",
       "      <td>2000.00</td>\n",
       "      <td>40.0</td>\n",
       "      <td>190.018278</td>\n",
       "      <td>0.000000</td>\n",
       "    </tr>\n",
       "    <tr>\n",
       "      <th>OCGT</th>\n",
       "      <td>0.187</td>\n",
       "      <td>3.750000</td>\n",
       "      <td>3.00</td>\n",
       "      <td>0.07</td>\n",
       "      <td>0.390</td>\n",
       "      <td>21.6</td>\n",
       "      <td>400000.00</td>\n",
       "      <td>30.0</td>\n",
       "      <td>47234.561404</td>\n",
       "      <td>58.384615</td>\n",
       "    </tr>\n",
       "    <tr>\n",
       "      <th>PHS</th>\n",
       "      <td>0.000</td>\n",
       "      <td>1.000000</td>\n",
       "      <td>0.00</td>\n",
       "      <td>0.07</td>\n",
       "      <td>0.750</td>\n",
       "      <td>0.0</td>\n",
       "      <td>2000000.00</td>\n",
       "      <td>80.0</td>\n",
       "      <td>160627.143522</td>\n",
       "      <td>0.000000</td>\n",
       "    </tr>\n",
       "    <tr>\n",
       "      <th>battery inverter</th>\n",
       "      <td>0.000</td>\n",
       "      <td>3.000000</td>\n",
       "      <td>0.00</td>\n",
       "      <td>0.07</td>\n",
       "      <td>0.900</td>\n",
       "      <td>0.0</td>\n",
       "      <td>309565.20</td>\n",
       "      <td>20.0</td>\n",
       "      <td>38507.720936</td>\n",
       "      <td>0.000000</td>\n",
       "    </tr>\n",
       "    <tr>\n",
       "      <th>biomass</th>\n",
       "      <td>0.000</td>\n",
       "      <td>4.526935</td>\n",
       "      <td>0.00</td>\n",
       "      <td>0.07</td>\n",
       "      <td>0.468</td>\n",
       "      <td>7.0</td>\n",
       "      <td>2209000.00</td>\n",
       "      <td>30.0</td>\n",
       "      <td>278015.359506</td>\n",
       "      <td>14.957265</td>\n",
       "    </tr>\n",
       "    <tr>\n",
       "      <th>central CHP</th>\n",
       "      <td>0.000</td>\n",
       "      <td>3.000000</td>\n",
       "      <td>0.00</td>\n",
       "      <td>0.07</td>\n",
       "      <td>1.000</td>\n",
       "      <td>0.0</td>\n",
       "      <td>650000.00</td>\n",
       "      <td>25.0</td>\n",
       "      <td>75276.836193</td>\n",
       "      <td>0.000000</td>\n",
       "    </tr>\n",
       "    <tr>\n",
       "      <th>central air-sourced heat pump</th>\n",
       "      <td>0.000</td>\n",
       "      <td>3.500000</td>\n",
       "      <td>0.00</td>\n",
       "      <td>0.07</td>\n",
       "      <td>3.000</td>\n",
       "      <td>0.0</td>\n",
       "      <td>700000.00</td>\n",
       "      <td>20.0</td>\n",
       "      <td>90575.048020</td>\n",
       "      <td>0.000000</td>\n",
       "    </tr>\n",
       "    <tr>\n",
       "      <th>central gas boiler</th>\n",
       "      <td>0.000</td>\n",
       "      <td>1.000000</td>\n",
       "      <td>0.00</td>\n",
       "      <td>0.07</td>\n",
       "      <td>0.900</td>\n",
       "      <td>0.0</td>\n",
       "      <td>63000.00</td>\n",
       "      <td>22.0</td>\n",
       "      <td>6325.563713</td>\n",
       "      <td>0.000000</td>\n",
       "    </tr>\n",
       "    <tr>\n",
       "      <th>central resistive heater</th>\n",
       "      <td>0.000</td>\n",
       "      <td>2.000000</td>\n",
       "      <td>0.00</td>\n",
       "      <td>0.07</td>\n",
       "      <td>0.900</td>\n",
       "      <td>0.0</td>\n",
       "      <td>100000.00</td>\n",
       "      <td>20.0</td>\n",
       "      <td>11439.292574</td>\n",
       "      <td>0.000000</td>\n",
       "    </tr>\n",
       "    <tr>\n",
       "      <th>central solar thermal</th>\n",
       "      <td>0.000</td>\n",
       "      <td>1.400000</td>\n",
       "      <td>0.00</td>\n",
       "      <td>0.07</td>\n",
       "      <td>1.000</td>\n",
       "      <td>0.0</td>\n",
       "      <td>140000.00</td>\n",
       "      <td>20.0</td>\n",
       "      <td>15175.009604</td>\n",
       "      <td>0.000000</td>\n",
       "    </tr>\n",
       "    <tr>\n",
       "      <th>central water tank storage</th>\n",
       "      <td>0.000</td>\n",
       "      <td>1.000000</td>\n",
       "      <td>0.00</td>\n",
       "      <td>0.07</td>\n",
       "      <td>1.000</td>\n",
       "      <td>0.0</td>\n",
       "      <td>30.00</td>\n",
       "      <td>40.0</td>\n",
       "      <td>2.550274</td>\n",
       "      <td>0.000000</td>\n",
       "    </tr>\n",
       "    <tr>\n",
       "      <th>coal</th>\n",
       "      <td>0.354</td>\n",
       "      <td>1.923076</td>\n",
       "      <td>6.00</td>\n",
       "      <td>0.07</td>\n",
       "      <td>0.464</td>\n",
       "      <td>8.4</td>\n",
       "      <td>1300000.00</td>\n",
       "      <td>40.0</td>\n",
       "      <td>122511.868536</td>\n",
       "      <td>24.103448</td>\n",
       "    </tr>\n",
       "    <tr>\n",
       "      <th>decentral CHP</th>\n",
       "      <td>0.000</td>\n",
       "      <td>3.000000</td>\n",
       "      <td>0.00</td>\n",
       "      <td>0.04</td>\n",
       "      <td>1.000</td>\n",
       "      <td>0.0</td>\n",
       "      <td>1400000.00</td>\n",
       "      <td>25.0</td>\n",
       "      <td>131616.747901</td>\n",
       "      <td>0.000000</td>\n",
       "    </tr>\n",
       "    <tr>\n",
       "      <th>decentral air-sourced heat pump</th>\n",
       "      <td>0.000</td>\n",
       "      <td>3.500000</td>\n",
       "      <td>0.00</td>\n",
       "      <td>0.04</td>\n",
       "      <td>3.000</td>\n",
       "      <td>0.0</td>\n",
       "      <td>1050000.00</td>\n",
       "      <td>20.0</td>\n",
       "      <td>114010.837845</td>\n",
       "      <td>0.000000</td>\n",
       "    </tr>\n",
       "    <tr>\n",
       "      <th>decentral gas boiler</th>\n",
       "      <td>0.000</td>\n",
       "      <td>2.000000</td>\n",
       "      <td>0.00</td>\n",
       "      <td>0.04</td>\n",
       "      <td>0.900</td>\n",
       "      <td>0.0</td>\n",
       "      <td>175000.00</td>\n",
       "      <td>20.0</td>\n",
       "      <td>16376.806308</td>\n",
       "      <td>0.000000</td>\n",
       "    </tr>\n",
       "    <tr>\n",
       "      <th>decentral ground-sourced heat pump</th>\n",
       "      <td>0.000</td>\n",
       "      <td>3.500000</td>\n",
       "      <td>0.00</td>\n",
       "      <td>0.04</td>\n",
       "      <td>4.000</td>\n",
       "      <td>0.0</td>\n",
       "      <td>1400000.00</td>\n",
       "      <td>20.0</td>\n",
       "      <td>152014.450460</td>\n",
       "      <td>0.000000</td>\n",
       "    </tr>\n",
       "    <tr>\n",
       "      <th>decentral resistive heater</th>\n",
       "      <td>0.000</td>\n",
       "      <td>2.000000</td>\n",
       "      <td>0.00</td>\n",
       "      <td>0.04</td>\n",
       "      <td>0.900</td>\n",
       "      <td>0.0</td>\n",
       "      <td>100000.00</td>\n",
       "      <td>20.0</td>\n",
       "      <td>9358.175033</td>\n",
       "      <td>0.000000</td>\n",
       "    </tr>\n",
       "    <tr>\n",
       "      <th>decentral solar thermal</th>\n",
       "      <td>0.000</td>\n",
       "      <td>1.300000</td>\n",
       "      <td>0.00</td>\n",
       "      <td>0.04</td>\n",
       "      <td>1.000</td>\n",
       "      <td>0.0</td>\n",
       "      <td>270000.00</td>\n",
       "      <td>20.0</td>\n",
       "      <td>23377.072589</td>\n",
       "      <td>0.000000</td>\n",
       "    </tr>\n",
       "    <tr>\n",
       "      <th>decentral water tank storage</th>\n",
       "      <td>0.000</td>\n",
       "      <td>1.000000</td>\n",
       "      <td>0.00</td>\n",
       "      <td>0.04</td>\n",
       "      <td>1.000</td>\n",
       "      <td>0.0</td>\n",
       "      <td>860.00</td>\n",
       "      <td>20.0</td>\n",
       "      <td>71.880305</td>\n",
       "      <td>0.000000</td>\n",
       "    </tr>\n",
       "    <tr>\n",
       "      <th>electrolysis</th>\n",
       "      <td>0.000</td>\n",
       "      <td>4.000000</td>\n",
       "      <td>0.00</td>\n",
       "      <td>0.07</td>\n",
       "      <td>0.800</td>\n",
       "      <td>0.0</td>\n",
       "      <td>350000.00</td>\n",
       "      <td>18.0</td>\n",
       "      <td>48794.410580</td>\n",
       "      <td>0.000000</td>\n",
       "    </tr>\n",
       "    <tr>\n",
       "      <th>fuel cell</th>\n",
       "      <td>0.000</td>\n",
       "      <td>3.000000</td>\n",
       "      <td>0.00</td>\n",
       "      <td>0.07</td>\n",
       "      <td>0.580</td>\n",
       "      <td>0.0</td>\n",
       "      <td>339000.00</td>\n",
       "      <td>20.0</td>\n",
       "      <td>42169.201827</td>\n",
       "      <td>0.000000</td>\n",
       "    </tr>\n",
       "    <tr>\n",
       "      <th>gas</th>\n",
       "      <td>0.187</td>\n",
       "      <td>0.000000</td>\n",
       "      <td>0.00</td>\n",
       "      <td>0.07</td>\n",
       "      <td>1.000</td>\n",
       "      <td>21.6</td>\n",
       "      <td>0.00</td>\n",
       "      <td>25.0</td>\n",
       "      <td>0.000000</td>\n",
       "      <td>21.600000</td>\n",
       "    </tr>\n",
       "    <tr>\n",
       "      <th>geothermal</th>\n",
       "      <td>0.026</td>\n",
       "      <td>2.358491</td>\n",
       "      <td>0.00</td>\n",
       "      <td>0.07</td>\n",
       "      <td>0.239</td>\n",
       "      <td>0.0</td>\n",
       "      <td>3392000.00</td>\n",
       "      <td>40.0</td>\n",
       "      <td>334431.013779</td>\n",
       "      <td>0.000000</td>\n",
       "    </tr>\n",
       "    <tr>\n",
       "      <th>helmeth</th>\n",
       "      <td>0.000</td>\n",
       "      <td>3.000000</td>\n",
       "      <td>0.00</td>\n",
       "      <td>0.07</td>\n",
       "      <td>0.800</td>\n",
       "      <td>0.0</td>\n",
       "      <td>1000000.00</td>\n",
       "      <td>25.0</td>\n",
       "      <td>115810.517221</td>\n",
       "      <td>0.000000</td>\n",
       "    </tr>\n",
       "    <tr>\n",
       "      <th>hydro</th>\n",
       "      <td>0.000</td>\n",
       "      <td>1.000000</td>\n",
       "      <td>0.00</td>\n",
       "      <td>0.07</td>\n",
       "      <td>0.900</td>\n",
       "      <td>0.0</td>\n",
       "      <td>2000000.00</td>\n",
       "      <td>80.0</td>\n",
       "      <td>160627.143522</td>\n",
       "      <td>0.000000</td>\n",
       "    </tr>\n",
       "    <tr>\n",
       "      <th>hydrogen storage</th>\n",
       "      <td>0.000</td>\n",
       "      <td>0.000000</td>\n",
       "      <td>0.00</td>\n",
       "      <td>0.07</td>\n",
       "      <td>1.000</td>\n",
       "      <td>0.0</td>\n",
       "      <td>8435.84</td>\n",
       "      <td>20.0</td>\n",
       "      <td>796.283619</td>\n",
       "      <td>0.000000</td>\n",
       "    </tr>\n",
       "    <tr>\n",
       "      <th>hydrogen underground storage</th>\n",
       "      <td>0.000</td>\n",
       "      <td>0.000000</td>\n",
       "      <td>0.00</td>\n",
       "      <td>0.07</td>\n",
       "      <td>1.000</td>\n",
       "      <td>0.0</td>\n",
       "      <td>500.00</td>\n",
       "      <td>40.0</td>\n",
       "      <td>37.504569</td>\n",
       "      <td>0.000000</td>\n",
       "    </tr>\n",
       "    <tr>\n",
       "      <th>lead acid</th>\n",
       "      <td>0.000</td>\n",
       "      <td>0.000000</td>\n",
       "      <td>0.00</td>\n",
       "      <td>0.07</td>\n",
       "      <td>1.000</td>\n",
       "      <td>0.0</td>\n",
       "      <td>0.00</td>\n",
       "      <td>15.0</td>\n",
       "      <td>0.000000</td>\n",
       "      <td>0.000000</td>\n",
       "    </tr>\n",
       "    <tr>\n",
       "      <th>lignite</th>\n",
       "      <td>0.334</td>\n",
       "      <td>2.000000</td>\n",
       "      <td>7.00</td>\n",
       "      <td>0.07</td>\n",
       "      <td>0.447</td>\n",
       "      <td>2.9</td>\n",
       "      <td>1500000.00</td>\n",
       "      <td>40.0</td>\n",
       "      <td>142513.708310</td>\n",
       "      <td>13.487696</td>\n",
       "    </tr>\n",
       "    <tr>\n",
       "      <th>lithium</th>\n",
       "      <td>0.000</td>\n",
       "      <td>0.000000</td>\n",
       "      <td>0.00</td>\n",
       "      <td>0.07</td>\n",
       "      <td>1.000</td>\n",
       "      <td>0.0</td>\n",
       "      <td>144614.40</td>\n",
       "      <td>25.0</td>\n",
       "      <td>12409.436462</td>\n",
       "      <td>0.000000</td>\n",
       "    </tr>\n",
       "    <tr>\n",
       "      <th>methanation</th>\n",
       "      <td>0.000</td>\n",
       "      <td>3.000000</td>\n",
       "      <td>0.00</td>\n",
       "      <td>0.07</td>\n",
       "      <td>0.600</td>\n",
       "      <td>0.0</td>\n",
       "      <td>1000000.00</td>\n",
       "      <td>25.0</td>\n",
       "      <td>115810.517221</td>\n",
       "      <td>0.000000</td>\n",
       "    </tr>\n",
       "    <tr>\n",
       "      <th>nuclear</th>\n",
       "      <td>0.000</td>\n",
       "      <td>0.000000</td>\n",
       "      <td>8.00</td>\n",
       "      <td>0.07</td>\n",
       "      <td>0.337</td>\n",
       "      <td>3.0</td>\n",
       "      <td>6000000.00</td>\n",
       "      <td>45.0</td>\n",
       "      <td>440997.425969</td>\n",
       "      <td>16.902077</td>\n",
       "    </tr>\n",
       "    <tr>\n",
       "      <th>offwind</th>\n",
       "      <td>0.000</td>\n",
       "      <td>2.304878</td>\n",
       "      <td>2.70</td>\n",
       "      <td>0.07</td>\n",
       "      <td>1.000</td>\n",
       "      <td>0.0</td>\n",
       "      <td>1640000.00</td>\n",
       "      <td>30.0</td>\n",
       "      <td>169961.700958</td>\n",
       "      <td>0.015000</td>\n",
       "    </tr>\n",
       "    <tr>\n",
       "      <th>offwind-ac-connection-submarine</th>\n",
       "      <td>0.000</td>\n",
       "      <td>0.000000</td>\n",
       "      <td>0.00</td>\n",
       "      <td>0.07</td>\n",
       "      <td>1.000</td>\n",
       "      <td>0.0</td>\n",
       "      <td>2685.00</td>\n",
       "      <td>25.0</td>\n",
       "      <td>230.401239</td>\n",
       "      <td>0.000000</td>\n",
       "    </tr>\n",
       "    <tr>\n",
       "      <th>offwind-ac-connection-underground</th>\n",
       "      <td>0.000</td>\n",
       "      <td>0.000000</td>\n",
       "      <td>0.00</td>\n",
       "      <td>0.07</td>\n",
       "      <td>1.000</td>\n",
       "      <td>0.0</td>\n",
       "      <td>1342.00</td>\n",
       "      <td>25.0</td>\n",
       "      <td>115.157714</td>\n",
       "      <td>0.000000</td>\n",
       "    </tr>\n",
       "    <tr>\n",
       "      <th>offwind-ac-station</th>\n",
       "      <td>0.000</td>\n",
       "      <td>0.000000</td>\n",
       "      <td>0.00</td>\n",
       "      <td>0.07</td>\n",
       "      <td>1.000</td>\n",
       "      <td>0.0</td>\n",
       "      <td>250000.00</td>\n",
       "      <td>25.0</td>\n",
       "      <td>21452.629305</td>\n",
       "      <td>0.000000</td>\n",
       "    </tr>\n",
       "    <tr>\n",
       "      <th>offwind-dc-connection-submarine</th>\n",
       "      <td>0.000</td>\n",
       "      <td>0.000000</td>\n",
       "      <td>0.00</td>\n",
       "      <td>0.07</td>\n",
       "      <td>1.000</td>\n",
       "      <td>0.0</td>\n",
       "      <td>2000.00</td>\n",
       "      <td>25.0</td>\n",
       "      <td>171.621034</td>\n",
       "      <td>0.000000</td>\n",
       "    </tr>\n",
       "    <tr>\n",
       "      <th>offwind-dc-connection-underground</th>\n",
       "      <td>0.000</td>\n",
       "      <td>0.000000</td>\n",
       "      <td>0.00</td>\n",
       "      <td>0.07</td>\n",
       "      <td>1.000</td>\n",
       "      <td>0.0</td>\n",
       "      <td>1000.00</td>\n",
       "      <td>25.0</td>\n",
       "      <td>85.810517</td>\n",
       "      <td>0.000000</td>\n",
       "    </tr>\n",
       "    <tr>\n",
       "      <th>offwind-dc-station</th>\n",
       "      <td>0.000</td>\n",
       "      <td>0.000000</td>\n",
       "      <td>0.00</td>\n",
       "      <td>0.07</td>\n",
       "      <td>1.000</td>\n",
       "      <td>0.0</td>\n",
       "      <td>400000.00</td>\n",
       "      <td>25.0</td>\n",
       "      <td>34324.206888</td>\n",
       "      <td>0.000000</td>\n",
       "    </tr>\n",
       "    <tr>\n",
       "      <th>oil</th>\n",
       "      <td>0.248</td>\n",
       "      <td>1.500000</td>\n",
       "      <td>3.00</td>\n",
       "      <td>0.07</td>\n",
       "      <td>0.393</td>\n",
       "      <td>50.0</td>\n",
       "      <td>400000.00</td>\n",
       "      <td>30.0</td>\n",
       "      <td>38234.561404</td>\n",
       "      <td>130.226463</td>\n",
       "    </tr>\n",
       "    <tr>\n",
       "      <th>onwind</th>\n",
       "      <td>0.000</td>\n",
       "      <td>2.450549</td>\n",
       "      <td>2.30</td>\n",
       "      <td>0.07</td>\n",
       "      <td>1.000</td>\n",
       "      <td>0.0</td>\n",
       "      <td>1040000.00</td>\n",
       "      <td>30.0</td>\n",
       "      <td>109295.569252</td>\n",
       "      <td>0.015000</td>\n",
       "    </tr>\n",
       "    <tr>\n",
       "      <th>retrofitting I</th>\n",
       "      <td>0.000</td>\n",
       "      <td>1.000000</td>\n",
       "      <td>0.00</td>\n",
       "      <td>0.04</td>\n",
       "      <td>1.000</td>\n",
       "      <td>0.0</td>\n",
       "      <td>50.00</td>\n",
       "      <td>50.0</td>\n",
       "      <td>2.827510</td>\n",
       "      <td>0.000000</td>\n",
       "    </tr>\n",
       "    <tr>\n",
       "      <th>retrofitting II</th>\n",
       "      <td>0.000</td>\n",
       "      <td>1.000000</td>\n",
       "      <td>0.00</td>\n",
       "      <td>0.04</td>\n",
       "      <td>1.000</td>\n",
       "      <td>0.0</td>\n",
       "      <td>250.00</td>\n",
       "      <td>50.0</td>\n",
       "      <td>14.137550</td>\n",
       "      <td>0.000000</td>\n",
       "    </tr>\n",
       "    <tr>\n",
       "      <th>ror</th>\n",
       "      <td>0.000</td>\n",
       "      <td>2.000000</td>\n",
       "      <td>0.00</td>\n",
       "      <td>0.07</td>\n",
       "      <td>0.900</td>\n",
       "      <td>0.0</td>\n",
       "      <td>3000000.00</td>\n",
       "      <td>80.0</td>\n",
       "      <td>270940.715283</td>\n",
       "      <td>0.000000</td>\n",
       "    </tr>\n",
       "    <tr>\n",
       "      <th>solar</th>\n",
       "      <td>0.000</td>\n",
       "      <td>4.166667</td>\n",
       "      <td>0.01</td>\n",
       "      <td>0.07</td>\n",
       "      <td>1.000</td>\n",
       "      <td>0.0</td>\n",
       "      <td>600000.00</td>\n",
       "      <td>25.0</td>\n",
       "      <td>55064.071419</td>\n",
       "      <td>0.010000</td>\n",
       "    </tr>\n",
       "    <tr>\n",
       "      <th>solar-rooftop</th>\n",
       "      <td>0.000</td>\n",
       "      <td>2.000000</td>\n",
       "      <td>0.00</td>\n",
       "      <td>0.04</td>\n",
       "      <td>1.000</td>\n",
       "      <td>0.0</td>\n",
       "      <td>725000.00</td>\n",
       "      <td>25.0</td>\n",
       "      <td>60908.673020</td>\n",
       "      <td>0.000000</td>\n",
       "    </tr>\n",
       "    <tr>\n",
       "      <th>solar-utility</th>\n",
       "      <td>0.000</td>\n",
       "      <td>3.000000</td>\n",
       "      <td>0.00</td>\n",
       "      <td>0.07</td>\n",
       "      <td>1.000</td>\n",
       "      <td>0.0</td>\n",
       "      <td>425000.00</td>\n",
       "      <td>25.0</td>\n",
       "      <td>49219.469819</td>\n",
       "      <td>0.000000</td>\n",
       "    </tr>\n",
       "    <tr>\n",
       "      <th>uranium</th>\n",
       "      <td>0.000</td>\n",
       "      <td>0.000000</td>\n",
       "      <td>0.00</td>\n",
       "      <td>0.07</td>\n",
       "      <td>1.000</td>\n",
       "      <td>3.0</td>\n",
       "      <td>0.00</td>\n",
       "      <td>25.0</td>\n",
       "      <td>0.000000</td>\n",
       "      <td>3.000000</td>\n",
       "    </tr>\n",
       "    <tr>\n",
       "      <th>water tank charger</th>\n",
       "      <td>0.000</td>\n",
       "      <td>0.000000</td>\n",
       "      <td>0.00</td>\n",
       "      <td>0.07</td>\n",
       "      <td>0.900</td>\n",
       "      <td>0.0</td>\n",
       "      <td>0.00</td>\n",
       "      <td>25.0</td>\n",
       "      <td>0.000000</td>\n",
       "      <td>0.000000</td>\n",
       "    </tr>\n",
       "    <tr>\n",
       "      <th>water tank discharger</th>\n",
       "      <td>0.000</td>\n",
       "      <td>0.000000</td>\n",
       "      <td>0.00</td>\n",
       "      <td>0.07</td>\n",
       "      <td>0.900</td>\n",
       "      <td>0.0</td>\n",
       "      <td>0.00</td>\n",
       "      <td>25.0</td>\n",
       "      <td>0.000000</td>\n",
       "      <td>0.000000</td>\n",
       "    </tr>\n",
       "    <tr>\n",
       "      <th>battery</th>\n",
       "      <td>0.000</td>\n",
       "      <td>NaN</td>\n",
       "      <td>NaN</td>\n",
       "      <td>NaN</td>\n",
       "      <td>NaN</td>\n",
       "      <td>NaN</td>\n",
       "      <td>NaN</td>\n",
       "      <td>NaN</td>\n",
       "      <td>38507.720936</td>\n",
       "      <td>0.000000</td>\n",
       "    </tr>\n",
       "    <tr>\n",
       "      <th>H2</th>\n",
       "      <td>0.000</td>\n",
       "      <td>NaN</td>\n",
       "      <td>NaN</td>\n",
       "      <td>NaN</td>\n",
       "      <td>NaN</td>\n",
       "      <td>NaN</td>\n",
       "      <td>NaN</td>\n",
       "      <td>NaN</td>\n",
       "      <td>224739.260349</td>\n",
       "      <td>0.000000</td>\n",
       "    </tr>\n",
       "  </tbody>\n",
       "</table>\n",
       "</div>"
      ],
      "text/plain": [
       "parameter                           co2_emissions       FOM   VOM  \\\n",
       "technology                                                          \n",
       "CCGT                                        0.187  2.500000  4.00   \n",
       "DAC                                         0.000  4.000000  0.00   \n",
       "H2 pipeline                                 0.000  5.000000  0.00   \n",
       "HVAC overhead                               0.000  2.000000  0.00   \n",
       "HVDC inverter pair                          0.000  2.000000  0.00   \n",
       "HVDC overhead                               0.000  2.000000  0.00   \n",
       "HVDC submarine                              0.000  2.000000  0.00   \n",
       "OCGT                                        0.187  3.750000  3.00   \n",
       "PHS                                         0.000  1.000000  0.00   \n",
       "battery inverter                            0.000  3.000000  0.00   \n",
       "biomass                                     0.000  4.526935  0.00   \n",
       "central CHP                                 0.000  3.000000  0.00   \n",
       "central air-sourced heat pump               0.000  3.500000  0.00   \n",
       "central gas boiler                          0.000  1.000000  0.00   \n",
       "central resistive heater                    0.000  2.000000  0.00   \n",
       "central solar thermal                       0.000  1.400000  0.00   \n",
       "central water tank storage                  0.000  1.000000  0.00   \n",
       "coal                                        0.354  1.923076  6.00   \n",
       "decentral CHP                               0.000  3.000000  0.00   \n",
       "decentral air-sourced heat pump             0.000  3.500000  0.00   \n",
       "decentral gas boiler                        0.000  2.000000  0.00   \n",
       "decentral ground-sourced heat pump          0.000  3.500000  0.00   \n",
       "decentral resistive heater                  0.000  2.000000  0.00   \n",
       "decentral solar thermal                     0.000  1.300000  0.00   \n",
       "decentral water tank storage                0.000  1.000000  0.00   \n",
       "electrolysis                                0.000  4.000000  0.00   \n",
       "fuel cell                                   0.000  3.000000  0.00   \n",
       "gas                                         0.187  0.000000  0.00   \n",
       "geothermal                                  0.026  2.358491  0.00   \n",
       "helmeth                                     0.000  3.000000  0.00   \n",
       "hydro                                       0.000  1.000000  0.00   \n",
       "hydrogen storage                            0.000  0.000000  0.00   \n",
       "hydrogen underground storage                0.000  0.000000  0.00   \n",
       "lead acid                                   0.000  0.000000  0.00   \n",
       "lignite                                     0.334  2.000000  7.00   \n",
       "lithium                                     0.000  0.000000  0.00   \n",
       "methanation                                 0.000  3.000000  0.00   \n",
       "nuclear                                     0.000  0.000000  8.00   \n",
       "offwind                                     0.000  2.304878  2.70   \n",
       "offwind-ac-connection-submarine             0.000  0.000000  0.00   \n",
       "offwind-ac-connection-underground           0.000  0.000000  0.00   \n",
       "offwind-ac-station                          0.000  0.000000  0.00   \n",
       "offwind-dc-connection-submarine             0.000  0.000000  0.00   \n",
       "offwind-dc-connection-underground           0.000  0.000000  0.00   \n",
       "offwind-dc-station                          0.000  0.000000  0.00   \n",
       "oil                                         0.248  1.500000  3.00   \n",
       "onwind                                      0.000  2.450549  2.30   \n",
       "retrofitting I                              0.000  1.000000  0.00   \n",
       "retrofitting II                             0.000  1.000000  0.00   \n",
       "ror                                         0.000  2.000000  0.00   \n",
       "solar                                       0.000  4.166667  0.01   \n",
       "solar-rooftop                               0.000  2.000000  0.00   \n",
       "solar-utility                               0.000  3.000000  0.00   \n",
       "uranium                                     0.000  0.000000  0.00   \n",
       "water tank charger                          0.000  0.000000  0.00   \n",
       "water tank discharger                       0.000  0.000000  0.00   \n",
       "battery                                     0.000       NaN   NaN   \n",
       "H2                                          0.000       NaN   NaN   \n",
       "\n",
       "parameter                           discount rate  efficiency  fuel  \\\n",
       "technology                                                            \n",
       "CCGT                                         0.07       0.500  21.6   \n",
       "DAC                                          0.07       1.000   0.0   \n",
       "H2 pipeline                                  0.07       0.980   0.0   \n",
       "HVAC overhead                                0.07       1.000   0.0   \n",
       "HVDC inverter pair                           0.07       1.000   0.0   \n",
       "HVDC overhead                                0.07       1.000   0.0   \n",
       "HVDC submarine                               0.07       1.000   0.0   \n",
       "OCGT                                         0.07       0.390  21.6   \n",
       "PHS                                          0.07       0.750   0.0   \n",
       "battery inverter                             0.07       0.900   0.0   \n",
       "biomass                                      0.07       0.468   7.0   \n",
       "central CHP                                  0.07       1.000   0.0   \n",
       "central air-sourced heat pump                0.07       3.000   0.0   \n",
       "central gas boiler                           0.07       0.900   0.0   \n",
       "central resistive heater                     0.07       0.900   0.0   \n",
       "central solar thermal                        0.07       1.000   0.0   \n",
       "central water tank storage                   0.07       1.000   0.0   \n",
       "coal                                         0.07       0.464   8.4   \n",
       "decentral CHP                                0.04       1.000   0.0   \n",
       "decentral air-sourced heat pump              0.04       3.000   0.0   \n",
       "decentral gas boiler                         0.04       0.900   0.0   \n",
       "decentral ground-sourced heat pump           0.04       4.000   0.0   \n",
       "decentral resistive heater                   0.04       0.900   0.0   \n",
       "decentral solar thermal                      0.04       1.000   0.0   \n",
       "decentral water tank storage                 0.04       1.000   0.0   \n",
       "electrolysis                                 0.07       0.800   0.0   \n",
       "fuel cell                                    0.07       0.580   0.0   \n",
       "gas                                          0.07       1.000  21.6   \n",
       "geothermal                                   0.07       0.239   0.0   \n",
       "helmeth                                      0.07       0.800   0.0   \n",
       "hydro                                        0.07       0.900   0.0   \n",
       "hydrogen storage                             0.07       1.000   0.0   \n",
       "hydrogen underground storage                 0.07       1.000   0.0   \n",
       "lead acid                                    0.07       1.000   0.0   \n",
       "lignite                                      0.07       0.447   2.9   \n",
       "lithium                                      0.07       1.000   0.0   \n",
       "methanation                                  0.07       0.600   0.0   \n",
       "nuclear                                      0.07       0.337   3.0   \n",
       "offwind                                      0.07       1.000   0.0   \n",
       "offwind-ac-connection-submarine              0.07       1.000   0.0   \n",
       "offwind-ac-connection-underground            0.07       1.000   0.0   \n",
       "offwind-ac-station                           0.07       1.000   0.0   \n",
       "offwind-dc-connection-submarine              0.07       1.000   0.0   \n",
       "offwind-dc-connection-underground            0.07       1.000   0.0   \n",
       "offwind-dc-station                           0.07       1.000   0.0   \n",
       "oil                                          0.07       0.393  50.0   \n",
       "onwind                                       0.07       1.000   0.0   \n",
       "retrofitting I                               0.04       1.000   0.0   \n",
       "retrofitting II                              0.04       1.000   0.0   \n",
       "ror                                          0.07       0.900   0.0   \n",
       "solar                                        0.07       1.000   0.0   \n",
       "solar-rooftop                                0.04       1.000   0.0   \n",
       "solar-utility                                0.07       1.000   0.0   \n",
       "uranium                                      0.07       1.000   3.0   \n",
       "water tank charger                           0.07       0.900   0.0   \n",
       "water tank discharger                        0.07       0.900   0.0   \n",
       "battery                                       NaN         NaN   NaN   \n",
       "H2                                            NaN         NaN   NaN   \n",
       "\n",
       "parameter                           investment  lifetime   capital_cost  \\\n",
       "technology                                                                \n",
       "CCGT                                 800000.00      30.0   84469.122809   \n",
       "DAC                                     250.00      30.0      30.146601   \n",
       "H2 pipeline                             267.00      40.0      33.377440   \n",
       "HVAC overhead                           400.00      40.0      38.003656   \n",
       "HVDC inverter pair                   150000.00      40.0   14251.370831   \n",
       "HVDC overhead                           400.00      40.0      38.003656   \n",
       "HVDC submarine                         2000.00      40.0     190.018278   \n",
       "OCGT                                 400000.00      30.0   47234.561404   \n",
       "PHS                                 2000000.00      80.0  160627.143522   \n",
       "battery inverter                     309565.20      20.0   38507.720936   \n",
       "biomass                             2209000.00      30.0  278015.359506   \n",
       "central CHP                          650000.00      25.0   75276.836193   \n",
       "central air-sourced heat pump        700000.00      20.0   90575.048020   \n",
       "central gas boiler                    63000.00      22.0    6325.563713   \n",
       "central resistive heater             100000.00      20.0   11439.292574   \n",
       "central solar thermal                140000.00      20.0   15175.009604   \n",
       "central water tank storage               30.00      40.0       2.550274   \n",
       "coal                                1300000.00      40.0  122511.868536   \n",
       "decentral CHP                       1400000.00      25.0  131616.747901   \n",
       "decentral air-sourced heat pump     1050000.00      20.0  114010.837845   \n",
       "decentral gas boiler                 175000.00      20.0   16376.806308   \n",
       "decentral ground-sourced heat pump  1400000.00      20.0  152014.450460   \n",
       "decentral resistive heater           100000.00      20.0    9358.175033   \n",
       "decentral solar thermal              270000.00      20.0   23377.072589   \n",
       "decentral water tank storage            860.00      20.0      71.880305   \n",
       "electrolysis                         350000.00      18.0   48794.410580   \n",
       "fuel cell                            339000.00      20.0   42169.201827   \n",
       "gas                                       0.00      25.0       0.000000   \n",
       "geothermal                          3392000.00      40.0  334431.013779   \n",
       "helmeth                             1000000.00      25.0  115810.517221   \n",
       "hydro                               2000000.00      80.0  160627.143522   \n",
       "hydrogen storage                       8435.84      20.0     796.283619   \n",
       "hydrogen underground storage            500.00      40.0      37.504569   \n",
       "lead acid                                 0.00      15.0       0.000000   \n",
       "lignite                             1500000.00      40.0  142513.708310   \n",
       "lithium                              144614.40      25.0   12409.436462   \n",
       "methanation                         1000000.00      25.0  115810.517221   \n",
       "nuclear                             6000000.00      45.0  440997.425969   \n",
       "offwind                             1640000.00      30.0  169961.700958   \n",
       "offwind-ac-connection-submarine        2685.00      25.0     230.401239   \n",
       "offwind-ac-connection-underground      1342.00      25.0     115.157714   \n",
       "offwind-ac-station                   250000.00      25.0   21452.629305   \n",
       "offwind-dc-connection-submarine        2000.00      25.0     171.621034   \n",
       "offwind-dc-connection-underground      1000.00      25.0      85.810517   \n",
       "offwind-dc-station                   400000.00      25.0   34324.206888   \n",
       "oil                                  400000.00      30.0   38234.561404   \n",
       "onwind                              1040000.00      30.0  109295.569252   \n",
       "retrofitting I                           50.00      50.0       2.827510   \n",
       "retrofitting II                         250.00      50.0      14.137550   \n",
       "ror                                 3000000.00      80.0  270940.715283   \n",
       "solar                                600000.00      25.0   55064.071419   \n",
       "solar-rooftop                        725000.00      25.0   60908.673020   \n",
       "solar-utility                        425000.00      25.0   49219.469819   \n",
       "uranium                                   0.00      25.0       0.000000   \n",
       "water tank charger                        0.00      25.0       0.000000   \n",
       "water tank discharger                     0.00      25.0       0.000000   \n",
       "battery                                    NaN       NaN   38507.720936   \n",
       "H2                                         NaN       NaN  224739.260349   \n",
       "\n",
       "parameter                           marginal_cost  \n",
       "technology                                         \n",
       "CCGT                                    47.200000  \n",
       "DAC                                      0.000000  \n",
       "H2 pipeline                              0.000000  \n",
       "HVAC overhead                            0.000000  \n",
       "HVDC inverter pair                       0.000000  \n",
       "HVDC overhead                            0.000000  \n",
       "HVDC submarine                           0.000000  \n",
       "OCGT                                    58.384615  \n",
       "PHS                                      0.000000  \n",
       "battery inverter                         0.000000  \n",
       "biomass                                 14.957265  \n",
       "central CHP                              0.000000  \n",
       "central air-sourced heat pump            0.000000  \n",
       "central gas boiler                       0.000000  \n",
       "central resistive heater                 0.000000  \n",
       "central solar thermal                    0.000000  \n",
       "central water tank storage               0.000000  \n",
       "coal                                    24.103448  \n",
       "decentral CHP                            0.000000  \n",
       "decentral air-sourced heat pump          0.000000  \n",
       "decentral gas boiler                     0.000000  \n",
       "decentral ground-sourced heat pump       0.000000  \n",
       "decentral resistive heater               0.000000  \n",
       "decentral solar thermal                  0.000000  \n",
       "decentral water tank storage             0.000000  \n",
       "electrolysis                             0.000000  \n",
       "fuel cell                                0.000000  \n",
       "gas                                     21.600000  \n",
       "geothermal                               0.000000  \n",
       "helmeth                                  0.000000  \n",
       "hydro                                    0.000000  \n",
       "hydrogen storage                         0.000000  \n",
       "hydrogen underground storage             0.000000  \n",
       "lead acid                                0.000000  \n",
       "lignite                                 13.487696  \n",
       "lithium                                  0.000000  \n",
       "methanation                              0.000000  \n",
       "nuclear                                 16.902077  \n",
       "offwind                                  0.015000  \n",
       "offwind-ac-connection-submarine          0.000000  \n",
       "offwind-ac-connection-underground        0.000000  \n",
       "offwind-ac-station                       0.000000  \n",
       "offwind-dc-connection-submarine          0.000000  \n",
       "offwind-dc-connection-underground        0.000000  \n",
       "offwind-dc-station                       0.000000  \n",
       "oil                                    130.226463  \n",
       "onwind                                   0.015000  \n",
       "retrofitting I                           0.000000  \n",
       "retrofitting II                          0.000000  \n",
       "ror                                      0.000000  \n",
       "solar                                    0.010000  \n",
       "solar-rooftop                            0.000000  \n",
       "solar-utility                            0.000000  \n",
       "uranium                                  3.000000  \n",
       "water tank charger                       0.000000  \n",
       "water tank discharger                    0.000000  \n",
       "battery                                  0.000000  \n",
       "H2                                       0.000000  "
      ]
     },
     "execution_count": 15,
     "metadata": {},
     "output_type": "execute_result"
    }
   ],
   "source": [
    "costs"
   ]
  },
  {
   "cell_type": "code",
   "execution_count": 16,
   "metadata": {},
   "outputs": [],
   "source": [
    "def attach_storageunits(n, costs,technologies, extendable_carriers ):\n",
    "\n",
    "    buses_i = n.buses.index\n",
    "\n",
    "    for tech in technologies:\n",
    "        \n",
    "        n.madd(\n",
    "            \"StorageUnit\",\n",
    "            buses_i, \n",
    "            \" \" + tech, \n",
    "            bus=[\"onebus\"],\n",
    "            carrier=tech,\n",
    "            p_nom_extendable=True,\n",
    "            capital_cost=costs.at[tech, \"capital_cost\"],\n",
    "            marginal_cost=costs.at[tech, \"marginal_cost\"],\n",
    "            # efficiency_store=costs.at[lookup_store[tech], \"efficiency\"],\n",
    "            # efficiency_dispatch=costs.at[lookup_dispatch[tech], \"efficiency\"],\n",
    "            # max_hours=max_hours[tech],\n",
    "            cyclic_state_of_charge=True\n",
    "            \n",
    "        )"
   ]
  },
  {
   "cell_type": "code",
   "execution_count": 17,
   "metadata": {},
   "outputs": [],
   "source": [
    "attach_storageunits(n, \n",
    "                    costs,\n",
    "                    config[\"tech_modelling\"][\"storage_techs\"],\n",
    "                    config[\"electricity\"][\"extendable_carriers\"],\n",
    "                    )"
   ]
  },
  {
   "cell_type": "code",
   "execution_count": 18,
   "metadata": {},
   "outputs": [
    {
     "data": {
      "text/html": [
       "<div>\n",
       "<style scoped>\n",
       "    .dataframe tbody tr th:only-of-type {\n",
       "        vertical-align: middle;\n",
       "    }\n",
       "\n",
       "    .dataframe tbody tr th {\n",
       "        vertical-align: top;\n",
       "    }\n",
       "\n",
       "    .dataframe thead th {\n",
       "        text-align: right;\n",
       "    }\n",
       "</style>\n",
       "<table border=\"1\" class=\"dataframe\">\n",
       "  <thead>\n",
       "    <tr style=\"text-align: right;\">\n",
       "      <th></th>\n",
       "      <th>bus</th>\n",
       "      <th>carrier</th>\n",
       "      <th>p_nom_extendable</th>\n",
       "      <th>capital_cost</th>\n",
       "      <th>marginal_cost</th>\n",
       "      <th>cyclic_state_of_charge</th>\n",
       "      <th>control</th>\n",
       "      <th>type</th>\n",
       "      <th>p_nom</th>\n",
       "      <th>p_nom_min</th>\n",
       "      <th>...</th>\n",
       "      <th>state_of_charge_initial</th>\n",
       "      <th>state_of_charge_initial_per_period</th>\n",
       "      <th>state_of_charge_set</th>\n",
       "      <th>cyclic_state_of_charge_per_period</th>\n",
       "      <th>max_hours</th>\n",
       "      <th>efficiency_store</th>\n",
       "      <th>efficiency_dispatch</th>\n",
       "      <th>standing_loss</th>\n",
       "      <th>inflow</th>\n",
       "      <th>p_nom_opt</th>\n",
       "    </tr>\n",
       "    <tr>\n",
       "      <th>StorageUnit</th>\n",
       "      <th></th>\n",
       "      <th></th>\n",
       "      <th></th>\n",
       "      <th></th>\n",
       "      <th></th>\n",
       "      <th></th>\n",
       "      <th></th>\n",
       "      <th></th>\n",
       "      <th></th>\n",
       "      <th></th>\n",
       "      <th></th>\n",
       "      <th></th>\n",
       "      <th></th>\n",
       "      <th></th>\n",
       "      <th></th>\n",
       "      <th></th>\n",
       "      <th></th>\n",
       "      <th></th>\n",
       "      <th></th>\n",
       "      <th></th>\n",
       "      <th></th>\n",
       "    </tr>\n",
       "  </thead>\n",
       "  <tbody>\n",
       "    <tr>\n",
       "      <th>onebus lithium</th>\n",
       "      <td>onebus</td>\n",
       "      <td>lithium</td>\n",
       "      <td>True</td>\n",
       "      <td>12409.436462</td>\n",
       "      <td>0.0</td>\n",
       "      <td>True</td>\n",
       "      <td>PQ</td>\n",
       "      <td></td>\n",
       "      <td>0.0</td>\n",
       "      <td>0.0</td>\n",
       "      <td>...</td>\n",
       "      <td>0.0</td>\n",
       "      <td>False</td>\n",
       "      <td>NaN</td>\n",
       "      <td>True</td>\n",
       "      <td>1.0</td>\n",
       "      <td>1.0</td>\n",
       "      <td>1.0</td>\n",
       "      <td>0.0</td>\n",
       "      <td>0.0</td>\n",
       "      <td>0.0</td>\n",
       "    </tr>\n",
       "    <tr>\n",
       "      <th>onebus lead acid</th>\n",
       "      <td>onebus</td>\n",
       "      <td>lead acid</td>\n",
       "      <td>True</td>\n",
       "      <td>0.000000</td>\n",
       "      <td>0.0</td>\n",
       "      <td>True</td>\n",
       "      <td>PQ</td>\n",
       "      <td></td>\n",
       "      <td>0.0</td>\n",
       "      <td>0.0</td>\n",
       "      <td>...</td>\n",
       "      <td>0.0</td>\n",
       "      <td>False</td>\n",
       "      <td>NaN</td>\n",
       "      <td>True</td>\n",
       "      <td>1.0</td>\n",
       "      <td>1.0</td>\n",
       "      <td>1.0</td>\n",
       "      <td>0.0</td>\n",
       "      <td>0.0</td>\n",
       "      <td>0.0</td>\n",
       "    </tr>\n",
       "  </tbody>\n",
       "</table>\n",
       "<p>2 rows × 28 columns</p>\n",
       "</div>"
      ],
      "text/plain": [
       "                     bus    carrier  p_nom_extendable  capital_cost  \\\n",
       "StorageUnit                                                           \n",
       "onebus lithium    onebus    lithium              True  12409.436462   \n",
       "onebus lead acid  onebus  lead acid              True      0.000000   \n",
       "\n",
       "                  marginal_cost  cyclic_state_of_charge control type  p_nom  \\\n",
       "StorageUnit                                                                   \n",
       "onebus lithium              0.0                    True      PQ         0.0   \n",
       "onebus lead acid            0.0                    True      PQ         0.0   \n",
       "\n",
       "                  p_nom_min  ...  state_of_charge_initial  \\\n",
       "StorageUnit                  ...                            \n",
       "onebus lithium          0.0  ...                      0.0   \n",
       "onebus lead acid        0.0  ...                      0.0   \n",
       "\n",
       "                  state_of_charge_initial_per_period  state_of_charge_set  \\\n",
       "StorageUnit                                                                 \n",
       "onebus lithium                                 False                  NaN   \n",
       "onebus lead acid                               False                  NaN   \n",
       "\n",
       "                  cyclic_state_of_charge_per_period  max_hours  \\\n",
       "StorageUnit                                                      \n",
       "onebus lithium                                 True        1.0   \n",
       "onebus lead acid                               True        1.0   \n",
       "\n",
       "                  efficiency_store  efficiency_dispatch  standing_loss  \\\n",
       "StorageUnit                                                              \n",
       "onebus lithium                 1.0                  1.0            0.0   \n",
       "onebus lead acid               1.0                  1.0            0.0   \n",
       "\n",
       "                  inflow  p_nom_opt  \n",
       "StorageUnit                          \n",
       "onebus lithium       0.0        0.0  \n",
       "onebus lead acid     0.0        0.0  \n",
       "\n",
       "[2 rows x 28 columns]"
      ]
     },
     "execution_count": 18,
     "metadata": {},
     "output_type": "execute_result"
    }
   ],
   "source": [
    "n.storage_units"
   ]
  },
  {
   "cell_type": "code",
   "execution_count": 19,
   "metadata": {},
   "outputs": [],
   "source": [
    "\n",
    "#I create the load file\n",
    "n_load=35 #number of loads\n",
    "import numpy as np\n",
    "p_set=np.random.rand(len(n.snapshots),(n_load))\n",
    "array=p_set*100"
   ]
  },
  {
   "cell_type": "code",
   "execution_count": 20,
   "metadata": {},
   "outputs": [],
   "source": [
    "import pandas as pd\n",
    "df=pd.DataFrame(array)\n",
    "\n",
    "filepath = 'my_file.xlsx'\n",
    "\n",
    "df.to_excel(filepath, index=False)\n",
    "\n"
   ]
  },
  {
   "cell_type": "code",
   "execution_count": 21,
   "metadata": {},
   "outputs": [],
   "source": [
    "load_df=pd.read_excel(r'C:\\Users\\denis\\OneDrive\\Desktop\\Mini grids\\pypsa-distribution\\my_file.xlsx')\n"
   ]
  },
  {
   "cell_type": "code",
   "execution_count": 22,
   "metadata": {},
   "outputs": [
    {
     "name": "stdout",
     "output_type": "stream",
     "text": [
      "                            0          1          2          3          4   \\\n",
      "time                                                                         \n",
      "2013-01-01 00:00:00  57.849071  45.012814   4.306191  12.382052  68.517598   \n",
      "2013-01-01 01:00:00   9.033144  53.191132  32.576215  61.018027  47.241453   \n",
      "2013-01-01 02:00:00  92.060275  23.480198  18.464337  79.538492  50.556028   \n",
      "2013-01-01 03:00:00  79.730794  67.126397  33.887341  37.132733  55.762610   \n",
      "2013-01-01 04:00:00  90.162514  37.282270  57.430062  70.719452  68.003586   \n",
      "...                        ...        ...        ...        ...        ...   \n",
      "2013-12-31 19:00:00  73.218344  71.856909  62.877667   1.602657  88.970540   \n",
      "2013-12-31 20:00:00  50.681903  95.772856  29.401597  39.083835  82.010374   \n",
      "2013-12-31 21:00:00  60.783035  55.503999  52.327541  47.621780  34.334074   \n",
      "2013-12-31 22:00:00  42.186553  65.399222  72.382217  92.857410  19.375049   \n",
      "2013-12-31 23:00:00  22.423107  61.354973  38.081671  82.318723  97.090216   \n",
      "\n",
      "                            5          6          7          8          9   \\\n",
      "time                                                                         \n",
      "2013-01-01 00:00:00  86.911706  74.362400  75.699117   3.064631  67.501528   \n",
      "2013-01-01 01:00:00  36.502550  11.855285  69.931428  65.040191  65.044674   \n",
      "2013-01-01 02:00:00  50.226316  12.436182  38.505335  33.615698  20.632585   \n",
      "2013-01-01 03:00:00  21.179223  93.781994  89.188872  49.335043  21.692618   \n",
      "2013-01-01 04:00:00  33.990021   5.208862  25.860443   8.238300  59.222684   \n",
      "...                        ...        ...        ...        ...        ...   \n",
      "2013-12-31 19:00:00  72.057233   4.667502  29.144115  50.967067  96.700613   \n",
      "2013-12-31 20:00:00  79.138007  41.329061  92.199540  69.368078  65.295751   \n",
      "2013-12-31 21:00:00  94.403737  67.114627  94.598472  51.259640  67.619561   \n",
      "2013-12-31 22:00:00  22.635845  71.943720  58.384322  86.758112  67.761943   \n",
      "2013-12-31 23:00:00  33.171260  51.215862   0.590763  38.541297  53.166216   \n",
      "\n",
      "                     ...         25         26         27         28  \\\n",
      "time                 ...                                               \n",
      "2013-01-01 00:00:00  ...  58.721603   5.165062  78.334173  75.780605   \n",
      "2013-01-01 01:00:00  ...  77.345984  52.434635  82.375637  30.837379   \n",
      "2013-01-01 02:00:00  ...  66.611090  82.891623  26.921143  72.615322   \n",
      "2013-01-01 03:00:00  ...  98.307776   1.540694  85.043389  23.734378   \n",
      "2013-01-01 04:00:00  ...  24.543308  35.073992  37.379408  91.210721   \n",
      "...                  ...        ...        ...        ...        ...   \n",
      "2013-12-31 19:00:00  ...   7.565526  36.629479  22.292083  81.951859   \n",
      "2013-12-31 20:00:00  ...  92.060810  53.387890  19.649582  67.989006   \n",
      "2013-12-31 21:00:00  ...  73.753470  79.135450  26.577779  37.466071   \n",
      "2013-12-31 22:00:00  ...  51.101019  55.364216  84.811708  73.918025   \n",
      "2013-12-31 23:00:00  ...  95.075745  98.671423  39.800656  95.005903   \n",
      "\n",
      "                            29         30         31         32         33  \\\n",
      "time                                                                         \n",
      "2013-01-01 00:00:00  24.301197  12.438151  65.666215  57.648799   0.439348   \n",
      "2013-01-01 01:00:00  36.277771  34.763092  47.087659  36.171501  78.497427   \n",
      "2013-01-01 02:00:00  36.676457  79.328630   6.794286  31.563179  64.787800   \n",
      "2013-01-01 03:00:00  62.546188  12.619578  70.818030  33.788417  57.037632   \n",
      "2013-01-01 04:00:00  28.860938   8.914454  15.408903  47.334665  97.164944   \n",
      "...                        ...        ...        ...        ...        ...   \n",
      "2013-12-31 19:00:00  83.390387  99.852777  89.445202  31.678715  18.720508   \n",
      "2013-12-31 20:00:00  72.079852  84.858264  50.050664  96.092556  22.763418   \n",
      "2013-12-31 21:00:00  19.343143  54.962653   6.853789  27.201691  45.176105   \n",
      "2013-12-31 22:00:00  26.781392  13.135758  20.104226  17.480823  48.682774   \n",
      "2013-12-31 23:00:00  25.003677  68.450274  45.020835  96.153430  36.691540   \n",
      "\n",
      "                            34  \n",
      "time                            \n",
      "2013-01-01 00:00:00  85.288013  \n",
      "2013-01-01 01:00:00  45.711836  \n",
      "2013-01-01 02:00:00   7.372775  \n",
      "2013-01-01 03:00:00  98.229701  \n",
      "2013-01-01 04:00:00  35.498306  \n",
      "...                        ...  \n",
      "2013-12-31 19:00:00  68.897302  \n",
      "2013-12-31 20:00:00  24.510092  \n",
      "2013-12-31 21:00:00  78.256667  \n",
      "2013-12-31 22:00:00  90.881096  \n",
      "2013-12-31 23:00:00  45.064825  \n",
      "\n",
      "[8760 rows x 35 columns]\n"
     ]
    }
   ],
   "source": [
    "\n",
    "load_df=load_df.set_index([n.snapshots])\n",
    "load_df.index.names=['time']\n",
    "print(load_df)"
   ]
  },
  {
   "cell_type": "code",
   "execution_count": 23,
   "metadata": {},
   "outputs": [
    {
     "data": {
      "text/plain": [
       "pandas.core.indexes.numeric.Int64Index"
      ]
     },
     "execution_count": 23,
     "metadata": {},
     "output_type": "execute_result"
    }
   ],
   "source": [
    "index=pd.Index( list(range(n_load)))\n",
    "type(index)"
   ]
  },
  {
   "cell_type": "code",
   "execution_count": 24,
   "metadata": {},
   "outputs": [],
   "source": [
    "def attach_load(n, load_paths, index, load_df, tech_modelling):\n",
    "    \n",
    "    n.madd(\"Load\", index ,bus=[\"onebus\"], carrier=\"AC\", p_set=load_df)\n",
    "\n",
    "\n"
   ]
  },
  {
   "cell_type": "code",
   "execution_count": 25,
   "metadata": {},
   "outputs": [],
   "source": [
    "load_paths=r'C:\\Users\\denis\\OneDrive\\Desktop\\Mini grids\\pypsa-distribution\\my_file.xlsx'"
   ]
  },
  {
   "cell_type": "code",
   "execution_count": 26,
   "metadata": {},
   "outputs": [],
   "source": [
    "attach_load(n, load_paths, index, load_df, config[\"tech_modelling\"][\"load_carriers\"])"
   ]
  },
  {
   "cell_type": "code",
   "execution_count": 27,
   "metadata": {},
   "outputs": [
    {
     "name": "stdout",
     "output_type": "stream",
     "text": [
      "PyPSA Network\n",
      "Components:\n",
      " - Bus: 1\n",
      " - Generator: 105\n",
      " - Load: 35\n",
      " - StorageUnit: 2\n",
      "Snapshots: 8760\n"
     ]
    }
   ],
   "source": [
    "print(n)"
   ]
  },
  {
   "cell_type": "code",
   "execution_count": 28,
   "metadata": {},
   "outputs": [
    {
     "name": "stderr",
     "output_type": "stream",
     "text": [
      "INFO:pypsa.linopf:Prepare linear problem\n",
      "INFO:pypsa.linopf:Total preparation time: 7.76s\n",
      "INFO:pypsa.linopf:Solve linear problem using Gurobi solver\n"
     ]
    },
    {
     "name": "stdout",
     "output_type": "stream",
     "text": [
      "Set parameter Username\n",
      "Academic license - for non-commercial use only - expires 2023-09-07\n",
      "Read LP format model from file C:\\Users\\denis\\AppData\\Local\\Temp\\pypsa-problem-ukf19u3d.lp\n",
      "Reading time = 4.32 seconds\n",
      "obj: 1971000 rows, 972468 columns, 3032023 nonzeros\n",
      "Gurobi Optimizer version 9.5.2 build v9.5.2rc0 (win64)\n",
      "Thread count: 4 physical cores, 8 logical processors, using up to 8 threads\n",
      "Optimize a model with 1971000 rows, 972468 columns and 3032023 nonzeros\n",
      "Model fingerprint: 0xed78055a\n",
      "Coefficient statistics:\n",
      "  Matrix range     [1e-02, 1e+00]\n",
      "  Objective range  [1e-02, 1e+05]\n",
      "  Bounds range     [4e+00, 2e+05]\n",
      "  RHS range        [1e+03, 2e+03]\n",
      "\n",
      "Concurrent LP optimizer: dual simplex and barrier\n",
      "Showing barrier log only...\n",
      "\n",
      "Presolve removed 1917377 rows and 927499 columns\n",
      "Presolve time: 1.34s\n",
      "Presolved: 53623 rows, 44969 columns, 152109 nonzeros\n",
      "\n",
      "Ordering time: 0.08s\n",
      "\n",
      "Barrier statistics:\n",
      " Dense cols : 49\n",
      " AA' NZ     : 2.637e+05\n",
      " Factor NZ  : 9.286e+05 (roughly 50 MB of memory)\n",
      " Factor Ops : 5.690e+07 (less than 1 second per iteration)\n",
      " Threads    : 3\n",
      "\n",
      "                  Objective                Residual\n",
      "Iter       Primal          Dual         Primal    Dual     Compl     Time\n",
      "   0   4.68956326e+14 -1.66039006e+11  1.36e+09 2.21e+03  4.30e+12     2s\n",
      "   1   5.73529094e+14 -1.22549319e+13  9.64e+08 5.33e+04  1.68e+12     2s\n",
      "   2   8.48366348e+13 -1.51931716e+13  1.49e+08 2.83e+04  6.76e+11     2s\n",
      "   3   1.70705286e+13 -1.41956497e+13  2.92e+07 1.02e+04  2.36e+11     2s\n",
      "   4   2.31683278e+12 -1.35126147e+13  2.81e+06 4.87e+03  1.09e+11     2s\n",
      "   5   1.31375451e+12 -1.28104377e+13  9.44e+05 2.89e+03  6.47e+10     2s\n",
      "   6   8.22132195e+11 -1.51307138e+13  1.28e+05 5.32e+02  1.23e+10     2s\n",
      "   7   7.66165814e+11 -2.50082812e+12  3.82e+04 1.81e+01  4.67e+08     2s\n",
      "   8   7.16263802e+11 -9.78725543e+11  7.37e+02 4.85e+00  1.30e+08     2s\n",
      "   9   6.36368686e+11 -3.05162232e+11  6.27e+01 1.23e+00  3.88e+07     2s\n",
      "  10   4.92785911e+11 -1.22587477e+11  4.87e+00 4.85e-01  1.67e+07     2s\n",
      "  11   4.13250532e+11 -7.04807136e+10  2.91e+00 3.00e-01  1.09e+07     2s\n",
      "  12   2.77226643e+11 -1.68784508e+10  9.47e-01 1.29e-01  5.20e+06     2s\n",
      "  13   1.16554225e+11  6.97720644e+09  5.48e-02 6.33e-02  1.77e+06     3s\n",
      "  14   4.76972815e+10  1.98509606e+10  9.00e-04 2.79e-02  4.60e+05     3s\n",
      "  15   3.68846346e+10  2.47712051e+10  8.99e-04 1.40e-02  2.03e+05     3s\n",
      "  16   3.33120910e+10  2.64410811e+10  9.92e-04 8.87e-03  1.18e+05     3s\n",
      "  17   2.98344084e+10  2.77340967e+10  1.45e-03 4.79e-03  4.37e+04     3s\n",
      "  18   2.93226974e+10  2.83560799e+10  1.45e-03 2.77e-03  2.22e+04     3s\n",
      "  19   2.91980655e+10  2.88590065e+10  1.36e-03 1.02e-03  8.00e+03     3s\n",
      "  20   2.91651856e+10  2.90184532e+10  8.20e-04 4.67e-04  3.57e+03     3s\n",
      "  21   2.91545745e+10  2.91012660e+10  4.92e-04 1.73e-04  1.31e+03     3s\n",
      "  22   2.91505118e+10  2.91345137e+10  3.78e-04 5.49e-05  4.02e+02     3s\n",
      "  23   2.91502237e+10  2.91395504e+10  1.89e-04 3.72e-05  2.68e+02     3s\n",
      "  24   2.91500547e+10  2.91489317e+10  1.10e-07 3.71e-06  2.49e+01     3s\n",
      "  25   2.91497604e+10  2.91497553e+10  5.74e-08 1.21e-08  7.44e-02     3s\n",
      "  26   2.91497561e+10  2.91497561e+10  2.01e-08 3.77e-10  7.44e-05     4s\n",
      "  27   2.91497561e+10  2.91497561e+10  1.42e-08 6.54e-10  7.44e-08     4s\n",
      "  28   2.91497561e+10  2.91497561e+10  1.62e-08 1.78e-10  7.44e-11     4s\n",
      "\n",
      "Barrier solved model in 28 iterations and 3.68 seconds (1.70 work units)\n",
      "Optimal objective 2.91497561e+10\n",
      "\n",
      "Crossover log...\n",
      "\n",
      "   44443 DPushes remaining with DInf 0.0000000e+00                 4s\n",
      "     157 DPushes remaining with DInf 1.5199515e-06                 6s\n",
      "       0 DPushes remaining with DInf 0.0000000e+00                 6s\n",
      "Warning: Markowitz tolerance tightened to 0.5\n",
      "\n",
      "       1 PPushes remaining with PInf 0.0000000e+00                 6s\n",
      "       0 PPushes remaining with PInf 0.0000000e+00                 6s\n",
      "\n",
      "  Push phase complete: Pinf 0.0000000e+00, Dinf 5.1983307e-11      6s\n",
      "\n",
      "Iteration    Objective       Primal Inf.    Dual Inf.      Time\n",
      "   18401    2.9149756e+10   0.000000e+00   0.000000e+00      7s\n",
      "\n",
      "Solved with barrier\n",
      "Solved in 18401 iterations and 7.17 seconds (8.14 work units)\n",
      "Optimal objective  2.914975609e+10\n"
     ]
    },
    {
     "name": "stderr",
     "output_type": "stream",
     "text": [
      "INFO:pypsa.linopf:Optimization successful. Objective value: 2.91e+10\n"
     ]
    },
    {
     "data": {
      "text/plain": [
       "('ok', 'optimal')"
      ]
     },
     "execution_count": 28,
     "metadata": {},
     "output_type": "execute_result"
    }
   ],
   "source": [
    "# Optimization\n",
    "from pypsa.linopf import ilopf\n",
    "\n",
    "solver_name=\"gurobi\"\n",
    "\n",
    "n.lopf(n.snapshots, solver_name=solver_name, pyomo=False)"
   ]
  },
  {
   "cell_type": "code",
   "execution_count": 29,
   "metadata": {},
   "outputs": [
    {
     "data": {
      "application/vnd.plotly.v1+json": {
       "config": {
        "linkText": "Export to plot.ly",
        "plotlyServerURL": "https://plot.ly",
        "showLink": false
       },
       "data": [
        {
         "hoverinfo": "text",
         "marker": {
          "color": "cadetblue",
          "size": 10
         },
         "mode": "markers",
         "opacity": 1,
         "text": [
          "Bus onebus"
         ],
         "type": "scatter",
         "x": [
          -11
         ],
         "y": [
          7.79
         ]
        }
       ],
       "layout": {
        "hovermode": "closest",
        "showlegend": false,
        "template": {
         "data": {
          "bar": [
           {
            "error_x": {
             "color": "#2a3f5f"
            },
            "error_y": {
             "color": "#2a3f5f"
            },
            "marker": {
             "line": {
              "color": "#E5ECF6",
              "width": 0.5
             },
             "pattern": {
              "fillmode": "overlay",
              "size": 10,
              "solidity": 0.2
             }
            },
            "type": "bar"
           }
          ],
          "barpolar": [
           {
            "marker": {
             "line": {
              "color": "#E5ECF6",
              "width": 0.5
             },
             "pattern": {
              "fillmode": "overlay",
              "size": 10,
              "solidity": 0.2
             }
            },
            "type": "barpolar"
           }
          ],
          "carpet": [
           {
            "aaxis": {
             "endlinecolor": "#2a3f5f",
             "gridcolor": "white",
             "linecolor": "white",
             "minorgridcolor": "white",
             "startlinecolor": "#2a3f5f"
            },
            "baxis": {
             "endlinecolor": "#2a3f5f",
             "gridcolor": "white",
             "linecolor": "white",
             "minorgridcolor": "white",
             "startlinecolor": "#2a3f5f"
            },
            "type": "carpet"
           }
          ],
          "choropleth": [
           {
            "colorbar": {
             "outlinewidth": 0,
             "ticks": ""
            },
            "type": "choropleth"
           }
          ],
          "contour": [
           {
            "colorbar": {
             "outlinewidth": 0,
             "ticks": ""
            },
            "colorscale": [
             [
              0,
              "#0d0887"
             ],
             [
              0.1111111111111111,
              "#46039f"
             ],
             [
              0.2222222222222222,
              "#7201a8"
             ],
             [
              0.3333333333333333,
              "#9c179e"
             ],
             [
              0.4444444444444444,
              "#bd3786"
             ],
             [
              0.5555555555555556,
              "#d8576b"
             ],
             [
              0.6666666666666666,
              "#ed7953"
             ],
             [
              0.7777777777777778,
              "#fb9f3a"
             ],
             [
              0.8888888888888888,
              "#fdca26"
             ],
             [
              1,
              "#f0f921"
             ]
            ],
            "type": "contour"
           }
          ],
          "contourcarpet": [
           {
            "colorbar": {
             "outlinewidth": 0,
             "ticks": ""
            },
            "type": "contourcarpet"
           }
          ],
          "heatmap": [
           {
            "colorbar": {
             "outlinewidth": 0,
             "ticks": ""
            },
            "colorscale": [
             [
              0,
              "#0d0887"
             ],
             [
              0.1111111111111111,
              "#46039f"
             ],
             [
              0.2222222222222222,
              "#7201a8"
             ],
             [
              0.3333333333333333,
              "#9c179e"
             ],
             [
              0.4444444444444444,
              "#bd3786"
             ],
             [
              0.5555555555555556,
              "#d8576b"
             ],
             [
              0.6666666666666666,
              "#ed7953"
             ],
             [
              0.7777777777777778,
              "#fb9f3a"
             ],
             [
              0.8888888888888888,
              "#fdca26"
             ],
             [
              1,
              "#f0f921"
             ]
            ],
            "type": "heatmap"
           }
          ],
          "heatmapgl": [
           {
            "colorbar": {
             "outlinewidth": 0,
             "ticks": ""
            },
            "colorscale": [
             [
              0,
              "#0d0887"
             ],
             [
              0.1111111111111111,
              "#46039f"
             ],
             [
              0.2222222222222222,
              "#7201a8"
             ],
             [
              0.3333333333333333,
              "#9c179e"
             ],
             [
              0.4444444444444444,
              "#bd3786"
             ],
             [
              0.5555555555555556,
              "#d8576b"
             ],
             [
              0.6666666666666666,
              "#ed7953"
             ],
             [
              0.7777777777777778,
              "#fb9f3a"
             ],
             [
              0.8888888888888888,
              "#fdca26"
             ],
             [
              1,
              "#f0f921"
             ]
            ],
            "type": "heatmapgl"
           }
          ],
          "histogram": [
           {
            "marker": {
             "pattern": {
              "fillmode": "overlay",
              "size": 10,
              "solidity": 0.2
             }
            },
            "type": "histogram"
           }
          ],
          "histogram2d": [
           {
            "colorbar": {
             "outlinewidth": 0,
             "ticks": ""
            },
            "colorscale": [
             [
              0,
              "#0d0887"
             ],
             [
              0.1111111111111111,
              "#46039f"
             ],
             [
              0.2222222222222222,
              "#7201a8"
             ],
             [
              0.3333333333333333,
              "#9c179e"
             ],
             [
              0.4444444444444444,
              "#bd3786"
             ],
             [
              0.5555555555555556,
              "#d8576b"
             ],
             [
              0.6666666666666666,
              "#ed7953"
             ],
             [
              0.7777777777777778,
              "#fb9f3a"
             ],
             [
              0.8888888888888888,
              "#fdca26"
             ],
             [
              1,
              "#f0f921"
             ]
            ],
            "type": "histogram2d"
           }
          ],
          "histogram2dcontour": [
           {
            "colorbar": {
             "outlinewidth": 0,
             "ticks": ""
            },
            "colorscale": [
             [
              0,
              "#0d0887"
             ],
             [
              0.1111111111111111,
              "#46039f"
             ],
             [
              0.2222222222222222,
              "#7201a8"
             ],
             [
              0.3333333333333333,
              "#9c179e"
             ],
             [
              0.4444444444444444,
              "#bd3786"
             ],
             [
              0.5555555555555556,
              "#d8576b"
             ],
             [
              0.6666666666666666,
              "#ed7953"
             ],
             [
              0.7777777777777778,
              "#fb9f3a"
             ],
             [
              0.8888888888888888,
              "#fdca26"
             ],
             [
              1,
              "#f0f921"
             ]
            ],
            "type": "histogram2dcontour"
           }
          ],
          "mesh3d": [
           {
            "colorbar": {
             "outlinewidth": 0,
             "ticks": ""
            },
            "type": "mesh3d"
           }
          ],
          "parcoords": [
           {
            "line": {
             "colorbar": {
              "outlinewidth": 0,
              "ticks": ""
             }
            },
            "type": "parcoords"
           }
          ],
          "pie": [
           {
            "automargin": true,
            "type": "pie"
           }
          ],
          "scatter": [
           {
            "fillpattern": {
             "fillmode": "overlay",
             "size": 10,
             "solidity": 0.2
            },
            "type": "scatter"
           }
          ],
          "scatter3d": [
           {
            "line": {
             "colorbar": {
              "outlinewidth": 0,
              "ticks": ""
             }
            },
            "marker": {
             "colorbar": {
              "outlinewidth": 0,
              "ticks": ""
             }
            },
            "type": "scatter3d"
           }
          ],
          "scattercarpet": [
           {
            "marker": {
             "colorbar": {
              "outlinewidth": 0,
              "ticks": ""
             }
            },
            "type": "scattercarpet"
           }
          ],
          "scattergeo": [
           {
            "marker": {
             "colorbar": {
              "outlinewidth": 0,
              "ticks": ""
             }
            },
            "type": "scattergeo"
           }
          ],
          "scattergl": [
           {
            "marker": {
             "colorbar": {
              "outlinewidth": 0,
              "ticks": ""
             }
            },
            "type": "scattergl"
           }
          ],
          "scattermapbox": [
           {
            "marker": {
             "colorbar": {
              "outlinewidth": 0,
              "ticks": ""
             }
            },
            "type": "scattermapbox"
           }
          ],
          "scatterpolar": [
           {
            "marker": {
             "colorbar": {
              "outlinewidth": 0,
              "ticks": ""
             }
            },
            "type": "scatterpolar"
           }
          ],
          "scatterpolargl": [
           {
            "marker": {
             "colorbar": {
              "outlinewidth": 0,
              "ticks": ""
             }
            },
            "type": "scatterpolargl"
           }
          ],
          "scatterternary": [
           {
            "marker": {
             "colorbar": {
              "outlinewidth": 0,
              "ticks": ""
             }
            },
            "type": "scatterternary"
           }
          ],
          "surface": [
           {
            "colorbar": {
             "outlinewidth": 0,
             "ticks": ""
            },
            "colorscale": [
             [
              0,
              "#0d0887"
             ],
             [
              0.1111111111111111,
              "#46039f"
             ],
             [
              0.2222222222222222,
              "#7201a8"
             ],
             [
              0.3333333333333333,
              "#9c179e"
             ],
             [
              0.4444444444444444,
              "#bd3786"
             ],
             [
              0.5555555555555556,
              "#d8576b"
             ],
             [
              0.6666666666666666,
              "#ed7953"
             ],
             [
              0.7777777777777778,
              "#fb9f3a"
             ],
             [
              0.8888888888888888,
              "#fdca26"
             ],
             [
              1,
              "#f0f921"
             ]
            ],
            "type": "surface"
           }
          ],
          "table": [
           {
            "cells": {
             "fill": {
              "color": "#EBF0F8"
             },
             "line": {
              "color": "white"
             }
            },
            "header": {
             "fill": {
              "color": "#C8D4E3"
             },
             "line": {
              "color": "white"
             }
            },
            "type": "table"
           }
          ]
         },
         "layout": {
          "annotationdefaults": {
           "arrowcolor": "#2a3f5f",
           "arrowhead": 0,
           "arrowwidth": 1
          },
          "autotypenumbers": "strict",
          "coloraxis": {
           "colorbar": {
            "outlinewidth": 0,
            "ticks": ""
           }
          },
          "colorscale": {
           "diverging": [
            [
             0,
             "#8e0152"
            ],
            [
             0.1,
             "#c51b7d"
            ],
            [
             0.2,
             "#de77ae"
            ],
            [
             0.3,
             "#f1b6da"
            ],
            [
             0.4,
             "#fde0ef"
            ],
            [
             0.5,
             "#f7f7f7"
            ],
            [
             0.6,
             "#e6f5d0"
            ],
            [
             0.7,
             "#b8e186"
            ],
            [
             0.8,
             "#7fbc41"
            ],
            [
             0.9,
             "#4d9221"
            ],
            [
             1,
             "#276419"
            ]
           ],
           "sequential": [
            [
             0,
             "#0d0887"
            ],
            [
             0.1111111111111111,
             "#46039f"
            ],
            [
             0.2222222222222222,
             "#7201a8"
            ],
            [
             0.3333333333333333,
             "#9c179e"
            ],
            [
             0.4444444444444444,
             "#bd3786"
            ],
            [
             0.5555555555555556,
             "#d8576b"
            ],
            [
             0.6666666666666666,
             "#ed7953"
            ],
            [
             0.7777777777777778,
             "#fb9f3a"
            ],
            [
             0.8888888888888888,
             "#fdca26"
            ],
            [
             1,
             "#f0f921"
            ]
           ],
           "sequentialminus": [
            [
             0,
             "#0d0887"
            ],
            [
             0.1111111111111111,
             "#46039f"
            ],
            [
             0.2222222222222222,
             "#7201a8"
            ],
            [
             0.3333333333333333,
             "#9c179e"
            ],
            [
             0.4444444444444444,
             "#bd3786"
            ],
            [
             0.5555555555555556,
             "#d8576b"
            ],
            [
             0.6666666666666666,
             "#ed7953"
            ],
            [
             0.7777777777777778,
             "#fb9f3a"
            ],
            [
             0.8888888888888888,
             "#fdca26"
            ],
            [
             1,
             "#f0f921"
            ]
           ]
          },
          "colorway": [
           "#636efa",
           "#EF553B",
           "#00cc96",
           "#ab63fa",
           "#FFA15A",
           "#19d3f3",
           "#FF6692",
           "#B6E880",
           "#FF97FF",
           "#FECB52"
          ],
          "font": {
           "color": "#2a3f5f"
          },
          "geo": {
           "bgcolor": "white",
           "lakecolor": "white",
           "landcolor": "#E5ECF6",
           "showlakes": true,
           "showland": true,
           "subunitcolor": "white"
          },
          "hoverlabel": {
           "align": "left"
          },
          "hovermode": "closest",
          "mapbox": {
           "style": "light"
          },
          "paper_bgcolor": "white",
          "plot_bgcolor": "#E5ECF6",
          "polar": {
           "angularaxis": {
            "gridcolor": "white",
            "linecolor": "white",
            "ticks": ""
           },
           "bgcolor": "#E5ECF6",
           "radialaxis": {
            "gridcolor": "white",
            "linecolor": "white",
            "ticks": ""
           }
          },
          "scene": {
           "xaxis": {
            "backgroundcolor": "#E5ECF6",
            "gridcolor": "white",
            "gridwidth": 2,
            "linecolor": "white",
            "showbackground": true,
            "ticks": "",
            "zerolinecolor": "white"
           },
           "yaxis": {
            "backgroundcolor": "#E5ECF6",
            "gridcolor": "white",
            "gridwidth": 2,
            "linecolor": "white",
            "showbackground": true,
            "ticks": "",
            "zerolinecolor": "white"
           },
           "zaxis": {
            "backgroundcolor": "#E5ECF6",
            "gridcolor": "white",
            "gridwidth": 2,
            "linecolor": "white",
            "showbackground": true,
            "ticks": "",
            "zerolinecolor": "white"
           }
          },
          "shapedefaults": {
           "line": {
            "color": "#2a3f5f"
           }
          },
          "ternary": {
           "aaxis": {
            "gridcolor": "white",
            "linecolor": "white",
            "ticks": ""
           },
           "baxis": {
            "gridcolor": "white",
            "linecolor": "white",
            "ticks": ""
           },
           "bgcolor": "#E5ECF6",
           "caxis": {
            "gridcolor": "white",
            "linecolor": "white",
            "ticks": ""
           }
          },
          "title": {
           "x": 0.05
          },
          "xaxis": {
           "automargin": true,
           "gridcolor": "white",
           "linecolor": "white",
           "ticks": "",
           "title": {
            "standoff": 15
           },
           "zerolinecolor": "white",
           "zerolinewidth": 2
          },
          "yaxis": {
           "automargin": true,
           "gridcolor": "white",
           "linecolor": "white",
           "ticks": "",
           "title": {
            "standoff": 15
           },
           "zerolinecolor": "white",
           "zerolinewidth": 2
          }
         }
        },
        "title": {
         "text": ""
        }
       }
      }
     },
     "metadata": {},
     "output_type": "display_data"
    },
    {
     "data": {
      "text/plain": [
       "{'data': [{'x': Bus\n",
       "   onebus   -11.0\n",
       "   Name: x, dtype: float64,\n",
       "   'y': Bus\n",
       "   onebus    7.79\n",
       "   Name: y, dtype: float64,\n",
       "   'text': Index(['Bus onebus'], dtype='object', name='Bus'),\n",
       "   'type': 'scatter',\n",
       "   'mode': 'markers',\n",
       "   'hoverinfo': 'text',\n",
       "   'opacity': 1,\n",
       "   'marker': {'color': 'cadetblue', 'size': 10}}],\n",
       " 'layout': {'title': '',\n",
       "  'hovermode': 'closest',\n",
       "  'showlegend': False,\n",
       "  'shapes': []}}"
      ]
     },
     "execution_count": 29,
     "metadata": {},
     "output_type": "execute_result"
    }
   ],
   "source": [
    "n.iplot()"
   ]
  }
 ],
 "metadata": {
  "kernelspec": {
   "display_name": "Python 3.9.13 ('pypsa-earth')",
   "language": "python",
   "name": "python3"
  },
  "language_info": {
   "codemirror_mode": {
    "name": "ipython",
    "version": 3
   },
   "file_extension": ".py",
   "mimetype": "text/x-python",
   "name": "python",
   "nbconvert_exporter": "python",
   "pygments_lexer": "ipython3",
   "version": "3.9.13"
  },
  "orig_nbformat": 4,
  "vscode": {
   "interpreter": {
    "hash": "60686b472709b5af7a580af664912c7edc8daf918109af2ab9a56e9417cd6941"
   }
  }
 },
 "nbformat": 4,
 "nbformat_minor": 2
}
