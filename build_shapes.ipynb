{
 "cells": [
  {
   "cell_type": "code",
   "execution_count": 2,
   "metadata": {},
   "outputs": [],
   "source": [
    "import yaml\n",
    "\n",
    "with open(r'config.yaml') as file:\n",
    "        config = yaml.load(file, Loader=yaml.FullLoader)"
   ]
  },
  {
   "cell_type": "code",
   "execution_count": 3,
   "metadata": {},
   "outputs": [],
   "source": [
    "import geojson\n",
    "from geojson import Feature, Point, FeatureCollection\n",
    " \n",
    "my_feature=[]\n",
    "# my_feature=Feature(geometry=Point((-2,55, 89,75)),\n",
    "#                     properties={'temperature':24})\n",
    "\n",
    "my_feature={\n",
    "    \"type\": \"Feature\",\n",
    "    \"geometry\": {\n",
    "        \"type\": \"Point\",\n",
    "        \"coordinates\": [config[\"microgrids_list\"][\"micA\"][\"lon\"], config[\"microgrids_list\"][\"micA\"][\"lat\"]\n",
    "]\n",
    "    },\n",
    "    \"properties\": {\n",
    "        \"subType\": \"Circle\",\n",
    "        \"radius\":[config[\"microgrids_list\"][\"micA\"][\"radius\"]],\n",
    "    }\n",
    "}\n",
    "\n",
    "FeatureCollection = FeatureCollection([my_feature])\n",
    "\n",
    "with open('mydata.geojson', 'w') as f:\n",
    "    f.write(geojson.dumps(FeatureCollection))\n"
   ]
  },
  {
   "cell_type": "code",
   "execution_count": 6,
   "metadata": {},
   "outputs": [],
   "source": [
    "##Nice for viewing on geojson.io\n",
    "\n",
    "# from geojsonio import display\n",
    "# with open('mydata.geojson') as f:\n",
    "#     contents = f.read()\n",
    "#     display(contents)"
   ]
  }
 ],
 "metadata": {
  "kernelspec": {
   "display_name": "Python 3.9.13 ('pypsa-earth')",
   "language": "python",
   "name": "python3"
  },
  "language_info": {
   "codemirror_mode": {
    "name": "ipython",
    "version": 3
   },
   "file_extension": ".py",
   "mimetype": "text/x-python",
   "name": "python",
   "nbconvert_exporter": "python",
   "pygments_lexer": "ipython3",
   "version": "3.9.13"
  },
  "orig_nbformat": 4,
  "vscode": {
   "interpreter": {
    "hash": "60686b472709b5af7a580af664912c7edc8daf918109af2ab9a56e9417cd6941"
   }
  }
 },
 "nbformat": 4,
 "nbformat_minor": 2
}
